{
 "cells": [
  {
   "cell_type": "code",
   "execution_count": 1,
   "metadata": {
    "colab": {
     "base_uri": "https://localhost:8080/"
    },
    "execution": {
     "iopub.execute_input": "2025-04-16T12:52:13.023675Z",
     "iopub.status.busy": "2025-04-16T12:52:13.023287Z",
     "iopub.status.idle": "2025-04-16T12:53:47.110823Z",
     "shell.execute_reply": "2025-04-16T12:53:47.109977Z",
     "shell.execute_reply.started": "2025-04-16T12:52:13.023641Z"
    },
    "id": "BIkvHfptuVWm",
    "outputId": "93317daf-efb5-4ece-dccd-531ce23a1793",
    "trusted": true
   },
   "outputs": [
    {
     "name": "stdout",
     "output_type": "stream",
     "text": [
      "Requirement already satisfied: geopandas in /usr/local/lib/python3.10/dist-packages (0.14.4)\n",
      "Requirement already satisfied: fiona>=1.8.21 in /usr/local/lib/python3.10/dist-packages (from geopandas) (1.10.1)\n",
      "Requirement already satisfied: numpy>=1.22 in /usr/local/lib/python3.10/dist-packages (from geopandas) (1.26.4)\n",
      "Requirement already satisfied: packaging in /usr/local/lib/python3.10/dist-packages (from geopandas) (24.2)\n",
      "Requirement already satisfied: pandas>=1.4.0 in /usr/local/lib/python3.10/dist-packages (from geopandas) (2.2.3)\n",
      "Requirement already satisfied: pyproj>=3.3.0 in /usr/local/lib/python3.10/dist-packages (from geopandas) (3.7.0)\n",
      "Requirement already satisfied: shapely>=1.8.0 in /usr/local/lib/python3.10/dist-packages (from geopandas) (2.0.7)\n",
      "Requirement already satisfied: attrs>=19.2.0 in /usr/local/lib/python3.10/dist-packages (from fiona>=1.8.21->geopandas) (25.1.0)\n",
      "Requirement already satisfied: certifi in /usr/local/lib/python3.10/dist-packages (from fiona>=1.8.21->geopandas) (2025.1.31)\n",
      "Requirement already satisfied: click~=8.0 in /usr/local/lib/python3.10/dist-packages (from fiona>=1.8.21->geopandas) (8.1.7)\n",
      "Requirement already satisfied: click-plugins>=1.0 in /usr/local/lib/python3.10/dist-packages (from fiona>=1.8.21->geopandas) (1.1.1)\n",
      "Requirement already satisfied: cligj>=0.5 in /usr/local/lib/python3.10/dist-packages (from fiona>=1.8.21->geopandas) (0.7.2)\n",
      "Requirement already satisfied: mkl_fft in /usr/local/lib/python3.10/dist-packages (from numpy>=1.22->geopandas) (1.3.8)\n",
      "Requirement already satisfied: mkl_random in /usr/local/lib/python3.10/dist-packages (from numpy>=1.22->geopandas) (1.2.4)\n",
      "Requirement already satisfied: mkl_umath in /usr/local/lib/python3.10/dist-packages (from numpy>=1.22->geopandas) (0.1.1)\n",
      "Requirement already satisfied: mkl in /usr/local/lib/python3.10/dist-packages (from numpy>=1.22->geopandas) (2025.0.1)\n",
      "Requirement already satisfied: tbb4py in /usr/local/lib/python3.10/dist-packages (from numpy>=1.22->geopandas) (2022.0.0)\n",
      "Requirement already satisfied: mkl-service in /usr/local/lib/python3.10/dist-packages (from numpy>=1.22->geopandas) (2.4.1)\n",
      "Requirement already satisfied: python-dateutil>=2.8.2 in /usr/local/lib/python3.10/dist-packages (from pandas>=1.4.0->geopandas) (2.9.0.post0)\n",
      "Requirement already satisfied: pytz>=2020.1 in /usr/local/lib/python3.10/dist-packages (from pandas>=1.4.0->geopandas) (2025.1)\n",
      "Requirement already satisfied: tzdata>=2022.7 in /usr/local/lib/python3.10/dist-packages (from pandas>=1.4.0->geopandas) (2025.1)\n",
      "Requirement already satisfied: six>=1.5 in /usr/local/lib/python3.10/dist-packages (from python-dateutil>=2.8.2->pandas>=1.4.0->geopandas) (1.17.0)\n",
      "Requirement already satisfied: intel-openmp>=2024 in /usr/local/lib/python3.10/dist-packages (from mkl->numpy>=1.22->geopandas) (2024.2.0)\n",
      "Requirement already satisfied: tbb==2022.* in /usr/local/lib/python3.10/dist-packages (from mkl->numpy>=1.22->geopandas) (2022.0.0)\n",
      "Requirement already satisfied: tcmlib==1.* in /usr/local/lib/python3.10/dist-packages (from tbb==2022.*->mkl->numpy>=1.22->geopandas) (1.2.0)\n",
      "Requirement already satisfied: intel-cmplr-lib-rt in /usr/local/lib/python3.10/dist-packages (from mkl_umath->numpy>=1.22->geopandas) (2024.2.0)\n",
      "Requirement already satisfied: intel-cmplr-lib-ur==2024.2.0 in /usr/local/lib/python3.10/dist-packages (from intel-openmp>=2024->mkl->numpy>=1.22->geopandas) (2024.2.0)\n",
      "Requirement already satisfied: cython in /usr/local/lib/python3.10/dist-packages (3.0.11)\n",
      "Collecting git+https://github.com/jcrudy/choldate.git\n",
      "  Cloning https://github.com/jcrudy/choldate.git to /tmp/pip-req-build-roe8hal_\n",
      "  Running command git clone --filter=blob:none --quiet https://github.com/jcrudy/choldate.git /tmp/pip-req-build-roe8hal_\n",
      "  Resolved https://github.com/jcrudy/choldate.git to commit 0d92a523f8da083031faa0eb187a7b0f287afe69\n",
      "  Preparing metadata (setup.py) ... \u001b[?25l\u001b[?25hdone\n",
      "Building wheels for collected packages: choldate\n",
      "  Building wheel for choldate (setup.py) ... \u001b[?25l\u001b[?25hdone\n",
      "  Created wheel for choldate: filename=choldate-0.1.0-cp310-cp310-linux_x86_64.whl size=98543 sha256=a3e7f7de6747605be37669af0ebc871b16ae802033859e3557ee72cb870ab607\n",
      "  Stored in directory: /tmp/pip-ephem-wheel-cache-m3rw0p0v/wheels/25/4a/48/b3236da795d0f0cb2c7d4c2e6d036c0288e7f3eb18a3468259\n",
      "Successfully built choldate\n",
      "Installing collected packages: choldate\n",
      "Successfully installed choldate-0.1.0\n",
      "Collecting knockpy\n",
      "  Downloading knockpy-1.3.2.tar.gz (51.0 MB)\n",
      "\u001b[2K     \u001b[90m━━━━━━━━━━━━━━━━━━━━━━━━━━━━━━━━━━━━━━━━\u001b[0m \u001b[32m51.0/51.0 MB\u001b[0m \u001b[31m30.4 MB/s\u001b[0m eta \u001b[36m0:00:00\u001b[0m:00:01\u001b[0m00:01\u001b[0m\n",
      "\u001b[?25h  Installing build dependencies ... \u001b[?25l\u001b[?25hdone\n",
      "  Getting requirements to build wheel ... \u001b[?25l\u001b[?25hdone\n",
      "  Preparing metadata (pyproject.toml) ... \u001b[?25l\u001b[?25hdone\n",
      "Requirement already satisfied: numpy>=1.19 in /usr/local/lib/python3.10/dist-packages (from knockpy) (1.26.4)\n",
      "Requirement already satisfied: cython>=0.29.21 in /usr/local/lib/python3.10/dist-packages (from knockpy) (3.0.11)\n",
      "Requirement already satisfied: scipy>=1.5.2 in /usr/local/lib/python3.10/dist-packages (from knockpy) (1.13.1)\n",
      "Requirement already satisfied: cvxpy>=1.0.25 in /usr/local/lib/python3.10/dist-packages (from knockpy) (1.6.0)\n",
      "Requirement already satisfied: scikit_learn>=0.22 in /usr/local/lib/python3.10/dist-packages (from knockpy) (1.2.2)\n",
      "Requirement already satisfied: networkx>=2.4 in /usr/local/lib/python3.10/dist-packages (from knockpy) (3.4.2)\n",
      "Requirement already satisfied: tqdm>=4.36.1 in /usr/local/lib/python3.10/dist-packages (from knockpy) (4.67.1)\n",
      "Requirement already satisfied: osqp>=0.6.2 in /usr/local/lib/python3.10/dist-packages (from cvxpy>=1.0.25->knockpy) (0.6.7.post3)\n",
      "Requirement already satisfied: clarabel>=0.5.0 in /usr/local/lib/python3.10/dist-packages (from cvxpy>=1.0.25->knockpy) (0.9.0)\n",
      "Requirement already satisfied: scs>=3.2.4.post1 in /usr/local/lib/python3.10/dist-packages (from cvxpy>=1.0.25->knockpy) (3.2.7)\n",
      "Requirement already satisfied: mkl_fft in /usr/local/lib/python3.10/dist-packages (from numpy>=1.19->knockpy) (1.3.8)\n",
      "Requirement already satisfied: mkl_random in /usr/local/lib/python3.10/dist-packages (from numpy>=1.19->knockpy) (1.2.4)\n",
      "Requirement already satisfied: mkl_umath in /usr/local/lib/python3.10/dist-packages (from numpy>=1.19->knockpy) (0.1.1)\n",
      "Requirement already satisfied: mkl in /usr/local/lib/python3.10/dist-packages (from numpy>=1.19->knockpy) (2025.0.1)\n",
      "Requirement already satisfied: tbb4py in /usr/local/lib/python3.10/dist-packages (from numpy>=1.19->knockpy) (2022.0.0)\n",
      "Requirement already satisfied: mkl-service in /usr/local/lib/python3.10/dist-packages (from numpy>=1.19->knockpy) (2.4.1)\n",
      "Requirement already satisfied: joblib>=1.1.1 in /usr/local/lib/python3.10/dist-packages (from scikit_learn>=0.22->knockpy) (1.4.2)\n",
      "Requirement already satisfied: threadpoolctl>=2.0.0 in /usr/local/lib/python3.10/dist-packages (from scikit_learn>=0.22->knockpy) (3.5.0)\n",
      "Requirement already satisfied: qdldl in /usr/local/lib/python3.10/dist-packages (from osqp>=0.6.2->cvxpy>=1.0.25->knockpy) (0.1.7.post4)\n",
      "Requirement already satisfied: intel-openmp>=2024 in /usr/local/lib/python3.10/dist-packages (from mkl->numpy>=1.19->knockpy) (2024.2.0)\n",
      "Requirement already satisfied: tbb==2022.* in /usr/local/lib/python3.10/dist-packages (from mkl->numpy>=1.19->knockpy) (2022.0.0)\n",
      "Requirement already satisfied: tcmlib==1.* in /usr/local/lib/python3.10/dist-packages (from tbb==2022.*->mkl->numpy>=1.19->knockpy) (1.2.0)\n",
      "Requirement already satisfied: intel-cmplr-lib-rt in /usr/local/lib/python3.10/dist-packages (from mkl_umath->numpy>=1.19->knockpy) (2024.2.0)\n",
      "Requirement already satisfied: intel-cmplr-lib-ur==2024.2.0 in /usr/local/lib/python3.10/dist-packages (from intel-openmp>=2024->mkl->numpy>=1.19->knockpy) (2024.2.0)\n",
      "Building wheels for collected packages: knockpy\n",
      "  Building wheel for knockpy (pyproject.toml) ... \u001b[?25l\u001b[?25hdone\n",
      "  Created wheel for knockpy: filename=knockpy-1.3.2-cp310-cp310-linux_x86_64.whl size=2455256 sha256=84a11cb7e1974ffb1a504a33852626d648621eedf9c75623312ea00516dc5a34\n",
      "  Stored in directory: /root/.cache/pip/wheels/d7/de/9d/5bce0e305cbc3b5018b208173b71a22cb039cb5fada975195c\n",
      "Successfully built knockpy\n",
      "Installing collected packages: knockpy\n",
      "Successfully installed knockpy-1.3.2\n"
     ]
    }
   ],
   "source": [
    "!pip install geopandas\n",
    "!pip install cython\n",
    "!pip install git+https://github.com/jcrudy/choldate.git\n",
    "!pip install knockpy"
   ]
  },
  {
   "cell_type": "code",
   "execution_count": 2,
   "metadata": {
    "execution": {
     "iopub.execute_input": "2025-04-16T12:53:47.112514Z",
     "iopub.status.busy": "2025-04-16T12:53:47.112147Z",
     "iopub.status.idle": "2025-04-16T12:53:57.091961Z",
     "shell.execute_reply": "2025-04-16T12:53:57.091067Z",
     "shell.execute_reply.started": "2025-04-16T12:53:47.112482Z"
    },
    "id": "fU4R8brdsS7o",
    "trusted": true
   },
   "outputs": [],
   "source": [
    "import shap\n",
    "import numpy as np\n",
    "import pandas as pd\n",
    "import xgboost as xgb\n",
    "import geopandas as gpd\n",
    "from tqdm import tqdm\n",
    "import knockpy.knockoffs as kf\n",
    "import matplotlib.pyplot as plt\n",
    "from xgboost import XGBRegressor\n",
    "import matplotlib.colors as colors\n",
    "from knockpy import KnockoffFilter\n",
    "from sklearn.metrics import r2_score\n",
    "from sklearn.model_selection import KFold\n",
    "from sklearn.impute import SimpleImputer\n",
    "from sklearn.metrics import mean_squared_error\n",
    "from sklearn.metrics import mean_squared_error\n",
    "from sklearn.preprocessing import LabelEncoder\n",
    "from sklearn.preprocessing import StandardScaler\n",
    "from knockpy.knockoff_filter import KnockoffFilter\n",
    "from sklearn.inspection import permutation_importance\n",
    "from sklearn.ensemble import RandomForestRegressor, RandomForestClassifier\n",
    "from sklearn.model_selection import RandomizedSearchCV, train_test_split, KFold\n",
    "from sklearn.multioutput import MultiOutputRegressor\n",
    "\n",
    "import warnings\n",
    "warnings.filterwarnings('ignore')"
   ]
  },
  {
   "cell_type": "code",
   "execution_count": null,
   "metadata": {
    "execution": {
     "iopub.execute_input": "2025-04-16T12:53:57.094028Z",
     "iopub.status.busy": "2025-04-16T12:53:57.093651Z",
     "iopub.status.idle": "2025-04-16T12:54:02.407881Z",
     "shell.execute_reply": "2025-04-16T12:54:02.407206Z",
     "shell.execute_reply.started": "2025-04-16T12:53:57.094005Z"
    },
    "id": "UQhQ7vcKsf9S",
    "trusted": true
   },
   "outputs": [],
   "source": [
    "chunk_size = 5000\n",
    "df_chunks = pd.read_csv(\"/kaggle/input/mywork/Copy of Combined_df.csv\", chunksize=chunk_size)\n",
    "df = pd.concat(chunk for chunk in df_chunks)"
   ]
  },
  {
   "cell_type": "code",
   "execution_count": 4,
   "metadata": {
    "execution": {
     "iopub.execute_input": "2025-04-16T12:54:02.409135Z",
     "iopub.status.busy": "2025-04-16T12:54:02.408921Z",
     "iopub.status.idle": "2025-04-16T12:54:02.412613Z",
     "shell.execute_reply": "2025-04-16T12:54:02.411839Z",
     "shell.execute_reply.started": "2025-04-16T12:54:02.409117Z"
    },
    "id": "3DSZXa3FtMI7",
    "trusted": true
   },
   "outputs": [],
   "source": [
    "medical_outcomes = ['o_diabetes_quantity_per_capita', 'o_hypertension_quantity_per_capita','o_asthma_quantity_per_capita','o_depression_quantity_per_capita',\n",
    "                    'o_anxiety_quantity_per_capita', 'o_opioids_quantity_per_capita',\n",
    "                    'o_total_quantity_per_capita'] "
   ]
  },
  {
   "cell_type": "code",
   "execution_count": 5,
   "metadata": {
    "execution": {
     "iopub.execute_input": "2025-04-16T12:54:02.413859Z",
     "iopub.status.busy": "2025-04-16T12:54:02.413581Z",
     "iopub.status.idle": "2025-04-16T12:54:02.476192Z",
     "shell.execute_reply": "2025-04-16T12:54:02.475241Z",
     "shell.execute_reply.started": "2025-04-16T12:54:02.413840Z"
    },
    "id": "JesPCFAVtBuM",
    "trusted": true
   },
   "outputs": [],
   "source": [
    "np.random.seed(42)\n",
    "additional_features_to_drop=['geography_code', 'lsoa21nm', 'geometry','income_category','year','centroid_x','centroid_y','o_ome_per_capita']\n",
    "X = df.drop(columns=medical_outcomes+additional_features_to_drop)\n",
    "y = df[medical_outcomes]"
   ]
  },
  {
   "cell_type": "code",
   "execution_count": null,
   "metadata": {
    "execution": {
     "iopub.execute_input": "2025-04-16T12:54:02.477360Z",
     "iopub.status.busy": "2025-04-16T12:54:02.477079Z",
     "iopub.status.idle": "2025-04-16T12:54:02.482694Z",
     "shell.execute_reply": "2025-04-16T12:54:02.481852Z",
     "shell.execute_reply.started": "2025-04-16T12:54:02.477329Z"
    },
    "id": "egXNFeXL8ATy",
    "trusted": true
   },
   "outputs": [],
   "source": [
    "# Selects important features for each outcome using the knockoff filter method.\n",
    "def apply_knockoff_filter(X, y, fdr=0.2):\n",
    "    scaler = StandardScaler()\n",
    "    np.random.seed(42)\n",
    "    predictors_scaled = scaler.fit_transform(X)\n",
    "    all_selected_features = set()\n",
    "    sampler = kf.GaussianSampler(predictors_scaled)\n",
    "    X_knockoffs = sampler.sample_knockoffs()\n",
    "    knockoff_filter = KnockoffFilter(fstat='lasso')\n",
    "    features_by_outcome = {}\n",
    "\n",
    "    for outcome in y.columns:\n",
    "        selected_features = knockoff_filter.forward(\n",
    "            X=predictors_scaled,\n",
    "            Xk=X_knockoffs,\n",
    "            y=y[outcome],\n",
    "            fdr=fdr\n",
    "        )\n",
    "        selected_features_boolean = selected_features.astype(bool)\n",
    "        selected_feature_names = X.columns[selected_features_boolean]\n",
    "        features_by_outcome[outcome] = selected_feature_names.tolist()\n",
    "        all_selected_features.update(selected_feature_names.tolist())\n",
    "\n",
    "    unique_selected_features = list(all_selected_features)\n",
    "    return features_by_outcome, X"
   ]
  },
  {
   "cell_type": "code",
   "execution_count": null,
   "metadata": {
    "execution": {
     "iopub.execute_input": "2025-04-16T12:54:02.483657Z",
     "iopub.status.busy": "2025-04-16T12:54:02.483456Z",
     "iopub.status.idle": "2025-04-16T12:54:02.499927Z",
     "shell.execute_reply": "2025-04-16T12:54:02.499018Z",
     "shell.execute_reply.started": "2025-04-16T12:54:02.483639Z"
    },
    "id": "VnvoBA848ESb",
    "trusted": true
   },
   "outputs": [],
   "source": [
    "# Finds the best XGBoost settings to predict one outcome using random search.\n",
    "def tune_xgboost(X, y, outcome, use_gpu=True):\n",
    "    if use_gpu:\n",
    "        try:\n",
    "            gpu_check = xgb.XGBRegressor(tree_method='gpu_hist')\n",
    "            print(f\"GPU acceleration enabled for XGBoost - {outcome}\")\n",
    "        except Exception as e:\n",
    "            print(f\"Warning: GPU acceleration not available for {outcome}: {e}\")\n",
    "            use_gpu = False\n",
    "\n",
    "    X_train, X_test, y_train, y_test = train_test_split(\n",
    "        X, y[outcome], test_size=0.1, random_state=42\n",
    "    )\n",
    "\n",
    "    param_grid = {\n",
    "        'n_estimators': [100, 200, 300, 400],\n",
    "        'max_depth': [3, 5, 7, 9],\n",
    "        'learning_rate': [0.01, 0.05, 0.1, 0.2],\n",
    "        'subsample': [0.7, 0.8, 0.9, 1.0],\n",
    "        'colsample_bytree': [0.7, 0.8, 0.9, 1.0]\n",
    "    }\n",
    "\n",
    "    xgb_model = xgb.XGBRegressor(\n",
    "        objective='reg:squarederror',\n",
    "        random_state=42,\n",
    "        tree_method='gpu_hist' if use_gpu else 'hist',\n",
    "        gpu_id=0 if use_gpu else None,\n",
    "        predictor='gpu_predictor' if use_gpu else 'auto'\n",
    "    )\n",
    "\n",
    "    random_search = RandomizedSearchCV(\n",
    "        xgb_model,\n",
    "        param_distributions=param_grid,\n",
    "        n_iter=10,\n",
    "        cv=5,\n",
    "        scoring='r2',\n",
    "        random_state=42,\n",
    "        n_jobs=-1\n",
    "    )\n",
    "\n",
    "    random_search.fit(X_train, y_train)\n",
    "    best_params = random_search.best_params_\n",
    "    return best_params, X_train, X_test, y_train, y_test"
   ]
  },
  {
   "cell_type": "code",
   "execution_count": null,
   "metadata": {
    "execution": {
     "iopub.execute_input": "2025-04-16T12:54:02.502255Z",
     "iopub.status.busy": "2025-04-16T12:54:02.501989Z",
     "iopub.status.idle": "2025-04-16T12:54:02.519681Z",
     "shell.execute_reply": "2025-04-16T12:54:02.518886Z",
     "shell.execute_reply.started": "2025-04-16T12:54:02.502234Z"
    },
    "id": "i5kWRA4s8Ghm",
    "trusted": true
   },
   "outputs": [],
   "source": [
    "# Trains multiple XGBoost models and keeps the top ones based on R² score.  \n",
    "def create_rashomon_set(X_train, X_test, y_train, y_test, best_params, outcome, n_models=10, use_gpu=True):\n",
    "    models = []\n",
    "    performances = []\n",
    "    for seed in range(n_models):\n",
    "        model = xgb.XGBRegressor(\n",
    "            **best_params,\n",
    "            objective='reg:squarederror',\n",
    "            random_state=seed,\n",
    "            tree_method='gpu_hist' if use_gpu else 'hist',\n",
    "            gpu_id=0 if use_gpu else None,\n",
    "            predictor='gpu_predictor' if use_gpu else 'auto'\n",
    "        )\n",
    "        model.fit(X_train, y_train)\n",
    "        y_pred = model.predict(X_test)\n",
    "        r2 = r2_score(y_test, y_pred)\n",
    "        models.append(model)\n",
    "        performances.append(r2)\n",
    "            # Rejection sampling: keeping only top performing models\n",
    "        performance_threshold = np.percentile(performances, 75)\n",
    "        selected_models = [\n",
    "            model for model, perf in zip(models, performances)\n",
    "            if perf >= performance_threshold\n",
    "        ]\n",
    "    \n",
    "    return selected_models"
   ]
  },
  {
   "cell_type": "code",
   "execution_count": 9,
   "metadata": {
    "execution": {
     "iopub.execute_input": "2025-04-16T12:54:02.520804Z",
     "iopub.status.busy": "2025-04-16T12:54:02.520580Z",
     "iopub.status.idle": "2025-04-16T12:54:02.533893Z",
     "shell.execute_reply": "2025-04-16T12:54:02.533139Z",
     "shell.execute_reply.started": "2025-04-16T12:54:02.520786Z"
    },
    "id": "qpxTNTi276Qy",
    "trusted": true
   },
   "outputs": [],
   "source": [
    "def variable_importance_analysis(models, X_test, y_test, y_train, feature_names, outcome, top_n=10):\n",
    "    feature_scores = {\n",
    "        method: pd.DataFrame(index=feature_names)\n",
    "        for method in ['permutation', 'shap', 'loco', 'cmr']\n",
    "    }\n",
    "\n",
    "    for i, model in enumerate(tqdm(models, desc=f\"Processing Rashomon models for {outcome}\")):\n",
    "        print(f\"\\nEvaluating model {i+1}/{len(models)} for {outcome}\")\n",
    "\n",
    "        # 1. Permutation Importance\n",
    "        perm = permutation_importance(\n",
    "            model, X_test, y_test, scoring='r2', n_repeats=10,\n",
    "            random_state=42, n_jobs=-1\n",
    "        )\n",
    "        feature_scores['permutation'][f'model_{i}'] = perm.importances_mean\n",
    "\n",
    "        # 2. SHAP\n",
    "        explainer = shap.Explainer(\n",
    "            model,\n",
    "            X_test.sample(n=min(200, len(X_test)), random_state=42),\n",
    "            feature_perturbation=\"interventional\"\n",
    "        )\n",
    "        shap_values = explainer(X_test)\n",
    "        shap_mean = np.abs(shap_values.values).mean(axis=0)\n",
    "        feature_scores['shap'][f'model_{i}'] = shap_mean\n",
    "\n",
    "        # 3. LOCO\n",
    "        loco_scores = []\n",
    "        base_score = r2_score(y_test, model.predict(X_test))\n",
    "        for col in feature_names:\n",
    "            X_temp = X_test.drop(columns=col)\n",
    "            # Create a new train/test split with the modified X\n",
    "            X_train_temp, X_test_temp, y_train_temp, y_test_temp = train_test_split(\n",
    "                X_filtered.drop(columns=col), y[outcome], test_size=0.1, random_state=42\n",
    "            )\n",
    "            model_temp = xgb.XGBRegressor(**model.get_params())\n",
    "            # Use the appropriate y_train for the modified X_train\n",
    "            model_temp.fit(X_train_temp, y_train_temp)\n",
    "            y_pred_temp = model_temp.predict(X_test_temp)\n",
    "            loco_score = base_score - r2_score(y_test_temp, y_pred_temp)\n",
    "            loco_scores.append(loco_score)\n",
    "        feature_scores['loco'][f'model_{i}'] = loco_scores\n",
    "\n",
    "        # 4. CMR Approximation\n",
    "        cmr_scores = []\n",
    "        for col in feature_names:\n",
    "            X_imputed = X_test.copy()\n",
    "            X_imputed[col] = np.random.permutation(X_imputed[col])\n",
    "            cmr_score = base_score - r2_score(y_test, model.predict(X_imputed))\n",
    "            cmr_scores.append(cmr_score)\n",
    "        feature_scores['cmr'][f'model_{i}'] = cmr_scores\n",
    "\n",
    "    # Combining all methods\n",
    "    mean_ranks = pd.DataFrame(index=feature_names)\n",
    "    for method, df in feature_scores.items():\n",
    "        method_ranks = df.rank(ascending=False).mean(axis=1)\n",
    "        mean_ranks[method] = method_ranks\n",
    "    mean_ranks['mean_rank'] = mean_ranks.mean(axis=1)\n",
    "    top_features = mean_ranks.sort_values('mean_rank').head(top_n)\n",
    "\n",
    "    return top_features, mean_ranks, feature_scores"
   ]
  },
  {
   "cell_type": "code",
   "execution_count": 10,
   "metadata": {
    "execution": {
     "iopub.execute_input": "2025-04-16T12:54:02.534914Z",
     "iopub.status.busy": "2025-04-16T12:54:02.534641Z",
     "iopub.status.idle": "2025-04-16T12:55:17.441951Z",
     "shell.execute_reply": "2025-04-16T12:55:17.440963Z",
     "shell.execute_reply.started": "2025-04-16T12:54:02.534889Z"
    },
    "trusted": true
   },
   "outputs": [],
   "source": [
    "# Process each outcome separately\n",
    "results = {}\n",
    "features_by_outcome, X_original = apply_knockoff_filter(X, y, fdr=0.2)"
   ]
  },
  {
   "cell_type": "code",
   "execution_count": null,
   "metadata": {
    "execution": {
     "iopub.execute_input": "2025-04-16T17:20:58.910328Z",
     "iopub.status.busy": "2025-04-16T17:20:58.909980Z",
     "iopub.status.idle": "2025-04-16T17:22:43.928356Z",
     "shell.execute_reply": "2025-04-16T17:22:43.927509Z",
     "shell.execute_reply.started": "2025-04-16T17:20:58.910301Z"
    },
    "trusted": true
   },
   "outputs": [
    {
     "name": "stdout",
     "output_type": "stream",
     "text": [
      "GPU acceleration enabled for XGBoost - o_total_quantity_per_capita\n"
     ]
    }
   ],
   "source": [
    "## manually giving input as one of the outcome instead of running loop as it taking long hours to execute and at one \n",
    "##point the terminal is unreponsive\n",
    "outcome='o_total_quantity_per_capita'\n",
    "X_filtered = X_original[features_by_outcome[outcome]]\n",
    "# Tune XGBoost\n",
    "best_params, X_train, X_test, y_train, y_test = tune_xgboost(\n",
    "        X_filtered, y, outcome, use_gpu=True\n",
    ")"
   ]
  },
  {
   "cell_type": "code",
   "execution_count": 26,
   "metadata": {
    "colab": {
     "base_uri": "https://localhost:8080/",
     "height": 1000
    },
    "execution": {
     "iopub.execute_input": "2025-04-16T17:22:43.929858Z",
     "iopub.status.busy": "2025-04-16T17:22:43.929558Z",
     "iopub.status.idle": "2025-04-16T17:43:05.845311Z",
     "shell.execute_reply": "2025-04-16T17:43:05.843999Z",
     "shell.execute_reply.started": "2025-04-16T17:22:43.929820Z"
    },
    "id": "680PGrv_8PxZ",
    "outputId": "1758383f-fcf9-43ac-fad9-6994c5abb659",
    "trusted": true
   },
   "outputs": [
    {
     "name": "stderr",
     "output_type": "stream",
     "text": [
      "Processing Rashomon models for o_total_quantity_per_capita:   0%|          | 0/3 [00:00<?, ?it/s]"
     ]
    },
    {
     "name": "stdout",
     "output_type": "stream",
     "text": [
      "\n",
      "Evaluating model 1/3 for o_total_quantity_per_capita\n"
     ]
    },
    {
     "name": "stderr",
     "output_type": "stream",
     "text": [
      "Processing Rashomon models for o_total_quantity_per_capita:  33%|███▎      | 1/3 [06:33<13:06, 393.26s/it]"
     ]
    },
    {
     "name": "stdout",
     "output_type": "stream",
     "text": [
      "\n",
      "Evaluating model 2/3 for o_total_quantity_per_capita\n"
     ]
    },
    {
     "name": "stderr",
     "output_type": "stream",
     "text": [
      "Processing Rashomon models for o_total_quantity_per_capita:  67%|██████▋   | 2/3 [13:08<06:34, 394.63s/it]"
     ]
    },
    {
     "name": "stdout",
     "output_type": "stream",
     "text": [
      "\n",
      "Evaluating model 3/3 for o_total_quantity_per_capita\n"
     ]
    },
    {
     "name": "stderr",
     "output_type": "stream",
     "text": [
      "Processing Rashomon models for o_total_quantity_per_capita: 100%|██████████| 3/3 [19:45<00:00, 395.03s/it]"
     ]
    },
    {
     "name": "stdout",
     "output_type": "stream",
     "text": [
      "\n",
      "Top 10 Most Important Features for o_total_quantity_per_capita:\n",
      "                                           permutation       shap       loco  \\\n",
      "c_percent_10_years_or_more                    3.333333   5.333333   7.000000   \n",
      "c_percent_wfh                                 2.666667   2.666667  12.666667   \n",
      "e_surface_thermal_radiation_downwards_sum     1.000000   1.000000  21.666667   \n",
      "e_no2                                         4.000000   2.333333  15.000000   \n",
      "c_percent_commute_bicycle                     9.000000   4.000000   5.333333   \n",
      "c_percent_commute_bus                        10.000000   8.333333   2.666667   \n",
      "e_evaporation_from_the_top_of_canopy_sum      7.333333   7.000000  11.666667   \n",
      "e_lake_mix_layer_temperature                  7.000000  13.333333   7.333333   \n",
      "e_temperature_2m                              4.666667  13.666667  18.000000   \n",
      "e_surface_runoff_sum                          8.666667   8.000000  16.333333   \n",
      "\n",
      "                                                 cmr  mean_rank  \n",
      "c_percent_10_years_or_more                  3.000000   4.666667  \n",
      "c_percent_wfh                               3.333333   5.333333  \n",
      "e_surface_thermal_radiation_downwards_sum   1.000000   6.166667  \n",
      "e_no2                                       3.666667   6.250000  \n",
      "c_percent_commute_bicycle                   8.333333   6.666667  \n",
      "c_percent_commute_bus                      10.333333   7.833333  \n",
      "e_evaporation_from_the_top_of_canopy_sum    7.666667   8.416667  \n",
      "e_lake_mix_layer_temperature                6.000000   8.416667  \n",
      "e_temperature_2m                            5.000000  10.333333  \n",
      "e_surface_runoff_sum                        9.000000  10.500000  \n"
     ]
    },
    {
     "name": "stderr",
     "output_type": "stream",
     "text": [
      "\n"
     ]
    }
   ],
   "source": [
    "# Create Rashomon set\n",
    "rashomon_models = create_rashomon_set(\n",
    "        X_train, X_test, y_train, y_test, best_params, outcome, use_gpu=True\n",
    ")\n",
    "    # Variable importance analysis\n",
    "top_features, mean_ranks, feature_scores = variable_importance_analysis(\n",
    "        models=rashomon_models,\n",
    "        X_test=X_test,\n",
    "        y_test=y_test,\n",
    "        y_train=y_train,\n",
    "        feature_names=X_filtered.columns.tolist(),\n",
    "        outcome=outcome,\n",
    "        top_n=10\n",
    ")\n",
    "\n",
    "results[outcome] = {\n",
    "        'best_params': best_params,\n",
    "        'models': rashomon_models,\n",
    "        'features': features_by_outcome[outcome],\n",
    "        'top_features': top_features,\n",
    "        'mean_ranks': mean_ranks,\n",
    "        'feature_scores': feature_scores}\n",
    "\n",
    "print(f\"\\nTop 10 Most Important Features for {outcome}:\")\n",
    "print(top_features)"
   ]
  },
  {
   "cell_type": "code",
   "execution_count": 27,
   "metadata": {
    "execution": {
     "iopub.execute_input": "2025-04-16T17:43:05.847448Z",
     "iopub.status.busy": "2025-04-16T17:43:05.847182Z",
     "iopub.status.idle": "2025-04-16T17:43:05.872306Z",
     "shell.execute_reply": "2025-04-16T17:43:05.871638Z",
     "shell.execute_reply.started": "2025-04-16T17:43:05.847425Z"
    },
    "id": "ZSIHUdsk4yS-",
    "trusted": true
   },
   "outputs": [
    {
     "name": "stdout",
     "output_type": "stream",
     "text": [
      "\n",
      "Summary for o_diabetes_quantity_per_capita:\n",
      "Best parameters: {'subsample': 0.7, 'n_estimators': 400, 'max_depth': 9, 'learning_rate': 0.1, 'colsample_bytree': 0.9}\n",
      "Number of models: 3\n",
      "Selected features: ['c_percent_asian', 'c_percent_black', 'c_percent_mixed', 'c_percent_white', 'c_percent_sikh', 'c_percent_jewish', 'c_percent_no_religion', 'c_percent_muslim', 'c_percent_no_central_heating', 'c_percent_wood_heating', 'c_percent_tfw_less_than_2km', 'c_percent_tfw_2km_to_5km', 'c_percent_tfw_60km_and_over', 'c_percent_wfh', 'c_percent_15_hours_or_less_worked', 'c_percent_full-time', 'c_percent_commute_on_foot', 'c_percent_commute_metro_rail', 'c_percent_commute_bus', 'c_percent_commute_bicycle', 'c_percent_commute_train', 'c_percent_student_moved_to_address', 'c_percent_from_within_uk_moved_to_address', 'c_percent_outside_uk_moved_to_address', 'c_percent_occupancy_rating_bedrooms_+2', 'c_percent_occupancy_rating_bedrooms_-2', 'c_percent_occupancy_rating_bedrooms_-1', 'c_percent_occupancy_rating_rooms_+2', 'c_percent_occupancy_rating_rooms_-2', 'c_percent_4._administrative_and_secretarial_occupations', 'c_percent_5._skilled_trades_occupations', 'c_percent_6._caring_leisure_and_other_service_occupations', 'c_percent_7._sales_and_customer_service_occupations', 'c_percent_8._process_plant_and_machine_operatives', 'c_percent_9._elementary_occupations', 'c_percent_2_years_or_more_but_less_than_5_years', 'c_percent_5_years_or_more_but_less_than_10_years', 'c_pop_density', 'c_percent_aged_5_to_9_years', 'c_percent_aged_15_to_19_years', 'c_percent_aged_25_to_29_years', 'c_percent_aged_35_to_39_years', 'c_percent_aged_55_to_59_years', 'c_percent_aged_70_to_74_years', 'c_percent_aged_80_to_84_years', 'c_percent_aged_85_years_and_over', 'c_percent_married_or_in_a_registered_civil_partnership', 'c_percent_married_or_in_a_registered_civil_partnership_married', 'c_percent_separated_but_still_legally_married_or_still_legally_in_a_civil_partnership_separated_but_still_in_a_registered_civil_partnership', 'c_percent_divorced_or_civil_partnership_dissolved_divorced', 'c_percent_widowed_or_surviving_civil_partnership_partner_widowed', 'c_percent_unemployed', 'c_percent_very_good_health', 'c_percent_bad_health', 'c_percent_very_bad_health', 'c_percent___can_speak_english_very_well', 'c_percent_households_not_deprived_in_any_dimension', 'c_net_annual_income', 'e_ozone', 'e_total_aerosol_optical_depth_at_550nm_surface', 'e_particulate_matter_d_less_than_25_um_surface', 'e_dewpoint_temperature_2m', 'e_temperature_2m', 'e_soil_temperature_level_3', 'e_lake_mix_layer_depth', 'e_lake_mix_layer_temperature', 'e_snow_albedo', 'e_snow_cover', 'e_snow_density', 'e_skin_reservoir_content', 'e_volumetric_soil_water_layer_1', 'e_volumetric_soil_water_layer_3', 'e_surface_latent_heat_flux_sum', 'e_surface_solar_radiation_downwards_sum', 'e_surface_thermal_radiation_downwards_sum', 'e_evaporation_from_bare_soil_sum', 'e_evaporation_from_the_top_of_canopy_sum', 'e_evaporation_from_open_water_surfaces_excluding_oceans_sum', 'e_u_component_of_wind_10m', 'e_v_component_of_wind_10m', 'e_surface_pressure', 'e_leaf_area_index_low_vegetation', 'e_surface_runoff_sum', 'e_water', 'e_crops', 'e_shrub_and_scrub', 'e_snow_and_ice']\n",
      "Top 10 features:\n",
      "                                                   permutation       shap  \\\n",
      "e_leaf_area_index_low_vegetation                      3.000000   5.000000   \n",
      "c_net_annual_income                                   6.666667  10.000000   \n",
      "c_percent_8._process_plant_and_machine_operatives     1.000000   1.000000   \n",
      "c_percent_commute_bus                                10.000000   6.333333   \n",
      "c_percent_commute_bicycle                             2.000000   2.666667   \n",
      "c_percent_student_moved_to_address                    9.666667   8.666667   \n",
      "e_lake_mix_layer_depth                               11.666667  16.333333   \n",
      "c_percent_tfw_2km_to_5km                             15.333333  22.000000   \n",
      "c_percent_5._skilled_trades_occupations               9.666667   6.666667   \n",
      "c_percent_asian                                       5.000000   4.000000   \n",
      "\n",
      "                                                        loco        cmr  \\\n",
      "e_leaf_area_index_low_vegetation                   11.333333   3.333333   \n",
      "c_net_annual_income                                 3.000000   6.666667   \n",
      "c_percent_8._process_plant_and_machine_operatives  28.000000   1.000000   \n",
      "c_percent_commute_bus                              10.666667  10.000000   \n",
      "c_percent_commute_bicycle                          33.666667   2.000000   \n",
      "c_percent_student_moved_to_address                 17.000000   9.666667   \n",
      "e_lake_mix_layer_depth                             15.666667  11.333333   \n",
      "c_percent_tfw_2km_to_5km                            3.000000  15.000000   \n",
      "c_percent_5._skilled_trades_occupations            33.333333  10.333333   \n",
      "c_percent_asian                                    52.000000   5.333333   \n",
      "\n",
      "                                                   mean_rank  \n",
      "e_leaf_area_index_low_vegetation                    5.666667  \n",
      "c_net_annual_income                                 6.583333  \n",
      "c_percent_8._process_plant_and_machine_operatives   7.750000  \n",
      "c_percent_commute_bus                               9.250000  \n",
      "c_percent_commute_bicycle                          10.083333  \n",
      "c_percent_student_moved_to_address                 11.250000  \n",
      "e_lake_mix_layer_depth                             13.750000  \n",
      "c_percent_tfw_2km_to_5km                           13.833333  \n",
      "c_percent_5._skilled_trades_occupations            15.000000  \n",
      "c_percent_asian                                    16.583333  \n",
      "\n",
      "Summary for o_hypertension_quantity_per_capita:\n",
      "Best parameters: {'subsample': 0.7, 'n_estimators': 400, 'max_depth': 9, 'learning_rate': 0.1, 'colsample_bytree': 0.9}\n",
      "Number of models: 3\n",
      "Selected features: ['c_percent_white', 'c_percent_commute_bus', 'c_percent_married_or_in_a_registered_civil_partnership', 'e_temperature_2m', 'e_lake_mix_layer_temperature', 'e_snow_density', 'e_surface_net_solar_radiation_sum', 'e_surface_solar_radiation_downwards_sum', 'e_surface_thermal_radiation_downwards_sum', 'e_evaporation_from_the_top_of_canopy_sum', 'e_evaporation_from_open_water_surfaces_excluding_oceans_sum']\n",
      "Top 10 features:\n",
      "                                                    permutation       shap  \\\n",
      "c_percent_white                                        1.000000   1.000000   \n",
      "e_surface_solar_radiation_downwards_sum                2.333333   3.000000   \n",
      "c_percent_commute_bus                                  5.000000   4.666667   \n",
      "e_surface_thermal_radiation_downwards_sum              2.666667   2.333333   \n",
      "e_snow_density                                         4.333333   4.666667   \n",
      "e_lake_mix_layer_temperature                           6.000000   6.000000   \n",
      "e_evaporation_from_the_top_of_canopy_sum               8.333333   7.333333   \n",
      "e_surface_net_solar_radiation_sum                      7.000000   7.666667   \n",
      "e_evaporation_from_open_water_surfaces_excludin...    10.000000   9.000000   \n",
      "c_percent_married_or_in_a_registered_civil_part...    11.000000  11.000000   \n",
      "\n",
      "                                                         loco        cmr  \\\n",
      "c_percent_white                                      1.000000   1.000000   \n",
      "e_surface_solar_radiation_downwards_sum              6.000000   2.333333   \n",
      "c_percent_commute_bus                                2.000000   4.666667   \n",
      "e_surface_thermal_radiation_downwards_sum            9.666667   2.666667   \n",
      "e_snow_density                                       7.333333   5.000000   \n",
      "e_lake_mix_layer_temperature                         6.333333   6.000000   \n",
      "e_evaporation_from_the_top_of_canopy_sum             6.333333   8.000000   \n",
      "e_surface_net_solar_radiation_sum                   10.000000   7.000000   \n",
      "e_evaporation_from_open_water_surfaces_excludin...   4.000000   9.666667   \n",
      "c_percent_married_or_in_a_registered_civil_part...   3.000000  11.000000   \n",
      "\n",
      "                                                    mean_rank  \n",
      "c_percent_white                                      1.000000  \n",
      "e_surface_solar_radiation_downwards_sum              3.416667  \n",
      "c_percent_commute_bus                                4.083333  \n",
      "e_surface_thermal_radiation_downwards_sum            4.333333  \n",
      "e_snow_density                                       5.333333  \n",
      "e_lake_mix_layer_temperature                         6.083333  \n",
      "e_evaporation_from_the_top_of_canopy_sum             7.500000  \n",
      "e_surface_net_solar_radiation_sum                    7.916667  \n",
      "e_evaporation_from_open_water_surfaces_excludin...   8.166667  \n",
      "c_percent_married_or_in_a_registered_civil_part...   9.000000  \n",
      "\n",
      "Summary for o_asthma_quantity_per_capita:\n",
      "Best parameters: {'subsample': 0.7, 'n_estimators': 400, 'max_depth': 9, 'learning_rate': 0.1, 'colsample_bytree': 0.9}\n",
      "Number of models: 3\n",
      "Selected features: ['c_percent_mixed', 'c_percent_sikh', 'c_percent_no_central_heating', 'c_percent_wood_heating', 'c_percent_communal_heating', 'c_percent_tfw_less_than_2km', 'c_percent_tfw_2km_to_5km', 'c_percent_15_hours_or_less_worked', 'c_percent_49_or_more_hours_worked', 'c_percent_commute_on_foot', 'c_percent_commute_metro_rail', 'c_percent_commute_bus', 'c_percent_commute_bicycle', 'c_percent_commute_car', 'c_percent_student_moved_to_address', 'c_percent_from_within_uk_moved_to_address', 'c_percent_occupancy_rating_bedrooms_-1', 'c_percent_occupancy_rating_rooms_0', 'c_percent_4._administrative_and_secretarial_occupations', 'c_percent_5._skilled_trades_occupations', 'c_percent_7._sales_and_customer_service_occupations', 'c_percent_10_years_or_more', 'c_pop_density', 'c_percent_aged_25_to_29_years', 'c_percent_never_married_and_never_registered_a_civil_partnership', 'c_percent_fair_health', 'c_percent_bad_health', 'c_percent__main_language_is_english_', 'c_percent_households_not_deprived_in_any_dimension', 'c_net_annual_income', 'e_no2', 'e_total_aerosol_optical_depth_at_550nm_surface', 'e_particulate_matter_d_less_than_25_um_surface', 'e_ndvi', 'e_temperature_2m', 'e_lake_bottom_temperature', 'e_lake_mix_layer_depth', 'e_snow_cover', 'e_snow_density', 'e_surface_thermal_radiation_downwards_sum', 'e_evaporation_from_bare_soil_sum', 'e_evaporation_from_the_top_of_canopy_sum', 'e_evaporation_from_open_water_surfaces_excluding_oceans_sum', 'e_total_evaporation_sum', 'e_v_component_of_wind_10m', 'e_surface_pressure', 'e_leaf_area_index_high_vegetation', 'e_surface_runoff_sum', 'e_crops', 'e_shrub_and_scrub']\n",
      "Top 10 features:\n",
      "                                   permutation       shap       loco  \\\n",
      "c_net_annual_income                   4.333333   7.333333   1.000000   \n",
      "c_percent_commute_car                 1.666667   1.666667  12.666667   \n",
      "c_percent_commute_bus                 5.000000   4.666667  16.666667   \n",
      "e_leaf_area_index_high_vegetation     8.333333  13.000000   3.000000   \n",
      "c_percent_tfw_2km_to_5km              9.666667  13.333333   3.333333   \n",
      "c_percent_mixed                       3.000000   4.000000  31.666667   \n",
      "e_lake_mix_layer_depth               10.000000  16.000000   8.333333   \n",
      "e_no2                                 1.333333   1.333333  43.000000   \n",
      "c_percent_10_years_or_more            8.000000   7.000000  27.666667   \n",
      "c_percent_commute_metro_rail         13.000000  10.666667  15.666667   \n",
      "\n",
      "                                         cmr  mean_rank  \n",
      "c_net_annual_income                 4.666667   4.333333  \n",
      "c_percent_commute_car               1.666667   4.416667  \n",
      "c_percent_commute_bus               5.333333   7.916667  \n",
      "e_leaf_area_index_high_vegetation   8.333333   8.166667  \n",
      "c_percent_tfw_2km_to_5km            9.666667   9.000000  \n",
      "c_percent_mixed                     3.000000  10.416667  \n",
      "e_lake_mix_layer_depth              9.666667  11.000000  \n",
      "e_no2                               1.333333  11.750000  \n",
      "c_percent_10_years_or_more          8.333333  12.750000  \n",
      "c_percent_commute_metro_rail       15.000000  13.583333  \n",
      "\n",
      "Summary for o_depression_quantity_per_capita:\n",
      "Best parameters: {'subsample': 0.7, 'n_estimators': 400, 'max_depth': 9, 'learning_rate': 0.1, 'colsample_bytree': 0.9}\n",
      "Number of models: 3\n",
      "Selected features: ['c_percent_asian', 'c_percent_black', 'c_percent_mixed', 'c_percent_christian', 'c_percent_no_religion', 'c_percent_no_central_heating', 'c_percent_communal_heating', 'c_percent_tfw_less_than_2km', 'c_percent_tfw_2km_to_5km', 'c_percent_tfw_60km_and_over', 'c_percent_part-time', 'c_percent_15_hours_or_less_worked', 'c_percent_49_or_more_hours_worked', 'c_percent_commute_on_foot', 'c_percent_commute_bus', 'c_percent_commute_bicycle', 'c_percent_from_within_uk_moved_to_address', 'c_percent_occupancy_rating_bedrooms_-1', 'c_percent_4._administrative_and_secretarial_occupations', 'c_percent_6._caring_leisure_and_other_service_occupations', 'c_percent_7._sales_and_customer_service_occupations', 'c_percent_9._elementary_occupations', 'c_pop_density', 'c_percent_aged_25_to_29_years', 'c_percent_aged_30_to_34_years', 'c_percent_aged_35_to_39_years', 'c_percent_aged_60_to_64_years', 'c_percent_never_married_and_never_registered_a_civil_partnership', 'c_percent_married_or_in_a_registered_civil_partnership', 'c_percent_divorced_or_civil_partnership_dissolved', 'c_percent_unemployed', 'c_percent_fair_health', 'c_percent_bad_health', 'c_percent___cannot_speak_english_well', 'c_net_annual_income', 'e_no2', 'e_ozone', 'e_total_aerosol_optical_depth_at_550nm_surface', 'e_particulate_matter_d_less_than_25_um_surface', 'e_ndvi', 'e_temperature_2m', 'e_soil_temperature_level_1', 'e_lake_bottom_temperature', 'e_lake_mix_layer_depth', 'e_lake_mix_layer_temperature', 'e_snow_density', 'e_snow_depth', 'e_volumetric_soil_water_layer_1', 'e_volumetric_soil_water_layer_3', 'e_surface_latent_heat_flux_sum', 'e_surface_net_solar_radiation_sum', 'e_surface_thermal_radiation_downwards_sum', 'e_evaporation_from_bare_soil_sum', 'e_evaporation_from_the_top_of_canopy_sum', 'e_evaporation_from_open_water_surfaces_excluding_oceans_sum', 'e_u_component_of_wind_10m', 'e_v_component_of_wind_10m', 'e_surface_pressure', 'e_total_precipitation_sum', 'e_leaf_area_index_low_vegetation', 'e_surface_runoff_sum', 'e_shrub_and_scrub', 'e_built', 'e_snow_and_ice']\n",
      "Top 10 features:\n",
      "                                           permutation       shap       loco  \\\n",
      "c_net_annual_income                           5.000000   7.000000   1.333333   \n",
      "c_percent_no_religion                         5.666667   5.000000  15.000000   \n",
      "c_percent_asian                               3.000000   4.000000  26.333333   \n",
      "c_percent_commute_bus                         8.666667   6.666667  14.333333   \n",
      "c_percent_mixed                               2.000000   2.000000  33.000000   \n",
      "e_leaf_area_index_low_vegetation              7.333333  20.666667   3.333333   \n",
      "e_surface_thermal_radiation_downwards_sum     4.333333   3.000000  31.666667   \n",
      "c_percent_commute_bicycle                    13.000000  13.666667  19.333333   \n",
      "e_lake_mix_layer_depth                       11.333333  17.666667  21.666667   \n",
      "e_no2                                         1.000000   1.000000  62.666667   \n",
      "\n",
      "                                                 cmr  mean_rank  \n",
      "c_net_annual_income                         4.666667   4.500000  \n",
      "c_percent_no_religion                       6.000000   7.916667  \n",
      "c_percent_asian                             3.000000   9.083333  \n",
      "c_percent_commute_bus                       8.333333   9.500000  \n",
      "c_percent_mixed                             2.000000   9.750000  \n",
      "e_leaf_area_index_low_vegetation            8.000000   9.833333  \n",
      "e_surface_thermal_radiation_downwards_sum   4.333333  10.833333  \n",
      "c_percent_commute_bicycle                  12.000000  14.500000  \n",
      "e_lake_mix_layer_depth                     11.000000  15.416667  \n",
      "e_no2                                       1.000000  16.416667  \n",
      "\n",
      "Summary for o_anxiety_quantity_per_capita:\n",
      "Best parameters: {'subsample': 0.7, 'n_estimators': 400, 'max_depth': 9, 'learning_rate': 0.1, 'colsample_bytree': 0.9}\n",
      "Number of models: 3\n",
      "Selected features: ['c_percent_asian', 'c_percent_mixed', 'c_percent_christian', 'c_percent_no_religion', 'c_percent_no_central_heating', 'c_percent_communal_heating', 'c_percent_tfw_less_than_2km', 'c_percent_tfw_2km_to_5km', 'c_percent_tfw_60km_and_over', 'c_percent_15_hours_or_less_worked', 'c_percent_49_or_more_hours_worked', 'c_percent_full-time', 'c_percent_commute_on_foot', 'c_percent_commute_bus', 'c_percent_commute_bicycle', 'c_percent_from_within_uk_moved_to_address', 'c_percent_4._administrative_and_secretarial_occupations', 'c_percent_7._sales_and_customer_service_occupations', 'c_percent_10_years_or_more', 'c_pop_density', 'c_percent_aged_5_to_9_years', 'c_percent_aged_25_to_29_years', 'c_percent_aged_35_to_39_years', 'c_percent_aged_80_to_84_years', 'c_percent_never_married_and_never_registered_a_civil_partnership', 'c_percent_married_or_in_a_registered_civil_partnership', 'c_percent_unemployed', 'c_percent_fair_health', 'c_percent_bad_health', 'c_net_annual_income', 'e_no2', 'e_ozone', 'e_particulate_matter_d_less_than_25_um_surface', 'e_ndvi', 'e_temperature_2m', 'e_lake_bottom_temperature', 'e_lake_mix_layer_depth', 'e_lake_mix_layer_temperature', 'e_snow_cover', 'e_snow_density', 'e_volumetric_soil_water_layer_1', 'e_surface_thermal_radiation_downwards_sum', 'e_evaporation_from_bare_soil_sum', 'e_evaporation_from_the_top_of_canopy_sum', 'e_evaporation_from_open_water_surfaces_excluding_oceans_sum', 'e_total_evaporation_sum', 'e_v_component_of_wind_10m', 'e_surface_pressure', 'e_leaf_area_index_low_vegetation', 'e_surface_runoff_sum', 'e_crops', 'e_shrub_and_scrub']\n",
      "Top 10 features:\n",
      "                                           permutation       shap       loco  \\\n",
      "c_net_annual_income                           4.333333   5.000000   1.000000   \n",
      "c_percent_10_years_or_more                    1.000000   1.000000  18.000000   \n",
      "c_percent_mixed                               2.666667   3.333333  17.666667   \n",
      "e_leaf_area_index_low_vegetation              6.000000  19.000000   2.000000   \n",
      "c_percent_commute_bicycle                    10.000000  10.000000  13.000000   \n",
      "e_surface_thermal_radiation_downwards_sum     4.666667   3.666667  33.333333   \n",
      "c_percent_tfw_less_than_2km                  13.333333   6.666667  18.000000   \n",
      "e_lake_mix_layer_depth                       11.000000  20.333333  11.000000   \n",
      "e_no2                                         2.333333   2.000000  48.666667   \n",
      "c_percent_commute_bus                        11.666667  14.333333  18.666667   \n",
      "\n",
      "                                                 cmr  mean_rank  \n",
      "c_net_annual_income                         4.333333   3.666667  \n",
      "c_percent_10_years_or_more                  1.000000   5.250000  \n",
      "c_percent_mixed                             2.666667   6.583333  \n",
      "e_leaf_area_index_low_vegetation            6.000000   8.250000  \n",
      "c_percent_commute_bicycle                  10.000000  10.750000  \n",
      "e_surface_thermal_radiation_downwards_sum   4.666667  11.583333  \n",
      "c_percent_tfw_less_than_2km                11.333333  12.333333  \n",
      "e_lake_mix_layer_depth                     11.000000  13.333333  \n",
      "e_no2                                       2.333333  13.833333  \n",
      "c_percent_commute_bus                      11.000000  13.916667  \n",
      "\n",
      "Summary for o_opioids_quantity_per_capita:\n",
      "Best parameters: {'subsample': 0.7, 'n_estimators': 400, 'max_depth': 9, 'learning_rate': 0.1, 'colsample_bytree': 0.9}\n",
      "Number of models: 3\n",
      "Selected features: ['c_percent_asian', 'c_percent_mixed', 'c_percent_christian', 'c_percent_no_religion', 'c_percent_tfw_less_than_2km', 'c_percent_full-time', 'c_percent_commute_on_foot', 'c_percent_commute_metro_rail', 'c_percent_commute_bus', 'c_percent_2._professional_occupations', 'c_percent_7._sales_and_customer_service_occupations', 'c_percent_married_or_in_a_registered_civil_partnership_married', 'c_percent_unemployed', 'c_percent__main_language_is_english_', 'c_percent___can_speak_english_very_well', 'c_percent_households_deprived_in_three_dimensions', 'c_net_annual_income', 'e_no2', 'e_total_aerosol_optical_depth_at_550nm_surface', 'e_dewpoint_temperature_2m', 'e_soil_temperature_level_1', 'e_lake_bottom_temperature', 'e_lake_mix_layer_depth', 'e_lake_mix_layer_temperature', 'e_lake_total_layer_temperature', 'e_snow_density', 'e_skin_reservoir_content', 'e_volumetric_soil_water_layer_1', 'e_volumetric_soil_water_layer_3', 'e_surface_thermal_radiation_downwards_sum', 'e_evaporation_from_bare_soil_sum', 'e_evaporation_from_the_top_of_canopy_sum', 'e_evaporation_from_open_water_surfaces_excluding_oceans_sum', 'e_u_component_of_wind_10m', 'e_v_component_of_wind_10m']\n",
      "Top 10 features:\n",
      "                                                permutation       shap  \\\n",
      "c_net_annual_income                                2.666667   4.000000   \n",
      "c_percent_2._professional_occupations              6.000000   4.000000   \n",
      "e_surface_thermal_radiation_downwards_sum          1.000000   1.000000   \n",
      "c_percent_mixed                                    4.666667   4.000000   \n",
      "c_percent_commute_metro_rail                       9.000000   7.333333   \n",
      "e_no2                                              3.333333   2.000000   \n",
      "e_lake_mix_layer_depth                             7.666667  11.333333   \n",
      "e_total_aerosol_optical_depth_at_550nm_surface     3.333333   6.000000   \n",
      "e_evaporation_from_the_top_of_canopy_sum          12.333333  12.666667   \n",
      "c_percent___can_speak_english_very_well           10.666667  14.000000   \n",
      "\n",
      "                                                     loco        cmr  \\\n",
      "c_net_annual_income                              1.000000   3.000000   \n",
      "c_percent_2._professional_occupations            7.666667   6.000000   \n",
      "e_surface_thermal_radiation_downwards_sum       29.333333   1.000000   \n",
      "c_percent_mixed                                 20.333333   4.666667   \n",
      "c_percent_commute_metro_rail                     9.666667   9.000000   \n",
      "e_no2                                           27.333333   3.333333   \n",
      "e_lake_mix_layer_depth                          12.000000   8.666667   \n",
      "e_total_aerosol_optical_depth_at_550nm_surface  28.000000   3.000000   \n",
      "e_evaporation_from_the_top_of_canopy_sum         7.666667  11.000000   \n",
      "c_percent___can_speak_english_very_well          9.333333  11.333333   \n",
      "\n",
      "                                                mean_rank  \n",
      "c_net_annual_income                              2.666667  \n",
      "c_percent_2._professional_occupations            5.916667  \n",
      "e_surface_thermal_radiation_downwards_sum        8.083333  \n",
      "c_percent_mixed                                  8.416667  \n",
      "c_percent_commute_metro_rail                     8.750000  \n",
      "e_no2                                            9.000000  \n",
      "e_lake_mix_layer_depth                           9.916667  \n",
      "e_total_aerosol_optical_depth_at_550nm_surface  10.083333  \n",
      "e_evaporation_from_the_top_of_canopy_sum        10.916667  \n",
      "c_percent___can_speak_english_very_well         11.333333  \n",
      "\n",
      "Summary for o_total_quantity_per_capita:\n",
      "Best parameters: {'subsample': 0.7, 'n_estimators': 400, 'max_depth': 9, 'learning_rate': 0.1, 'colsample_bytree': 0.9}\n",
      "Number of models: 3\n",
      "Selected features: ['c_percent_tfw_less_than_2km', 'c_percent_tfw_2km_to_5km', 'c_percent_wfh', 'c_percent_commute_on_foot', 'c_percent_commute_bus', 'c_percent_commute_bicycle', 'c_percent_4._administrative_and_secretarial_occupations', 'c_percent_10_years_or_more', 'c_percent_fair_health', 'c_percent_bad_health', 'e_no2', 'e_ozone', 'e_particulate_matter_d_less_than_25_um_surface', 'e_temperature_2m', 'e_lake_bottom_temperature', 'e_lake_mix_layer_temperature', 'e_snow_density', 'e_surface_thermal_radiation_downwards_sum', 'e_evaporation_from_the_top_of_canopy_sum', 'e_evaporation_from_open_water_surfaces_excluding_oceans_sum', 'e_v_component_of_wind_10m', 'e_surface_runoff_sum']\n",
      "Top 10 features:\n",
      "                                           permutation       shap       loco  \\\n",
      "c_percent_10_years_or_more                    3.333333   5.333333   7.000000   \n",
      "c_percent_wfh                                 2.666667   2.666667  12.666667   \n",
      "e_surface_thermal_radiation_downwards_sum     1.000000   1.000000  21.666667   \n",
      "e_no2                                         4.000000   2.333333  15.000000   \n",
      "c_percent_commute_bicycle                     9.000000   4.000000   5.333333   \n",
      "c_percent_commute_bus                        10.000000   8.333333   2.666667   \n",
      "e_evaporation_from_the_top_of_canopy_sum      7.333333   7.000000  11.666667   \n",
      "e_lake_mix_layer_temperature                  7.000000  13.333333   7.333333   \n",
      "e_temperature_2m                              4.666667  13.666667  18.000000   \n",
      "e_surface_runoff_sum                          8.666667   8.000000  16.333333   \n",
      "\n",
      "                                                 cmr  mean_rank  \n",
      "c_percent_10_years_or_more                  3.000000   4.666667  \n",
      "c_percent_wfh                               3.333333   5.333333  \n",
      "e_surface_thermal_radiation_downwards_sum   1.000000   6.166667  \n",
      "e_no2                                       3.666667   6.250000  \n",
      "c_percent_commute_bicycle                   8.333333   6.666667  \n",
      "c_percent_commute_bus                      10.333333   7.833333  \n",
      "e_evaporation_from_the_top_of_canopy_sum    7.666667   8.416667  \n",
      "e_lake_mix_layer_temperature                6.000000   8.416667  \n",
      "e_temperature_2m                            5.000000  10.333333  \n",
      "e_surface_runoff_sum                        9.000000  10.500000  \n"
     ]
    }
   ],
   "source": [
    "# Print overall summary\n",
    "for outcome, result in results.items():\n",
    "    print(f\"\\nSummary for {outcome}:\")\n",
    "    print(f\"Best parameters: {result['best_params']}\")\n",
    "    print(f\"Number of models: {len(result['models'])}\")\n",
    "    print(f\"Selected features: {result['features']}\")\n",
    "    print(f\"Top 10 features:\\n{result['top_features']}\")"
   ]
  },
  {
   "cell_type": "code",
   "execution_count": null,
   "metadata": {
    "execution": {
     "iopub.execute_input": "2025-04-16T17:52:36.618190Z",
     "iopub.status.busy": "2025-04-16T17:52:36.617858Z",
     "iopub.status.idle": "2025-04-16T17:52:36.628845Z",
     "shell.execute_reply": "2025-04-16T17:52:36.628098Z",
     "shell.execute_reply.started": "2025-04-16T17:52:36.618132Z"
    },
    "trusted": true
   },
   "outputs": [
    {
     "name": "stdout",
     "output_type": "stream",
     "text": [
      "File saved to: /kaggle/working/model_results.json\n",
      "File size: 27447 bytes\n"
     ]
    }
   ],
   "source": [
    "import json\n",
    "import os\n",
    "# Convert any numpy arrays or non-serializable objects to lists\n",
    "def make_serializable(obj):\n",
    "    if hasattr(obj, 'tolist'):\n",
    "        return obj.tolist()\n",
    "    return obj\n",
    "\n",
    "# Process the dictionary to make it JSON serializable\n",
    "serializable_results = {}\n",
    "for outcome, result in results.items():\n",
    "    serializable_results[outcome] = {\n",
    "        'best_params': result['best_params'],\n",
    "        'features': result['features'],\n",
    "        'top_features': result['top_features'].to_dict() if hasattr(result['top_features'], 'to_dict') else make_serializable(result['top_features'])\n",
    "        \n",
    "    }\n",
    "\n",
    "\n",
    "output_path = '/kaggle/working/model_results.json'\n",
    "with open(output_path, 'w') as f:\n",
    "    json.dump(serializable_results, f)\n",
    "\n",
    "print(f\"File saved to: {output_path}\")\n",
    "\n",
    "\n",
    "if os.path.exists(output_path):\n",
    "    print(f\"File size: {os.path.getsize(output_path)} bytes\")"
   ]
  },
  {
   "cell_type": "code",
   "execution_count": null,
   "metadata": {
    "execution": {
     "iopub.execute_input": "2025-04-16T17:54:25.201535Z",
     "iopub.status.busy": "2025-04-16T17:54:25.201229Z",
     "iopub.status.idle": "2025-04-16T17:54:25.218803Z",
     "shell.execute_reply": "2025-04-16T17:54:25.217965Z",
     "shell.execute_reply.started": "2025-04-16T17:54:25.201514Z"
    },
    "trusted": true
   },
   "outputs": [
    {
     "name": "stdout",
     "output_type": "stream",
     "text": [
      "Saved o_diabetes_quantity_per_capita top features to: /kaggle/working/o_diabetes_quantity_per_capita_top_features.csv\n",
      "Saved o_hypertension_quantity_per_capita top features to: /kaggle/working/o_hypertension_quantity_per_capita_top_features.csv\n",
      "Saved o_asthma_quantity_per_capita top features to: /kaggle/working/o_asthma_quantity_per_capita_top_features.csv\n",
      "Saved o_depression_quantity_per_capita top features to: /kaggle/working/o_depression_quantity_per_capita_top_features.csv\n",
      "Saved o_anxiety_quantity_per_capita top features to: /kaggle/working/o_anxiety_quantity_per_capita_top_features.csv\n",
      "Saved o_opioids_quantity_per_capita top features to: /kaggle/working/o_opioids_quantity_per_capita_top_features.csv\n",
      "Saved o_total_quantity_per_capita top features to: /kaggle/working/o_total_quantity_per_capita_top_features.csv\n"
     ]
    }
   ],
   "source": [
    "# Save each top features DataFrame separately\n",
    "for outcome, result in results.items():\n",
    "    \n",
    "    output_path = f'/kaggle/working/{outcome}_top_features.csv'\n",
    "    result['top_features'].to_csv(output_path)\n",
    "    print(f\"Saved {outcome} top features to: {output_path}\")"
   ]
  },
  {
   "cell_type": "code",
   "execution_count": null,
   "metadata": {
    "trusted": true
   },
   "outputs": [],
   "source": []
  }
 ],
 "metadata": {
  "accelerator": "GPU",
  "colab": {
   "gpuType": "T4",
   "provenance": []
  },
  "kaggle": {
   "accelerator": "nvidiaTeslaT4",
   "dataSources": [
    {
     "datasetId": 7086169,
     "sourceId": 11328205,
     "sourceType": "datasetVersion"
    }
   ],
   "dockerImageVersionId": 30919,
   "isGpuEnabled": true,
   "isInternetEnabled": true,
   "language": "python",
   "sourceType": "notebook"
  },
  "kernelspec": {
   "display_name": "Python 3",
   "language": "python",
   "name": "python3"
  },
  "language_info": {
   "codemirror_mode": {
    "name": "ipython",
    "version": 3
   },
   "file_extension": ".py",
   "mimetype": "text/x-python",
   "name": "python",
   "nbconvert_exporter": "python",
   "pygments_lexer": "ipython3",
   "version": "3.10.12"
  }
 },
 "nbformat": 4,
 "nbformat_minor": 4
}
