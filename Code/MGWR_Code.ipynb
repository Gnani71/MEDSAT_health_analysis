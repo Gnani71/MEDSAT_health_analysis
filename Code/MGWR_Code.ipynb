{
 "cells": [
  {
   "cell_type": "code",
   "execution_count": null,
   "metadata": {
    "_cell_guid": "b1076dfc-b9ad-4769-8c92-a6c4dae69d19",
    "_uuid": "8f2839f25d086af736a60e9eeb907d3b93b6e0e5",
    "execution": {
     "iopub.execute_input": "2025-05-10T21:07:01.214944Z",
     "iopub.status.busy": "2025-05-10T21:07:01.214654Z",
     "iopub.status.idle": "2025-05-10T21:07:01.245055Z",
     "shell.execute_reply": "2025-05-10T21:07:01.244476Z",
     "shell.execute_reply.started": "2025-05-10T21:07:01.214918Z"
    },
    "trusted": true
   },
   "outputs": [
    {
     "name": "stdout",
     "output_type": "stream",
     "text": [
      "/kaggle/input/mywork/Copy of Combined_df.csv\n",
      "/kaggle/input/capstone-top10/o_hypertension_quantity_per_capita_top_features.csv\n",
      "/kaggle/input/capstone-top10/o_total_quantity_per_capita_top_features.csv\n",
      "/kaggle/input/capstone-top10/o_opioids_quantity_per_capita_top_features.csv\n",
      "/kaggle/input/capstone-top10/o_depression_quantity_per_capita_top_features.csv\n",
      "/kaggle/input/capstone-top10/o_anxiety_quantity_per_capita_top_features.csv\n",
      "/kaggle/input/capstone-top10/o_diabetes_quantity_per_capita_top_features.csv\n",
      "/kaggle/input/capstone-top10/o_asthma_quantity_per_capita_top_features.csv\n",
      "/kaggle/input/capstone-geojson/2019_spatial_raw_master.geojson\n",
      "/kaggle/input/capstone-geojson/2020_spatial_raw_master.geojson\n"
     ]
    }
   ],
   "source": [
    "import numpy as np \n",
    "import pandas as pd \n",
    "import os\n",
    "for dirname, _, filenames in os.walk('/kaggle/input'):\n",
    "    for filename in filenames:\n",
    "        print(os.path.join(dirname, filename))"
   ]
  },
  {
   "cell_type": "code",
   "execution_count": 52,
   "metadata": {
    "execution": {
     "iopub.execute_input": "2025-05-10T21:09:37.035131Z",
     "iopub.status.busy": "2025-05-10T21:09:37.034857Z",
     "iopub.status.idle": "2025-05-10T21:09:37.039545Z",
     "shell.execute_reply": "2025-05-10T21:09:37.038972Z",
     "shell.execute_reply.started": "2025-05-10T21:09:37.035110Z"
    },
    "trusted": true
   },
   "outputs": [],
   "source": [
    "import shap\n",
    "import numpy as np\n",
    "import pandas as pd\n",
    "import glob\n",
    "import os\n",
    "import geopandas as gpd\n",
    "from patsy import bs\n",
    "import statsmodels.formula.api as smf\n",
    "from patsy import bs, EvalEnvironment\n",
    "from patsy.builtins import Q\n",
    "import re\n",
    "\n",
    "import warnings\n",
    "warnings.filterwarnings('ignore')"
   ]
  },
  {
   "cell_type": "code",
   "execution_count": null,
   "metadata": {
    "execution": {
     "iopub.execute_input": "2025-05-10T21:09:41.712424Z",
     "iopub.status.busy": "2025-05-10T21:09:41.711913Z",
     "iopub.status.idle": "2025-05-10T21:09:45.293534Z",
     "shell.execute_reply": "2025-05-10T21:09:45.292739Z",
     "shell.execute_reply.started": "2025-05-10T21:09:41.712401Z"
    },
    "trusted": true
   },
   "outputs": [],
   "source": [
    "chunk_size = 5000\n",
    "df_chunks = pd.read_csv(\"/kaggle/input/mywork/Copy of Combined_df.csv\", chunksize=chunk_size)\n",
    "df = pd.concat(chunk for chunk in df_chunks)"
   ]
  },
  {
   "cell_type": "code",
   "execution_count": 55,
   "metadata": {
    "execution": {
     "iopub.execute_input": "2025-05-10T21:13:52.077950Z",
     "iopub.status.busy": "2025-05-10T21:13:52.077656Z",
     "iopub.status.idle": "2025-05-10T21:15:28.753970Z",
     "shell.execute_reply": "2025-05-10T21:15:28.753395Z",
     "shell.execute_reply.started": "2025-05-10T21:13:52.077929Z"
    },
    "trusted": true
   },
   "outputs": [],
   "source": [
    "data = gpd.read_file('/kaggle/input/capstone-geojson/2019_spatial_raw_master.geojson')\n",
    "data.set_index('geography code', inplace=True)\n",
    "data1 = gpd.read_file('/kaggle/input/capstone-geojson/2020_spatial_raw_master.geojson')\n",
    "data1.set_index('geography code', inplace=True)\n",
    "# Concatenate the two GeoDataFrames\n",
    "df_geo = pd.concat([data, data1])"
   ]
  },
  {
   "cell_type": "code",
   "execution_count": 58,
   "metadata": {
    "execution": {
     "iopub.execute_input": "2025-05-10T21:16:49.585139Z",
     "iopub.status.busy": "2025-05-10T21:16:49.584841Z",
     "iopub.status.idle": "2025-05-10T21:16:49.589008Z",
     "shell.execute_reply": "2025-05-10T21:16:49.588265Z",
     "shell.execute_reply.started": "2025-05-10T21:16:49.585116Z"
    },
    "trusted": true
   },
   "outputs": [],
   "source": [
    "medical_outcomes = ['o_diabetes_quantity_per_capita', 'o_hypertension_quantity_per_capita','o_asthma_quantity_per_capita', 'o_depression_quantity_per_capita','o_anxiety_quantity_per_capita', 'o_opioids_quantity_per_capita','o_total_quantity_per_capita']"
   ]
  },
  {
   "cell_type": "code",
   "execution_count": null,
   "metadata": {
    "execution": {
     "iopub.execute_input": "2025-05-10T21:17:11.249123Z",
     "iopub.status.busy": "2025-05-10T21:17:11.248862Z",
     "iopub.status.idle": "2025-05-10T21:17:11.280893Z",
     "shell.execute_reply": "2025-05-10T21:17:11.280141Z",
     "shell.execute_reply.started": "2025-05-10T21:17:11.249104Z"
    },
    "trusted": true
   },
   "outputs": [
    {
     "name": "stdout",
     "output_type": "stream",
     "text": [
      "                        lsoa21nm              lad_name\n",
      "0            City of London 001A        City of London\n",
      "1            City of London 001B        City of London\n",
      "2            City of London 001C        City of London\n",
      "3            City of London 001E        City of London\n",
      "4      Barking and Dagenham 016A  Barking and Dagenham\n",
      "...                          ...                   ...\n",
      "67503   Vale of White Horse 014H   Vale of White Horse\n",
      "67504   Vale of White Horse 015G   Vale of White Horse\n",
      "67505   Vale of White Horse 015H   Vale of White Horse\n",
      "67506   Vale of White Horse 015I   Vale of White Horse\n",
      "67507      West Oxfordshire 004H      West Oxfordshire\n",
      "\n",
      "[67508 rows x 2 columns]\n"
     ]
    }
   ],
   "source": [
    "# Gets LAD name by removing the last word from LSOA name.\n",
    "df['lad_name'] = df['lsoa21nm'].apply(lambda x: x.rsplit(' ', 1)[0])\n",
    "print(df[['lsoa21nm', 'lad_name']])"
   ]
  },
  {
   "cell_type": "code",
   "execution_count": null,
   "metadata": {
    "execution": {
     "iopub.execute_input": "2025-05-10T21:17:15.207054Z",
     "iopub.status.busy": "2025-05-10T21:17:15.206743Z",
     "iopub.status.idle": "2025-05-10T21:17:15.211614Z",
     "shell.execute_reply": "2025-05-10T21:17:15.210845Z",
     "shell.execute_reply.started": "2025-05-10T21:17:15.207033Z"
    },
    "trusted": true
   },
   "outputs": [],
   "source": [
    "csv_dir = \"/kaggle/input/capstone-top10\"\n",
    "csv_files = glob.glob(os.path.join(csv_dir, \"*.csv\"))  # like 'diabetes_top10.csv'\n",
    "top_predictors = {}"
   ]
  },
  {
   "cell_type": "code",
   "execution_count": null,
   "metadata": {
    "execution": {
     "iopub.execute_input": "2025-05-10T21:17:19.747777Z",
     "iopub.status.busy": "2025-05-10T21:17:19.747318Z",
     "iopub.status.idle": "2025-05-10T21:17:19.778717Z",
     "shell.execute_reply": "2025-05-10T21:17:19.778126Z",
     "shell.execute_reply.started": "2025-05-10T21:17:19.747755Z"
    },
    "trusted": true
   },
   "outputs": [
    {
     "name": "stdout",
     "output_type": "stream",
     "text": [
      "Top predictors for o_hypertension_quantity_per_capita: ['c_percent_white', 'e_surface_solar_radiation_downwards_sum', 'c_percent_commute_bus', 'e_surface_thermal_radiation_downwards_sum', 'e_snow_density', 'e_lake_mix_layer_temperature', 'e_evaporation_from_the_top_of_canopy_sum', 'e_surface_net_solar_radiation_sum', 'e_evaporation_from_open_water_surfaces_excluding_oceans_sum', 'c_percent_married_or_in_a_registered_civil_partnership']\n",
      "Top predictors for o_total_quantity_per_capita: ['c_percent_10_years_or_more', 'c_percent_wfh', 'e_surface_thermal_radiation_downwards_sum', 'e_no2', 'c_percent_commute_bicycle', 'c_percent_commute_bus', 'e_evaporation_from_the_top_of_canopy_sum', 'e_lake_mix_layer_temperature', 'e_temperature_2m', 'e_surface_runoff_sum']\n",
      "Top predictors for o_opioids_quantity_per_capita: ['c_net_annual_income', 'c_percent_2._professional_occupations', 'e_surface_thermal_radiation_downwards_sum', 'c_percent_mixed', 'c_percent_commute_metro_rail', 'e_no2', 'e_lake_mix_layer_depth', 'e_total_aerosol_optical_depth_at_550nm_surface', 'e_evaporation_from_the_top_of_canopy_sum', 'c_percent___can_speak_english_very_well']\n",
      "Top predictors for o_depression_quantity_per_capita: ['c_net_annual_income', 'c_percent_no_religion', 'c_percent_asian', 'c_percent_commute_bus', 'c_percent_mixed', 'e_leaf_area_index_low_vegetation', 'e_surface_thermal_radiation_downwards_sum', 'c_percent_commute_bicycle', 'e_lake_mix_layer_depth', 'e_no2']\n",
      "Top predictors for o_anxiety_quantity_per_capita: ['c_net_annual_income', 'c_percent_10_years_or_more', 'c_percent_mixed', 'e_leaf_area_index_low_vegetation', 'c_percent_commute_bicycle', 'e_surface_thermal_radiation_downwards_sum', 'c_percent_tfw_less_than_2km', 'e_lake_mix_layer_depth', 'e_no2', 'c_percent_commute_bus']\n",
      "Top predictors for o_diabetes_quantity_per_capita: ['e_leaf_area_index_low_vegetation', 'c_net_annual_income', 'c_percent_8._process_plant_and_machine_operatives', 'c_percent_commute_bus', 'c_percent_commute_bicycle', 'c_percent_student_moved_to_address', 'e_lake_mix_layer_depth', 'c_percent_tfw_2km_to_5km', 'c_percent_5._skilled_trades_occupations', 'c_percent_asian']\n",
      "Top predictors for o_asthma_quantity_per_capita: ['c_net_annual_income', 'c_percent_commute_car', 'c_percent_commute_bus', 'e_leaf_area_index_high_vegetation', 'c_percent_tfw_2km_to_5km', 'c_percent_mixed', 'e_lake_mix_layer_depth', 'e_no2', 'c_percent_10_years_or_more', 'c_percent_commute_metro_rail']\n"
     ]
    }
   ],
   "source": [
    "# Reads top 10 predictors from CSV files and stores them for each outcome if valid.\n",
    "for csv_file in csv_files:\n",
    "    outcome = os.path.basename(csv_file).replace('_top_features.csv', '')\n",
    "    if outcome not in df.columns:\n",
    "        print(f\"Warning: Outcome '{outcome_col}' not found in dataset. Skipping.\")\n",
    "        continue\n",
    "    df_csv = pd.read_csv(csv_file)\n",
    "    predictors = df_csv[\"Unnamed: 0\"].head(10).tolist()  # Assumes column 'Predictor'\n",
    "    predictors = [p for p in predictors if p in df.columns]\n",
    "    if not predictors:\n",
    "        print(f\"Warning: No valid predictors found for {outcome}. Skipping.\")\n",
    "        continue\n",
    "    top_predictors[outcome] = predictors\n",
    "    print(f\"Top predictors for {outcome}: {predictors}\")"
   ]
  },
  {
   "cell_type": "code",
   "execution_count": 62,
   "metadata": {
    "execution": {
     "iopub.execute_input": "2025-05-10T21:17:24.532714Z",
     "iopub.status.busy": "2025-05-10T21:17:24.532227Z",
     "iopub.status.idle": "2025-05-10T21:17:24.536921Z",
     "shell.execute_reply": "2025-05-10T21:17:24.536154Z",
     "shell.execute_reply.started": "2025-05-10T21:17:24.532692Z"
    },
    "trusted": true
   },
   "outputs": [
    {
     "name": "stdout",
     "output_type": "stream",
     "text": [
      "Total unique predictors: 33\n"
     ]
    }
   ],
   "source": [
    "# Collect all unique predictors\n",
    "all_predictors = set()\n",
    "for predictors in top_predictors.values():\n",
    "    all_predictors.update(predictors)\n",
    "all_predictors = list(all_predictors)\n",
    "print(f\"Total unique predictors: {len(all_predictors)}\")"
   ]
  },
  {
   "cell_type": "code",
   "execution_count": null,
   "metadata": {
    "execution": {
     "iopub.execute_input": "2025-05-10T21:17:27.992127Z",
     "iopub.status.busy": "2025-05-10T21:17:27.991866Z",
     "iopub.status.idle": "2025-05-10T21:17:28.043199Z",
     "shell.execute_reply": "2025-05-10T21:17:28.042515Z",
     "shell.execute_reply.started": "2025-05-10T21:17:27.992109Z"
    },
    "trusted": true
   },
   "outputs": [
    {
     "name": "stdout",
     "output_type": "stream",
     "text": [
      "Aggregated LAD-level data shape: (309, 41)\n",
      "       lad_name  c_percent_student_moved_to_address  \\\n",
      "0          Adur                            0.001513   \n",
      "1     Allerdale                            0.001302   \n",
      "2  Amber Valley                            0.001564   \n",
      "3          Arun                            0.002244   \n",
      "4      Ashfield                            0.001117   \n",
      "\n",
      "   e_surface_net_solar_radiation_sum  c_percent_wfh  c_percent_commute_car  \\\n",
      "0                       2.055249e+07       0.307117               0.481294   \n",
      "1                       2.288438e+08       0.240060               0.559384   \n",
      "2                       2.513019e+08       0.250396               0.586348   \n",
      "3                       1.831415e+07       0.251721               0.543190   \n",
      "4                       2.580425e+08       0.188955               0.606898   \n",
      "\n",
      "   e_total_aerosol_optical_depth_at_550nm_surface  e_temperature_2m  \\\n",
      "0                                        0.124606        283.813849   \n",
      "1                                        0.115197        282.572677   \n",
      "2                                        0.115045        283.045702   \n",
      "3                                        0.126958        283.819881   \n",
      "4                                        0.115636        283.049925   \n",
      "\n",
      "   c_net_annual_income  c_percent_commute_metro_rail  \\\n",
      "0         33219.047619                      0.000473   \n",
      "1         29062.711864                      0.000389   \n",
      "2         33411.392405                      0.000422   \n",
      "3         31685.858586                      0.000771   \n",
      "4         30607.792208                      0.009219   \n",
      "\n",
      "   e_lake_mix_layer_temperature  ...  c_percent_asian  \\\n",
      "0                    283.513128  ...         0.021571   \n",
      "1                    282.516248  ...         0.005681   \n",
      "2                    282.909918  ...         0.009589   \n",
      "3                    283.513154  ...         0.015653   \n",
      "4                    282.872508  ...         0.015073   \n",
      "\n",
      "   c_percent_commute_bicycle  c_percent_2._professional_occupations  \\\n",
      "0                   0.029430                               0.177747   \n",
      "1                   0.009509                               0.156510   \n",
      "2                   0.009314                               0.170404   \n",
      "3                   0.027700                               0.144827   \n",
      "4                   0.014835                               0.133688   \n",
      "\n",
      "   o_diabetes_quantity_per_capita  o_hypertension_quantity_per_capita  \\\n",
      "0                       35.219350                           90.354576   \n",
      "1                       40.629214                          111.422969   \n",
      "2                       47.073524                          130.682696   \n",
      "3                       49.076762                          134.892613   \n",
      "4                       47.547628                          114.477104   \n",
      "\n",
      "   o_asthma_quantity_per_capita  o_depression_quantity_per_capita  \\\n",
      "0                     12.892678                         38.771795   \n",
      "1                     14.896261                         41.320104   \n",
      "2                     20.631834                         58.387623   \n",
      "3                     19.593064                         48.704339   \n",
      "4                     16.331904                         54.103693   \n",
      "\n",
      "   o_anxiety_quantity_per_capita  o_opioids_quantity_per_capita  \\\n",
      "0                      48.131123                      31.618506   \n",
      "1                      52.968730                      40.982229   \n",
      "2                      76.613330                      58.095795   \n",
      "3                      66.081507                      33.690340   \n",
      "4                      72.233306                      51.518013   \n",
      "\n",
      "   o_total_quantity_per_capita  \n",
      "0                  1029.308259  \n",
      "1                  1281.491911  \n",
      "2                  1530.153198  \n",
      "3                  1598.257361  \n",
      "4                  1360.936678  \n",
      "\n",
      "[5 rows x 41 columns]\n"
     ]
    }
   ],
   "source": [
    "# Calculates the average of selected features and outcomes for each LAD.\n",
    "agg_columns = all_predictors + medical_outcomes\n",
    "\n",
    "df_lad = (\n",
    "    df.groupby('lad_name')[agg_columns]\n",
    "      .mean()  \n",
    "      .reset_index()\n",
    ")\n",
    "\n",
    "print(\"Aggregated LAD-level data shape:\", df_lad.shape)\n",
    "print(df_lad.head())"
   ]
  },
  {
   "cell_type": "code",
   "execution_count": null,
   "metadata": {
    "execution": {
     "iopub.execute_input": "2025-05-10T21:17:39.001480Z",
     "iopub.status.busy": "2025-05-10T21:17:39.001206Z",
     "iopub.status.idle": "2025-05-10T21:17:58.924242Z",
     "shell.execute_reply": "2025-05-10T21:17:58.923674Z",
     "shell.execute_reply.started": "2025-05-10T21:17:39.001459Z"
    },
    "trusted": true
   },
   "outputs": [],
   "source": [
    "# Creating the same lad_name column in our GeoDataFrame\n",
    "df_geo['lad_name'] = df_geo['LSOA21NM'].apply(lambda x: x.rsplit(' ', 1)[0])\n",
    "\n",
    "# Dissolve by lad_name to get one polygon per LAD\n",
    "lad_geometries = df_geo.dissolve(by='lad_name')\n",
    "\n",
    "# Compute centroids\n",
    "lad_geometries['centroid'] = lad_geometries.geometry.centroid\n",
    "lad_geometries['centroid_x'] = lad_geometries['centroid'].x\n",
    "lad_geometries['centroid_y'] = lad_geometries['centroid'].y\n",
    "\n",
    "# Merge these centroid coordinates back into the aggregated df_lad\n",
    "df_lad = df_lad.merge(\n",
    "    lad_geometries[['centroid_x', 'centroid_y']],\n",
    "    on='lad_name',  \n",
    "    how='left'\n",
    ")"
   ]
  },
  {
   "cell_type": "code",
   "execution_count": 65,
   "metadata": {
    "execution": {
     "iopub.execute_input": "2025-05-10T21:18:08.438903Z",
     "iopub.status.busy": "2025-05-10T21:18:08.438618Z",
     "iopub.status.idle": "2025-05-10T21:18:08.456944Z",
     "shell.execute_reply": "2025-05-10T21:18:08.456155Z",
     "shell.execute_reply.started": "2025-05-10T21:18:08.438882Z"
    },
    "trusted": true
   },
   "outputs": [
    {
     "data": {
      "text/html": [
       "<div>\n",
       "<style scoped>\n",
       "    .dataframe tbody tr th:only-of-type {\n",
       "        vertical-align: middle;\n",
       "    }\n",
       "\n",
       "    .dataframe tbody tr th {\n",
       "        vertical-align: top;\n",
       "    }\n",
       "\n",
       "    .dataframe thead th {\n",
       "        text-align: right;\n",
       "    }\n",
       "</style>\n",
       "<table border=\"1\" class=\"dataframe\">\n",
       "  <thead>\n",
       "    <tr style=\"text-align: right;\">\n",
       "      <th></th>\n",
       "      <th>lad_name</th>\n",
       "      <th>c_percent_student_moved_to_address</th>\n",
       "      <th>e_surface_net_solar_radiation_sum</th>\n",
       "      <th>c_percent_wfh</th>\n",
       "      <th>c_percent_commute_car</th>\n",
       "      <th>e_total_aerosol_optical_depth_at_550nm_surface</th>\n",
       "      <th>e_temperature_2m</th>\n",
       "      <th>c_net_annual_income</th>\n",
       "      <th>c_percent_commute_metro_rail</th>\n",
       "      <th>e_lake_mix_layer_temperature</th>\n",
       "      <th>...</th>\n",
       "      <th>c_percent_2._professional_occupations</th>\n",
       "      <th>o_diabetes_quantity_per_capita</th>\n",
       "      <th>o_hypertension_quantity_per_capita</th>\n",
       "      <th>o_asthma_quantity_per_capita</th>\n",
       "      <th>o_depression_quantity_per_capita</th>\n",
       "      <th>o_anxiety_quantity_per_capita</th>\n",
       "      <th>o_opioids_quantity_per_capita</th>\n",
       "      <th>o_total_quantity_per_capita</th>\n",
       "      <th>centroid_x</th>\n",
       "      <th>centroid_y</th>\n",
       "    </tr>\n",
       "  </thead>\n",
       "  <tbody>\n",
       "    <tr>\n",
       "      <th>0</th>\n",
       "      <td>Adur</td>\n",
       "      <td>0.001513</td>\n",
       "      <td>2.055249e+07</td>\n",
       "      <td>0.307117</td>\n",
       "      <td>0.481294</td>\n",
       "      <td>0.124606</td>\n",
       "      <td>283.813849</td>\n",
       "      <td>33219.047619</td>\n",
       "      <td>0.000473</td>\n",
       "      <td>283.513128</td>\n",
       "      <td>...</td>\n",
       "      <td>0.177747</td>\n",
       "      <td>35.219350</td>\n",
       "      <td>90.354576</td>\n",
       "      <td>12.892678</td>\n",
       "      <td>38.771795</td>\n",
       "      <td>48.131123</td>\n",
       "      <td>31.618506</td>\n",
       "      <td>1029.308259</td>\n",
       "      <td>519832.891078</td>\n",
       "      <td>106424.943881</td>\n",
       "    </tr>\n",
       "    <tr>\n",
       "      <th>1</th>\n",
       "      <td>Allerdale</td>\n",
       "      <td>0.001302</td>\n",
       "      <td>2.288438e+08</td>\n",
       "      <td>0.240060</td>\n",
       "      <td>0.559384</td>\n",
       "      <td>0.115197</td>\n",
       "      <td>282.572677</td>\n",
       "      <td>29062.711864</td>\n",
       "      <td>0.000389</td>\n",
       "      <td>282.516248</td>\n",
       "      <td>...</td>\n",
       "      <td>0.156510</td>\n",
       "      <td>40.629214</td>\n",
       "      <td>111.422969</td>\n",
       "      <td>14.896261</td>\n",
       "      <td>41.320104</td>\n",
       "      <td>52.968730</td>\n",
       "      <td>40.982229</td>\n",
       "      <td>1281.491911</td>\n",
       "      <td>320062.312420</td>\n",
       "      <td>534980.812530</td>\n",
       "    </tr>\n",
       "  </tbody>\n",
       "</table>\n",
       "<p>2 rows × 43 columns</p>\n",
       "</div>"
      ],
      "text/plain": [
       "    lad_name  c_percent_student_moved_to_address  \\\n",
       "0       Adur                            0.001513   \n",
       "1  Allerdale                            0.001302   \n",
       "\n",
       "   e_surface_net_solar_radiation_sum  c_percent_wfh  c_percent_commute_car  \\\n",
       "0                       2.055249e+07       0.307117               0.481294   \n",
       "1                       2.288438e+08       0.240060               0.559384   \n",
       "\n",
       "   e_total_aerosol_optical_depth_at_550nm_surface  e_temperature_2m  \\\n",
       "0                                        0.124606        283.813849   \n",
       "1                                        0.115197        282.572677   \n",
       "\n",
       "   c_net_annual_income  c_percent_commute_metro_rail  \\\n",
       "0         33219.047619                      0.000473   \n",
       "1         29062.711864                      0.000389   \n",
       "\n",
       "   e_lake_mix_layer_temperature  ...  c_percent_2._professional_occupations  \\\n",
       "0                    283.513128  ...                               0.177747   \n",
       "1                    282.516248  ...                               0.156510   \n",
       "\n",
       "   o_diabetes_quantity_per_capita  o_hypertension_quantity_per_capita  \\\n",
       "0                       35.219350                           90.354576   \n",
       "1                       40.629214                          111.422969   \n",
       "\n",
       "   o_asthma_quantity_per_capita  o_depression_quantity_per_capita  \\\n",
       "0                     12.892678                         38.771795   \n",
       "1                     14.896261                         41.320104   \n",
       "\n",
       "   o_anxiety_quantity_per_capita  o_opioids_quantity_per_capita  \\\n",
       "0                      48.131123                      31.618506   \n",
       "1                      52.968730                      40.982229   \n",
       "\n",
       "   o_total_quantity_per_capita     centroid_x     centroid_y  \n",
       "0                  1029.308259  519832.891078  106424.943881  \n",
       "1                  1281.491911  320062.312420  534980.812530  \n",
       "\n",
       "[2 rows x 43 columns]"
      ]
     },
     "execution_count": 65,
     "metadata": {},
     "output_type": "execute_result"
    }
   ],
   "source": [
    "df_lad.head(2)"
   ]
  },
  {
   "cell_type": "code",
   "execution_count": 66,
   "metadata": {
    "execution": {
     "iopub.execute_input": "2025-05-10T21:18:13.042607Z",
     "iopub.status.busy": "2025-05-10T21:18:13.042341Z",
     "iopub.status.idle": "2025-05-10T21:18:13.082617Z",
     "shell.execute_reply": "2025-05-10T21:18:13.081836Z",
     "shell.execute_reply.started": "2025-05-10T21:18:13.042588Z"
    },
    "trusted": true
   },
   "outputs": [
    {
     "data": {
      "text/html": [
       "<div>\n",
       "<style scoped>\n",
       "    .dataframe tbody tr th:only-of-type {\n",
       "        vertical-align: middle;\n",
       "    }\n",
       "\n",
       "    .dataframe tbody tr th {\n",
       "        vertical-align: top;\n",
       "    }\n",
       "\n",
       "    .dataframe thead th {\n",
       "        text-align: right;\n",
       "    }\n",
       "</style>\n",
       "<table border=\"1\" class=\"dataframe\">\n",
       "  <thead>\n",
       "    <tr style=\"text-align: right;\">\n",
       "      <th></th>\n",
       "      <th>geometry</th>\n",
       "      <th>LSOA21NM</th>\n",
       "      <th>centroid_x</th>\n",
       "      <th>centroid_y</th>\n",
       "      <th>c_percent asian</th>\n",
       "      <th>c_percent black</th>\n",
       "      <th>c_percent mixed</th>\n",
       "      <th>c_percent white</th>\n",
       "      <th>c_percent sikh</th>\n",
       "      <th>c_percent hindu</th>\n",
       "      <th>...</th>\n",
       "      <th>e_snow_and_ice</th>\n",
       "      <th>o_diabetes_quantity_per_capita</th>\n",
       "      <th>o_opioids_quantity_per_capita</th>\n",
       "      <th>o_OME_per_capita</th>\n",
       "      <th>o_total_quantity_per_capita</th>\n",
       "      <th>o_asthma_quantity_per_capita</th>\n",
       "      <th>o_hypertension_quantity_per_capita</th>\n",
       "      <th>o_depression_quantity_per_capita</th>\n",
       "      <th>o_anxiety_quantity_per_capita</th>\n",
       "      <th>centroid</th>\n",
       "    </tr>\n",
       "    <tr>\n",
       "      <th>lad_name</th>\n",
       "      <th></th>\n",
       "      <th></th>\n",
       "      <th></th>\n",
       "      <th></th>\n",
       "      <th></th>\n",
       "      <th></th>\n",
       "      <th></th>\n",
       "      <th></th>\n",
       "      <th></th>\n",
       "      <th></th>\n",
       "      <th></th>\n",
       "      <th></th>\n",
       "      <th></th>\n",
       "      <th></th>\n",
       "      <th></th>\n",
       "      <th></th>\n",
       "      <th></th>\n",
       "      <th></th>\n",
       "      <th></th>\n",
       "      <th></th>\n",
       "      <th></th>\n",
       "    </tr>\n",
       "  </thead>\n",
       "  <tbody>\n",
       "    <tr>\n",
       "      <th>Adur</th>\n",
       "      <td>MULTIPOLYGON (((518163.049 103556.691, 518151....</td>\n",
       "      <td>Adur 002A</td>\n",
       "      <td>519832.891078</td>\n",
       "      <td>106424.943881</td>\n",
       "      <td>0.020801</td>\n",
       "      <td>0.002311</td>\n",
       "      <td>0.030046</td>\n",
       "      <td>0.934515</td>\n",
       "      <td>0.000773</td>\n",
       "      <td>0.000000</td>\n",
       "      <td>...</td>\n",
       "      <td>0.040419</td>\n",
       "      <td>17.366574</td>\n",
       "      <td>19.094030</td>\n",
       "      <td>199.618089</td>\n",
       "      <td>564.413376</td>\n",
       "      <td>6.807405</td>\n",
       "      <td>48.578173</td>\n",
       "      <td>19.829621</td>\n",
       "      <td>25.559192</td>\n",
       "      <td>POINT (519832.891 106424.944)</td>\n",
       "    </tr>\n",
       "    <tr>\n",
       "      <th>Allerdale</th>\n",
       "      <td>MULTIPOLYGON (((298682.700 525222.350, 298820....</td>\n",
       "      <td>Allerdale 007A</td>\n",
       "      <td>320062.312420</td>\n",
       "      <td>534980.812530</td>\n",
       "      <td>0.008368</td>\n",
       "      <td>0.001395</td>\n",
       "      <td>0.008368</td>\n",
       "      <td>0.981869</td>\n",
       "      <td>0.000696</td>\n",
       "      <td>0.002786</td>\n",
       "      <td>...</td>\n",
       "      <td>0.040593</td>\n",
       "      <td>41.120013</td>\n",
       "      <td>37.820984</td>\n",
       "      <td>269.443658</td>\n",
       "      <td>1644.572451</td>\n",
       "      <td>17.086636</td>\n",
       "      <td>131.005476</td>\n",
       "      <td>42.455040</td>\n",
       "      <td>51.946084</td>\n",
       "      <td>POINT (320062.312 534980.813)</td>\n",
       "    </tr>\n",
       "  </tbody>\n",
       "</table>\n",
       "<p>2 rows × 168 columns</p>\n",
       "</div>"
      ],
      "text/plain": [
       "                                                    geometry        LSOA21NM  \\\n",
       "lad_name                                                                       \n",
       "Adur       MULTIPOLYGON (((518163.049 103556.691, 518151....       Adur 002A   \n",
       "Allerdale  MULTIPOLYGON (((298682.700 525222.350, 298820....  Allerdale 007A   \n",
       "\n",
       "              centroid_x     centroid_y  c_percent asian  c_percent black  \\\n",
       "lad_name                                                                    \n",
       "Adur       519832.891078  106424.943881         0.020801         0.002311   \n",
       "Allerdale  320062.312420  534980.812530         0.008368         0.001395   \n",
       "\n",
       "           c_percent mixed  c_percent white  c_percent sikh  c_percent hindu  \\\n",
       "lad_name                                                                       \n",
       "Adur              0.030046         0.934515        0.000773         0.000000   \n",
       "Allerdale         0.008368         0.981869        0.000696         0.002786   \n",
       "\n",
       "           ...  e_snow_and_ice  o_diabetes_quantity_per_capita  \\\n",
       "lad_name   ...                                                   \n",
       "Adur       ...        0.040419                       17.366574   \n",
       "Allerdale  ...        0.040593                       41.120013   \n",
       "\n",
       "           o_opioids_quantity_per_capita  o_OME_per_capita  \\\n",
       "lad_name                                                     \n",
       "Adur                           19.094030        199.618089   \n",
       "Allerdale                      37.820984        269.443658   \n",
       "\n",
       "           o_total_quantity_per_capita  o_asthma_quantity_per_capita  \\\n",
       "lad_name                                                               \n",
       "Adur                        564.413376                      6.807405   \n",
       "Allerdale                  1644.572451                     17.086636   \n",
       "\n",
       "           o_hypertension_quantity_per_capita  \\\n",
       "lad_name                                        \n",
       "Adur                                48.578173   \n",
       "Allerdale                          131.005476   \n",
       "\n",
       "           o_depression_quantity_per_capita  o_anxiety_quantity_per_capita  \\\n",
       "lad_name                                                                     \n",
       "Adur                              19.829621                      25.559192   \n",
       "Allerdale                         42.455040                      51.946084   \n",
       "\n",
       "                                centroid  \n",
       "lad_name                                  \n",
       "Adur       POINT (519832.891 106424.944)  \n",
       "Allerdale  POINT (320062.312 534980.813)  \n",
       "\n",
       "[2 rows x 168 columns]"
      ]
     },
     "execution_count": 66,
     "metadata": {},
     "output_type": "execute_result"
    }
   ],
   "source": [
    "lad_geometries.head(2)"
   ]
  },
  {
   "cell_type": "code",
   "execution_count": null,
   "metadata": {
    "execution": {
     "iopub.execute_input": "2025-05-10T21:18:17.523218Z",
     "iopub.status.busy": "2025-05-10T21:18:17.522712Z",
     "iopub.status.idle": "2025-05-10T21:18:17.527556Z",
     "shell.execute_reply": "2025-05-10T21:18:17.526803Z",
     "shell.execute_reply.started": "2025-05-10T21:18:17.523195Z"
    },
    "trusted": true
   },
   "outputs": [],
   "source": [
    "# Removes predictors that are highly correlated with each other to avoid redundancy.\n",
    "def filter_predictors(predictor_list, df, corr_threshold=0.8):\n",
    "\n",
    "    selected = []\n",
    "    for predictor in predictor_list:\n",
    "        add_predictor = True\n",
    "        for sel in selected:\n",
    "            corr_value = df[[predictor, sel]].corr().iloc[0, 1]\n",
    "            if abs(corr_value) > corr_threshold:\n",
    "                add_predictor = False\n",
    "                # Predictor appearing later in ranked order is dropped\n",
    "                break\n",
    "        if add_predictor:\n",
    "            selected.append(predictor)\n",
    "    return selected"
   ]
  },
  {
   "cell_type": "code",
   "execution_count": 68,
   "metadata": {
    "execution": {
     "iopub.execute_input": "2025-05-10T21:18:24.112363Z",
     "iopub.status.busy": "2025-05-10T21:18:24.111849Z",
     "iopub.status.idle": "2025-05-10T21:18:24.115917Z",
     "shell.execute_reply": "2025-05-10T21:18:24.115323Z",
     "shell.execute_reply.started": "2025-05-10T21:18:24.112343Z"
    },
    "trusted": true
   },
   "outputs": [],
   "source": [
    "def quote_if_needed(var):\n",
    "    return f'Q(\"{var}\")' if not re.match(r'^[A-Za-z_][A-Za-z0-9_]*$', var) else var"
   ]
  },
  {
   "cell_type": "code",
   "execution_count": 69,
   "metadata": {
    "execution": {
     "iopub.execute_input": "2025-05-10T21:18:50.873623Z",
     "iopub.status.busy": "2025-05-10T21:18:50.873340Z",
     "iopub.status.idle": "2025-05-10T21:18:51.345612Z",
     "shell.execute_reply": "2025-05-10T21:18:51.344849Z",
     "shell.execute_reply.started": "2025-05-10T21:18:50.873603Z"
    },
    "trusted": true
   },
   "outputs": [
    {
     "name": "stdout",
     "output_type": "stream",
     "text": [
      "\n",
      "======================================\n",
      "Fitting GAM for outcome: o_diabetes_quantity_per_capita\n",
      "Using predictors: ['e_leaf_area_index_low_vegetation', 'c_net_annual_income', 'c_percent_8._process_plant_and_machine_operatives', 'c_percent_commute_bus', 'c_percent_commute_bicycle', 'c_percent_student_moved_to_address', 'e_lake_mix_layer_depth', 'c_percent_tfw_2km_to_5km', 'c_percent_5._skilled_trades_occupations', 'c_percent_asian']\n",
      "Formula: o_diabetes_quantity_per_capita ~ e_leaf_area_index_low_vegetation + c_net_annual_income + Q(\"c_percent_8._process_plant_and_machine_operatives\") + c_percent_commute_bus + c_percent_commute_bicycle + c_percent_student_moved_to_address + e_lake_mix_layer_depth + c_percent_tfw_2km_to_5km + Q(\"c_percent_5._skilled_trades_occupations\") + c_percent_asian + bs(centroid_x, df=5) * bs(centroid_y, df=5)\n",
      "======================================\n",
      "\n",
      "                                  OLS Regression Results                                  \n",
      "==========================================================================================\n",
      "Dep. Variable:     o_diabetes_quantity_per_capita   R-squared:                       0.603\n",
      "Model:                                        OLS   Adj. R-squared:                  0.535\n",
      "Method:                             Least Squares   F-statistic:                     8.885\n",
      "Date:                            Sat, 10 May 2025   Prob (F-statistic):           3.00e-32\n",
      "Time:                                    21:18:50   Log-Likelihood:                -1025.4\n",
      "No. Observations:                             309   AIC:                             2143.\n",
      "Df Residuals:                                 263   BIC:                             2314.\n",
      "Df Model:                                      45                                         \n",
      "Covariance Type:                        nonrobust                                         \n",
      "==========================================================================================================================\n",
      "                                                             coef    std err          t      P>|t|      [0.025      0.975]\n",
      "--------------------------------------------------------------------------------------------------------------------------\n",
      "Intercept                                                -12.8850     15.522     -0.830      0.407     -43.449      17.679\n",
      "e_leaf_area_index_low_vegetation                           5.8618      2.932      2.000      0.047       0.089      11.634\n",
      "c_net_annual_income                                       -0.0005      0.000     -1.959      0.051      -0.001    2.44e-06\n",
      "Q(\"c_percent_8._process_plant_and_machine_operatives\")    92.4732     38.864      2.379      0.018      15.950     168.997\n",
      "c_percent_commute_bus                                    -17.5971     22.226     -0.792      0.429     -61.361      26.166\n",
      "c_percent_commute_bicycle                                 -3.1926     42.435     -0.075      0.940     -86.749      80.364\n",
      "c_percent_student_moved_to_address                      -261.3951     94.958     -2.753      0.006    -448.369     -74.421\n",
      "e_lake_mix_layer_depth                                    -0.0552      0.138     -0.400      0.690      -0.327       0.217\n",
      "c_percent_tfw_2km_to_5km                                   2.5195     16.670      0.151      0.880     -30.305      35.344\n",
      "Q(\"c_percent_5._skilled_trades_occupations\")             244.7768     37.615      6.507      0.000     170.712     318.842\n",
      "c_percent_asian                                           16.3123      7.350      2.219      0.027       1.840      30.784\n",
      "bs(centroid_x, df=5)[0]                                  132.6968    180.214      0.736      0.462    -222.150     487.544\n",
      "bs(centroid_x, df=5)[1]                                 -109.3623    192.891     -0.567      0.571    -489.170     270.445\n",
      "bs(centroid_x, df=5)[2]                                 -116.4272    148.163     -0.786      0.433    -408.165     175.310\n",
      "bs(centroid_x, df=5)[3]                                 -147.4904    299.510     -0.492      0.623    -737.234     442.253\n",
      "bs(centroid_x, df=5)[4]                                 -960.0054   1252.577     -0.766      0.444   -3426.360    1506.349\n",
      "bs(centroid_y, df=5)[0]                                 -274.8135    228.880     -1.201      0.231    -725.485     175.858\n",
      "bs(centroid_y, df=5)[1]                                  650.2862    482.158      1.349      0.179    -299.094    1599.667\n",
      "bs(centroid_y, df=5)[2]                                -2422.1522   1661.437     -1.458      0.146   -5693.563     849.259\n",
      "bs(centroid_y, df=5)[3]                                  811.7223   2147.043      0.378      0.706   -3415.859    5039.304\n",
      "bs(centroid_y, df=5)[4]                                 2154.8525   2963.475      0.727      0.468   -3680.303    7990.008\n",
      "bs(centroid_x, df=5)[0]:bs(centroid_y, df=5)[0]          217.2173    179.329      1.211      0.227    -135.886     570.320\n",
      "bs(centroid_x, df=5)[1]:bs(centroid_y, df=5)[0]          452.3472    420.872      1.075      0.283    -376.360    1281.055\n",
      "bs(centroid_x, df=5)[2]:bs(centroid_y, df=5)[0]          436.1688    193.393      2.255      0.025      55.374     816.964\n",
      "bs(centroid_x, df=5)[3]:bs(centroid_y, df=5)[0]          468.6268    473.146      0.990      0.323    -463.010    1400.263\n",
      "bs(centroid_x, df=5)[4]:bs(centroid_y, df=5)[0]         1472.7292   1342.201      1.097      0.274   -1170.097    4115.556\n",
      "bs(centroid_x, df=5)[0]:bs(centroid_y, df=5)[1]         -935.0310    656.592     -1.424      0.156   -2227.878     357.816\n",
      "bs(centroid_x, df=5)[1]:bs(centroid_y, df=5)[1]         -551.1202    422.554     -1.304      0.193   -1383.139     280.898\n",
      "bs(centroid_x, df=5)[2]:bs(centroid_y, df=5)[1]         -484.9132    541.727     -0.895      0.372   -1551.586     581.760\n",
      "bs(centroid_x, df=5)[3]:bs(centroid_y, df=5)[1]         -521.0015    523.088     -0.996      0.320   -1550.974     508.971\n",
      "bs(centroid_x, df=5)[4]:bs(centroid_y, df=5)[1]          221.5510   1287.636      0.172      0.864   -2313.837    2756.939\n",
      "bs(centroid_x, df=5)[0]:bs(centroid_y, df=5)[2]         2556.8509   1763.082      1.450      0.148    -914.702    6028.404\n",
      "bs(centroid_x, df=5)[1]:bs(centroid_y, df=5)[2]         2558.3670   1685.391      1.518      0.130    -760.209    5876.943\n",
      "bs(centroid_x, df=5)[2]:bs(centroid_y, df=5)[2]         2556.2790   1663.639      1.537      0.126    -719.468    5832.026\n",
      "bs(centroid_x, df=5)[3]:bs(centroid_y, df=5)[2]         2682.4894   1709.221      1.569      0.118    -683.009    6047.987\n",
      "bs(centroid_x, df=5)[4]:bs(centroid_y, df=5)[2]         3533.7252   2069.696      1.707      0.089    -541.558    7609.008\n",
      "bs(centroid_x, df=5)[0]:bs(centroid_y, df=5)[3]         -755.5657   2404.235     -0.314      0.754   -5489.564    3978.433\n",
      "bs(centroid_x, df=5)[1]:bs(centroid_y, df=5)[3]         -833.5130   2074.936     -0.402      0.688   -4919.114    3252.088\n",
      "bs(centroid_x, df=5)[2]:bs(centroid_y, df=5)[3]         -556.4959   2194.694     -0.254      0.800   -4877.904    3764.912\n",
      "bs(centroid_x, df=5)[3]:bs(centroid_y, df=5)[3]        -1252.0865   2100.401     -0.596      0.552   -5387.828    2883.655\n",
      "bs(centroid_x, df=5)[4]:bs(centroid_y, df=5)[3]          -86.0784   2471.210     -0.035      0.972   -4951.953    4779.797\n",
      "bs(centroid_x, df=5)[0]:bs(centroid_y, df=5)[4]        -2858.2969   3308.032     -0.864      0.388   -9371.894    3655.301\n",
      "bs(centroid_x, df=5)[1]:bs(centroid_y, df=5)[4]        -1837.8228   2874.064     -0.639      0.523   -7496.926    3821.281\n",
      "bs(centroid_x, df=5)[2]:bs(centroid_y, df=5)[4]        -2123.2336   3037.458     -0.699      0.485   -8104.064    3857.597\n",
      "bs(centroid_x, df=5)[3]:bs(centroid_y, df=5)[4]        -3266.5475   2789.418     -1.171      0.243   -8758.981    2225.886\n",
      "bs(centroid_x, df=5)[4]:bs(centroid_y, df=5)[4]         6.522e+05   2.11e+05      3.095      0.002    2.37e+05    1.07e+06\n",
      "==============================================================================\n",
      "Omnibus:                        6.027   Durbin-Watson:                   1.920\n",
      "Prob(Omnibus):                  0.049   Jarque-Bera (JB):                5.764\n",
      "Skew:                          -0.308   Prob(JB):                       0.0560\n",
      "Kurtosis:                       3.262   Cond. No.                     1.81e+10\n",
      "==============================================================================\n",
      "\n",
      "Notes:\n",
      "[1] Standard Errors assume that the covariance matrix of the errors is correctly specified.\n",
      "[2] The condition number is large, 1.81e+10. This might indicate that there are\n",
      "strong multicollinearity or other numerical problems.\n",
      "\n",
      "======================================\n",
      "Fitting GAM for outcome: o_hypertension_quantity_per_capita\n",
      "Using predictors: ['c_percent_white', 'e_surface_solar_radiation_downwards_sum', 'c_percent_commute_bus', 'e_surface_thermal_radiation_downwards_sum', 'e_snow_density', 'e_evaporation_from_the_top_of_canopy_sum', 'e_evaporation_from_open_water_surfaces_excluding_oceans_sum', 'c_percent_married_or_in_a_registered_civil_partnership']\n",
      "Formula: o_hypertension_quantity_per_capita ~ c_percent_white + e_surface_solar_radiation_downwards_sum + c_percent_commute_bus + e_surface_thermal_radiation_downwards_sum + e_snow_density + e_evaporation_from_the_top_of_canopy_sum + e_evaporation_from_open_water_surfaces_excluding_oceans_sum + c_percent_married_or_in_a_registered_civil_partnership + bs(centroid_x, df=5) * bs(centroid_y, df=5)\n",
      "======================================\n",
      "\n",
      "                                    OLS Regression Results                                    \n",
      "==============================================================================================\n",
      "Dep. Variable:     o_hypertension_quantity_per_capita   R-squared:                       0.600\n",
      "Model:                                            OLS   Adj. R-squared:                  0.537\n",
      "Method:                                 Least Squares   F-statistic:                     9.492\n",
      "Date:                                Sat, 10 May 2025   Prob (F-statistic):           2.83e-33\n",
      "Time:                                        21:18:50   Log-Likelihood:                -1326.2\n",
      "No. Observations:                                 309   AIC:                             2738.\n",
      "Df Residuals:                                     266   BIC:                             2899.\n",
      "Df Model:                                          42                                         \n",
      "Covariance Type:                            nonrobust                                         \n",
      "===============================================================================================================================\n",
      "                                                                  coef    std err          t      P>|t|      [0.025      0.975]\n",
      "-------------------------------------------------------------------------------------------------------------------------------\n",
      "Intercept                                                   -1697.9994   1195.178     -1.421      0.157   -4051.212     655.213\n",
      "c_percent_white                                                55.0356     16.574      3.321      0.001      22.402      87.669\n",
      "e_surface_solar_radiation_downwards_sum                      6.288e-09   3.44e-08      0.183      0.855   -6.15e-08    7.41e-08\n",
      "c_percent_commute_bus                                         -44.2509     87.283     -0.507      0.613    -216.104     127.602\n",
      "e_surface_thermal_radiation_downwards_sum                    1.739e-06    1.4e-06      1.246      0.214   -1.01e-06    4.49e-06\n",
      "e_snow_density                                                  1.6219      0.993      1.634      0.103      -0.333       3.577\n",
      "e_evaporation_from_the_top_of_canopy_sum                    -1160.2058   1266.292     -0.916      0.360   -3653.436    1333.024\n",
      "e_evaporation_from_open_water_surfaces_excluding_oceans_sum   -78.2172    794.430     -0.098      0.922   -1642.388    1485.954\n",
      "c_percent_married_or_in_a_registered_civil_partnership        200.6053     31.695      6.329      0.000     138.200     263.010\n",
      "bs(centroid_x, df=5)[0]                                         9.3463    493.091      0.019      0.985    -961.512     980.204\n",
      "bs(centroid_x, df=5)[1]                                       110.0246    527.723      0.208      0.835    -929.021    1149.070\n",
      "bs(centroid_x, df=5)[2]                                        63.4200    434.632      0.146      0.884    -792.337     919.177\n",
      "bs(centroid_x, df=5)[3]                                      -292.8675    843.181     -0.347      0.729   -1953.025    1367.290\n",
      "bs(centroid_x, df=5)[4]                                      2472.5731   3377.586      0.732      0.465   -4177.632    9122.779\n",
      "bs(centroid_y, df=5)[0]                                      -301.8432    623.899     -0.484      0.629   -1530.251     926.565\n",
      "bs(centroid_y, df=5)[1]                                      1837.1334   1306.133      1.407      0.161    -734.541    4408.808\n",
      "bs(centroid_y, df=5)[2]                                     -6976.7804   4283.991     -1.629      0.105   -1.54e+04    1458.065\n",
      "bs(centroid_y, df=5)[3]                                      1.129e+04   5714.166      1.975      0.049      34.552    2.25e+04\n",
      "bs(centroid_y, df=5)[4]                                       -1.3e+04   7734.356     -1.681      0.094   -2.82e+04    2223.464\n",
      "bs(centroid_x, df=5)[0]:bs(centroid_y, df=5)[0]               311.3646    483.521      0.644      0.520    -640.651    1263.380\n",
      "bs(centroid_x, df=5)[1]:bs(centroid_y, df=5)[0]               272.3617   1147.731      0.237      0.813   -1987.432    2532.155\n",
      "bs(centroid_x, df=5)[2]:bs(centroid_y, df=5)[0]               292.5903    520.929      0.562      0.575    -733.079    1318.260\n",
      "bs(centroid_x, df=5)[3]:bs(centroid_y, df=5)[0]               660.1495   1331.526      0.496      0.620   -1961.523    3281.821\n",
      "bs(centroid_x, df=5)[4]:bs(centroid_y, df=5)[0]             -2187.9800   3597.548     -0.608      0.544   -9271.273    4895.313\n",
      "bs(centroid_x, df=5)[0]:bs(centroid_y, df=5)[1]             -2143.4375   1789.493     -1.198      0.232   -5666.811    1379.936\n",
      "bs(centroid_x, df=5)[1]:bs(centroid_y, df=5)[1]             -1942.6171   1129.462     -1.720      0.087   -4166.440     281.206\n",
      "bs(centroid_x, df=5)[2]:bs(centroid_y, df=5)[1]             -1949.8953   1493.373     -1.306      0.193   -4890.230     990.440\n",
      "bs(centroid_x, df=5)[3]:bs(centroid_y, df=5)[1]             -1497.1096   1436.751     -1.042      0.298   -4325.961    1331.742\n",
      "bs(centroid_x, df=5)[4]:bs(centroid_y, df=5)[1]             -4225.1840   3456.684     -1.222      0.223    -1.1e+04    2580.758\n",
      "bs(centroid_x, df=5)[0]:bs(centroid_y, df=5)[2]              7566.3602   4531.232      1.670      0.096   -1355.283    1.65e+04\n",
      "bs(centroid_x, df=5)[1]:bs(centroid_y, df=5)[2]              6845.9192   4359.216      1.570      0.117   -1737.039    1.54e+04\n",
      "bs(centroid_x, df=5)[2]:bs(centroid_y, df=5)[2]              7023.1413   4293.410      1.636      0.103   -1430.250    1.55e+04\n",
      "bs(centroid_x, df=5)[3]:bs(centroid_y, df=5)[2]              7251.2422   4411.002      1.644      0.101   -1433.679    1.59e+04\n",
      "bs(centroid_x, df=5)[4]:bs(centroid_y, df=5)[2]              4484.8788   5451.351      0.823      0.411   -6248.408    1.52e+04\n",
      "bs(centroid_x, df=5)[0]:bs(centroid_y, df=5)[3]             -1.188e+04   6406.762     -1.854      0.065   -2.45e+04     733.578\n",
      "bs(centroid_x, df=5)[1]:bs(centroid_y, df=5)[3]             -1.138e+04   5506.749     -2.067      0.040   -2.22e+04    -539.039\n",
      "bs(centroid_x, df=5)[2]:bs(centroid_y, df=5)[3]             -1.136e+04   5862.967     -1.937      0.054   -2.29e+04     186.804\n",
      "bs(centroid_x, df=5)[3]:bs(centroid_y, df=5)[3]             -1.097e+04   5609.592     -1.955      0.052    -2.2e+04      78.183\n",
      "bs(centroid_x, df=5)[4]:bs(centroid_y, df=5)[3]             -1.318e+04   6698.935     -1.967      0.050   -2.64e+04      11.325\n",
      "bs(centroid_x, df=5)[0]:bs(centroid_y, df=5)[4]              1.443e+04   8616.579      1.674      0.095   -2537.065    3.14e+04\n",
      "bs(centroid_x, df=5)[1]:bs(centroid_y, df=5)[4]              1.233e+04   7520.123      1.639      0.102   -2478.431    2.71e+04\n",
      "bs(centroid_x, df=5)[2]:bs(centroid_y, df=5)[4]              1.355e+04   7901.491      1.715      0.088   -2007.639    2.91e+04\n",
      "bs(centroid_x, df=5)[3]:bs(centroid_y, df=5)[4]              8915.0763   7388.573      1.207      0.229   -5632.450    2.35e+04\n",
      "bs(centroid_x, df=5)[4]:bs(centroid_y, df=5)[4]               9.85e+05   5.34e+05      1.844      0.066   -6.69e+04    2.04e+06\n",
      "==============================================================================\n",
      "Omnibus:                       21.933   Durbin-Watson:                   2.134\n",
      "Prob(Omnibus):                  0.000   Jarque-Bera (JB):               25.530\n",
      "Skew:                          -0.603   Prob(JB):                     2.86e-06\n",
      "Kurtosis:                       3.727   Cond. No.                     4.36e+14\n",
      "==============================================================================\n",
      "\n",
      "Notes:\n",
      "[1] Standard Errors assume that the covariance matrix of the errors is correctly specified.\n",
      "[2] The condition number is large, 4.36e+14. This might indicate that there are\n",
      "strong multicollinearity or other numerical problems.\n",
      "\n",
      "======================================\n",
      "Fitting GAM for outcome: o_asthma_quantity_per_capita\n",
      "Using predictors: ['c_net_annual_income', 'c_percent_commute_car', 'c_percent_commute_bus', 'e_leaf_area_index_high_vegetation', 'c_percent_tfw_2km_to_5km', 'e_lake_mix_layer_depth', 'e_no2', 'c_percent_commute_metro_rail']\n",
      "Formula: o_asthma_quantity_per_capita ~ c_net_annual_income + c_percent_commute_car + c_percent_commute_bus + e_leaf_area_index_high_vegetation + c_percent_tfw_2km_to_5km + e_lake_mix_layer_depth + e_no2 + c_percent_commute_metro_rail + bs(centroid_x, df=5) * bs(centroid_y, df=5)\n",
      "======================================\n",
      "\n",
      "                                 OLS Regression Results                                 \n",
      "========================================================================================\n",
      "Dep. Variable:     o_asthma_quantity_per_capita   R-squared:                       0.690\n",
      "Model:                                      OLS   Adj. R-squared:                  0.639\n",
      "Method:                           Least Squares   F-statistic:                     13.69\n",
      "Date:                          Sat, 10 May 2025   Prob (F-statistic):           3.49e-46\n",
      "Time:                                  21:18:51   Log-Likelihood:                -699.45\n",
      "No. Observations:                           309   AIC:                             1487.\n",
      "Df Residuals:                               265   BIC:                             1651.\n",
      "Df Model:                                    43                                         \n",
      "Covariance Type:                      nonrobust                                         \n",
      "===================================================================================================================\n",
      "                                                      coef    std err          t      P>|t|      [0.025      0.975]\n",
      "-------------------------------------------------------------------------------------------------------------------\n",
      "Intercept                                          23.1345      4.884      4.737      0.000      13.519      32.750\n",
      "c_net_annual_income                                -0.0002   8.32e-05     -2.107      0.036      -0.000   -1.15e-05\n",
      "c_percent_commute_car                              17.1875      2.952      5.822      0.000      11.374      23.001\n",
      "c_percent_commute_bus                             -20.3701      9.843     -2.070      0.039     -39.750      -0.990\n",
      "e_leaf_area_index_high_vegetation                  -0.1704      0.445     -0.383      0.702      -1.046       0.705\n",
      "c_percent_tfw_2km_to_5km                          -15.8410      4.645     -3.411      0.001     -24.986      -6.696\n",
      "e_lake_mix_layer_depth                              0.0773      0.048      1.605      0.110      -0.018       0.172\n",
      "e_no2                                           -8.632e+04   3.07e+04     -2.807      0.005   -1.47e+05   -2.58e+04\n",
      "c_percent_commute_metro_rail                       23.7192      8.275      2.866      0.004       7.427      40.012\n",
      "bs(centroid_x, df=5)[0]                           -87.7823     62.627     -1.402      0.162    -211.092      35.527\n",
      "bs(centroid_x, df=5)[1]                           161.1355     66.616      2.419      0.016      29.972     292.299\n",
      "bs(centroid_x, df=5)[2]                          -159.2066     51.225     -3.108      0.002    -260.067     -58.346\n",
      "bs(centroid_x, df=5)[3]                           108.1121    102.939      1.050      0.295     -94.570     310.794\n",
      "bs(centroid_x, df=5)[4]                          -114.4393    434.223     -0.264      0.792    -969.405     740.526\n",
      "bs(centroid_y, df=5)[0]                            15.3875     79.349      0.194      0.846    -140.848     171.622\n",
      "bs(centroid_y, df=5)[1]                           253.8721    168.227      1.509      0.132     -77.360     585.104\n",
      "bs(centroid_y, df=5)[2]                          -764.1057    578.507     -1.321      0.188   -1903.161     374.949\n",
      "bs(centroid_y, df=5)[3]                           704.3599    744.557      0.946      0.345    -761.640    2170.360\n",
      "bs(centroid_y, df=5)[4]                          -409.3837   1025.819     -0.399      0.690   -2429.177    1610.409\n",
      "bs(centroid_x, df=5)[0]:bs(centroid_y, df=5)[0]    54.4116     63.616      0.855      0.393     -70.846     179.669\n",
      "bs(centroid_x, df=5)[1]:bs(centroid_y, df=5)[0]  -185.8249    145.297     -1.279      0.202    -471.908     100.258\n",
      "bs(centroid_x, df=5)[2]:bs(centroid_y, df=5)[0]   166.9038     67.249      2.482      0.014      34.493     299.314\n",
      "bs(centroid_x, df=5)[3]:bs(centroid_y, df=5)[0]  -124.8197    163.269     -0.765      0.445    -446.289     196.650\n",
      "bs(centroid_x, df=5)[4]:bs(centroid_y, df=5)[0]   110.6898    466.401      0.237      0.813    -807.634    1029.013\n",
      "bs(centroid_x, df=5)[0]:bs(centroid_y, df=5)[1]  -179.1299    229.044     -0.782      0.435    -630.108     271.848\n",
      "bs(centroid_x, df=5)[1]:bs(centroid_y, df=5)[1]  -427.5775    147.883     -2.891      0.004    -718.752    -136.403\n",
      "bs(centroid_x, df=5)[2]:bs(centroid_y, df=5)[1]   -92.7816    188.207     -0.493      0.622    -463.352     277.789\n",
      "bs(centroid_x, df=5)[3]:bs(centroid_y, df=5)[1]  -375.4790    182.713     -2.055      0.041    -735.232     -15.726\n",
      "bs(centroid_x, df=5)[4]:bs(centroid_y, df=5)[1]  -137.8229    445.095     -0.310      0.757   -1014.195     738.549\n",
      "bs(centroid_x, df=5)[0]:bs(centroid_y, df=5)[2]   894.6943    617.585      1.449      0.149    -321.303    2110.692\n",
      "bs(centroid_x, df=5)[1]:bs(centroid_y, df=5)[2]   601.1959    583.659      1.030      0.304    -548.003    1750.395\n",
      "bs(centroid_x, df=5)[2]:bs(centroid_y, df=5)[2]   923.9178    581.769      1.588      0.113    -221.560    2069.395\n",
      "bs(centroid_x, df=5)[3]:bs(centroid_y, df=5)[2]   675.9946    593.164      1.140      0.255    -491.919    1843.908\n",
      "bs(centroid_x, df=5)[4]:bs(centroid_y, df=5)[2]   867.0103    718.281      1.207      0.228    -547.253    2281.273\n",
      "bs(centroid_x, df=5)[0]:bs(centroid_y, df=5)[3]  -643.0036    833.510     -0.771      0.441   -2284.148     998.140\n",
      "bs(centroid_x, df=5)[1]:bs(centroid_y, df=5)[3]  -862.5275    719.567     -1.199      0.232   -2279.324     554.269\n",
      "bs(centroid_x, df=5)[2]:bs(centroid_y, df=5)[3]  -552.6011    760.808     -0.726      0.468   -2050.599     945.397\n",
      "bs(centroid_x, df=5)[3]:bs(centroid_y, df=5)[3]  -902.4582    730.415     -1.236      0.218   -2340.614     535.698\n",
      "bs(centroid_x, df=5)[4]:bs(centroid_y, df=5)[3]  -518.0755    855.438     -0.606      0.545   -2202.396    1166.245\n",
      "bs(centroid_x, df=5)[0]:bs(centroid_y, df=5)[4]   481.2677   1146.917      0.420      0.675   -1776.963    2739.498\n",
      "bs(centroid_x, df=5)[1]:bs(centroid_y, df=5)[4]   237.2092    993.565      0.239      0.811   -1719.076    2193.495\n",
      "bs(centroid_x, df=5)[2]:bs(centroid_y, df=5)[4]   584.0442   1053.036      0.555      0.580   -1489.337    2657.426\n",
      "bs(centroid_x, df=5)[3]:bs(centroid_y, df=5)[4]   206.0926    964.443      0.214      0.831   -1692.853    2105.038\n",
      "bs(centroid_x, df=5)[4]:bs(centroid_y, df=5)[4]  1.471e+05   7.23e+04      2.035      0.043    4767.791    2.89e+05\n",
      "==============================================================================\n",
      "Omnibus:                       17.591   Durbin-Watson:                   1.979\n",
      "Prob(Omnibus):                  0.000   Jarque-Bera (JB):               23.363\n",
      "Skew:                          -0.445   Prob(JB):                     8.45e-06\n",
      "Kurtosis:                       4.012   Cond. No.                     1.79e+10\n",
      "==============================================================================\n",
      "\n",
      "Notes:\n",
      "[1] Standard Errors assume that the covariance matrix of the errors is correctly specified.\n",
      "[2] The condition number is large, 1.79e+10. This might indicate that there are\n",
      "strong multicollinearity or other numerical problems.\n",
      "\n",
      "======================================\n",
      "Fitting GAM for outcome: o_depression_quantity_per_capita\n",
      "Using predictors: ['c_net_annual_income', 'c_percent_no_religion', 'c_percent_asian', 'c_percent_commute_bus', 'c_percent_mixed', 'e_leaf_area_index_low_vegetation', 'e_surface_thermal_radiation_downwards_sum', 'c_percent_commute_bicycle', 'e_lake_mix_layer_depth', 'e_no2']\n",
      "Formula: o_depression_quantity_per_capita ~ c_net_annual_income + c_percent_no_religion + c_percent_asian + c_percent_commute_bus + c_percent_mixed + e_leaf_area_index_low_vegetation + e_surface_thermal_radiation_downwards_sum + c_percent_commute_bicycle + e_lake_mix_layer_depth + e_no2 + bs(centroid_x, df=5) * bs(centroid_y, df=5)\n",
      "======================================\n",
      "\n",
      "                                   OLS Regression Results                                   \n",
      "============================================================================================\n",
      "Dep. Variable:     o_depression_quantity_per_capita   R-squared:                       0.749\n",
      "Model:                                          OLS   Adj. R-squared:                  0.709\n",
      "Method:                               Least Squares   F-statistic:                     18.42\n",
      "Date:                              Sat, 10 May 2025   Prob (F-statistic):           9.72e-58\n",
      "Time:                                      21:18:51   Log-Likelihood:                -1014.8\n",
      "No. Observations:                               309   AIC:                             2118.\n",
      "Df Residuals:                                   265   BIC:                             2282.\n",
      "Df Model:                                        43                                         \n",
      "Covariance Type:                          nonrobust                                         \n",
      "===================================================================================================================\n",
      "                                                      coef    std err          t      P>|t|      [0.025      0.975]\n",
      "-------------------------------------------------------------------------------------------------------------------\n",
      "Intercept                                        -366.7874    443.566     -0.827      0.409   -1240.149     506.574\n",
      "c_net_annual_income                                -0.0009      0.000     -4.696      0.000      -0.001      -0.001\n",
      "c_percent_no_religion                              27.3048     11.768      2.320      0.021       4.134      50.475\n",
      "c_percent_asian                                   -22.4567      8.997     -2.496      0.013     -40.172      -4.741\n",
      "c_percent_commute_bus                              22.9375     30.147      0.761      0.447     -36.420      82.295\n",
      "c_percent_mixed                                  -466.9315     73.524     -6.351      0.000    -611.697    -322.166\n",
      "e_leaf_area_index_low_vegetation                    1.3604      2.917      0.466      0.641      -4.383       7.104\n",
      "e_surface_thermal_radiation_downwards_sum        5.067e-07   5.34e-07      0.948      0.344   -5.45e-07    1.56e-06\n",
      "c_percent_commute_bicycle                         -46.8566     37.001     -1.266      0.206    -119.711      25.997\n",
      "e_lake_mix_layer_depth                              0.1093      0.136      0.802      0.423      -0.159       0.377\n",
      "e_no2                                           -3.577e+04   8.48e+04     -0.422      0.674   -2.03e+05    1.31e+05\n",
      "bs(centroid_x, df=5)[0]                           108.9771    173.210      0.629      0.530    -232.066     450.020\n",
      "bs(centroid_x, df=5)[1]                            10.4560    185.146      0.056      0.955    -354.088     375.000\n",
      "bs(centroid_x, df=5)[2]                          -125.6765    143.165     -0.878      0.381    -407.562     156.209\n",
      "bs(centroid_x, df=5)[3]                          -234.4107    294.204     -0.797      0.426    -813.685     344.864\n",
      "bs(centroid_x, df=5)[4]                          -113.6374   1205.117     -0.094      0.925   -2486.460    2259.185\n",
      "bs(centroid_y, df=5)[0]                          -235.1572    224.195     -1.049      0.295    -676.587     206.273\n",
      "bs(centroid_y, df=5)[1]                          1303.9150    461.740      2.824      0.005     394.769    2213.061\n",
      "bs(centroid_y, df=5)[2]                         -3205.8237   1609.049     -1.992      0.047   -6373.972     -37.676\n",
      "bs(centroid_y, df=5)[3]                          1495.0951   2056.335      0.727      0.468   -2553.739    5543.929\n",
      "bs(centroid_y, df=5)[4]                            98.7034   2855.283      0.035      0.972   -5523.225    5720.632\n",
      "bs(centroid_x, df=5)[0]:bs(centroid_y, df=5)[0]    77.5939    182.641      0.425      0.671    -282.018     437.206\n",
      "bs(centroid_x, df=5)[1]:bs(centroid_y, df=5)[0]   295.2333    405.241      0.729      0.467    -502.668    1093.135\n",
      "bs(centroid_x, df=5)[2]:bs(centroid_y, df=5)[0]   398.1871    187.202      2.127      0.034      29.595     766.779\n",
      "bs(centroid_x, df=5)[3]:bs(centroid_y, df=5)[0]   551.9279    468.121      1.179      0.239    -369.782    1473.638\n",
      "bs(centroid_x, df=5)[4]:bs(centroid_y, df=5)[0]   390.6881   1291.855      0.302      0.763   -2152.917    2934.294\n",
      "bs(centroid_x, df=5)[0]:bs(centroid_y, df=5)[1] -1590.5866    631.843     -2.517      0.012   -2834.658    -346.515\n",
      "bs(centroid_x, df=5)[1]:bs(centroid_y, df=5)[1] -1312.4384    402.641     -3.260      0.001   -2105.222    -519.655\n",
      "bs(centroid_x, df=5)[2]:bs(centroid_y, df=5)[1] -1152.2673    521.977     -2.208      0.028   -2180.017    -124.517\n",
      "bs(centroid_x, df=5)[3]:bs(centroid_y, df=5)[1] -1120.6582    504.775     -2.220      0.027   -2114.538    -126.779\n",
      "bs(centroid_x, df=5)[4]:bs(centroid_y, df=5)[1] -1185.4419   1226.642     -0.966      0.335   -3600.647    1229.763\n",
      "bs(centroid_x, df=5)[0]:bs(centroid_y, df=5)[2]  3354.7615   1712.394      1.959      0.051     -16.867    6726.390\n",
      "bs(centroid_x, df=5)[1]:bs(centroid_y, df=5)[2]  3199.4444   1626.902      1.967      0.050      -3.855    6402.744\n",
      "bs(centroid_x, df=5)[2]:bs(centroid_y, df=5)[2]  3355.9907   1613.749      2.080      0.039     178.590    6533.392\n",
      "bs(centroid_x, df=5)[3]:bs(centroid_y, df=5)[2]  3592.2806   1652.411      2.174      0.031     338.756    6845.805\n",
      "bs(centroid_x, df=5)[4]:bs(centroid_y, df=5)[2]  3377.2254   2022.494      1.670      0.096    -604.976    7359.427\n",
      "bs(centroid_x, df=5)[0]:bs(centroid_y, df=5)[3] -1540.3575   2298.668     -0.670      0.503   -6066.335    2985.620\n",
      "bs(centroid_x, df=5)[1]:bs(centroid_y, df=5)[3] -1567.5660   1989.138     -0.788      0.431   -5484.091    2348.959\n",
      "bs(centroid_x, df=5)[2]:bs(centroid_y, df=5)[3] -1279.4005   2100.383     -0.609      0.543   -5414.963    2856.162\n",
      "bs(centroid_x, df=5)[3]:bs(centroid_y, df=5)[3] -1827.6412   2032.881     -0.899      0.369   -5830.295    2175.013\n",
      "bs(centroid_x, df=5)[4]:bs(centroid_y, df=5)[3] -1406.8513   2347.603     -0.599      0.550   -6029.179    3215.477\n",
      "bs(centroid_x, df=5)[0]:bs(centroid_y, df=5)[4]  -423.2263   3189.927     -0.133      0.895   -6704.054    5857.601\n",
      "bs(centroid_x, df=5)[1]:bs(centroid_y, df=5)[4]   -27.9222   2767.080     -0.010      0.992   -5476.181    5420.337\n",
      "bs(centroid_x, df=5)[2]:bs(centroid_y, df=5)[4]    24.4955   2927.203      0.008      0.993   -5739.040    5788.031\n",
      "bs(centroid_x, df=5)[3]:bs(centroid_y, df=5)[4]  -824.2471   2686.766     -0.307      0.759   -6114.371    4465.877\n",
      "bs(centroid_x, df=5)[4]:bs(centroid_y, df=5)[4]  5.626e+05      2e+05      2.818      0.005    1.69e+05    9.56e+05\n",
      "==============================================================================\n",
      "Omnibus:                       10.792   Durbin-Watson:                   2.166\n",
      "Prob(Omnibus):                  0.005   Jarque-Bera (JB):               12.342\n",
      "Skew:                          -0.347   Prob(JB):                      0.00209\n",
      "Kurtosis:                       3.690   Cond. No.                     4.19e+14\n",
      "==============================================================================\n",
      "\n",
      "Notes:\n",
      "[1] Standard Errors assume that the covariance matrix of the errors is correctly specified.\n",
      "[2] The condition number is large, 4.19e+14. This might indicate that there are\n",
      "strong multicollinearity or other numerical problems.\n",
      "\n",
      "======================================\n",
      "Fitting GAM for outcome: o_anxiety_quantity_per_capita\n",
      "Using predictors: ['c_net_annual_income', 'c_percent_10_years_or_more', 'e_leaf_area_index_low_vegetation', 'c_percent_commute_bicycle', 'e_surface_thermal_radiation_downwards_sum', 'c_percent_tfw_less_than_2km', 'e_lake_mix_layer_depth', 'c_percent_commute_bus']\n",
      "Formula: o_anxiety_quantity_per_capita ~ c_net_annual_income + c_percent_10_years_or_more + e_leaf_area_index_low_vegetation + c_percent_commute_bicycle + e_surface_thermal_radiation_downwards_sum + c_percent_tfw_less_than_2km + e_lake_mix_layer_depth + c_percent_commute_bus + bs(centroid_x, df=5) * bs(centroid_y, df=5)\n",
      "======================================\n",
      "\n",
      "                                  OLS Regression Results                                 \n",
      "=========================================================================================\n",
      "Dep. Variable:     o_anxiety_quantity_per_capita   R-squared:                       0.695\n",
      "Model:                                       OLS   Adj. R-squared:                  0.647\n",
      "Method:                            Least Squares   F-statistic:                     14.46\n",
      "Date:                           Sat, 10 May 2025   Prob (F-statistic):           8.89e-48\n",
      "Time:                                   21:18:51   Log-Likelihood:                -1127.9\n",
      "No. Observations:                            309   AIC:                             2342.\n",
      "Df Residuals:                                266   BIC:                             2502.\n",
      "Df Model:                                     42                                         \n",
      "Covariance Type:                       nonrobust                                         \n",
      "===================================================================================================================\n",
      "                                                      coef    std err          t      P>|t|      [0.025      0.975]\n",
      "-------------------------------------------------------------------------------------------------------------------\n",
      "Intercept                                        -291.9418    589.437     -0.495      0.621   -1452.498     868.615\n",
      "c_net_annual_income                                -0.0011      0.000     -3.721      0.000      -0.002      -0.001\n",
      "c_percent_10_years_or_more                       -105.8489     23.475     -4.509      0.000    -152.070     -59.628\n",
      "e_leaf_area_index_low_vegetation                    0.7076      3.963      0.179      0.858      -7.095       8.510\n",
      "c_percent_commute_bicycle                        -133.4164     53.201     -2.508      0.013    -238.165     -28.668\n",
      "e_surface_thermal_radiation_downwards_sum        4.484e-07   7.07e-07      0.634      0.526   -9.43e-07    1.84e-06\n",
      "c_percent_tfw_less_than_2km                        29.2606     28.825      1.015      0.311     -27.494      86.015\n",
      "e_lake_mix_layer_depth                              0.1824      0.195      0.936      0.350      -0.201       0.566\n",
      "c_percent_commute_bus                             -67.7593     39.484     -1.716      0.087    -145.500       9.982\n",
      "bs(centroid_x, df=5)[0]                           174.7609    247.603      0.706      0.481    -312.750     662.272\n",
      "bs(centroid_x, df=5)[1]                            20.5336    265.111      0.077      0.938    -501.449     542.516\n",
      "bs(centroid_x, df=5)[2]                          -213.9756    205.846     -1.039      0.300    -619.270     191.319\n",
      "bs(centroid_x, df=5)[3]                          -214.1372    419.880     -0.510      0.610   -1040.848     612.574\n",
      "bs(centroid_x, df=5)[4]                           -55.3826   1723.019     -0.032      0.974   -3447.874    3337.109\n",
      "bs(centroid_y, df=5)[0]                          -382.8381    322.485     -1.187      0.236   -1017.785     252.109\n",
      "bs(centroid_y, df=5)[1]                          1679.0659    663.698      2.530      0.012     372.296    2985.835\n",
      "bs(centroid_y, df=5)[2]                         -2217.0678   2309.425     -0.960      0.338   -6764.147    2330.012\n",
      "bs(centroid_y, df=5)[3]                          1916.7371   2974.124      0.644      0.520   -3939.082    7772.556\n",
      "bs(centroid_y, df=5)[4]                          -180.6423   4153.099     -0.043      0.965   -8357.772    7996.487\n",
      "bs(centroid_x, df=5)[0]:bs(centroid_y, df=5)[0]   183.0306    260.072      0.704      0.482    -329.031     695.092\n",
      "bs(centroid_x, df=5)[1]:bs(centroid_y, df=5)[0]   418.8835    581.629      0.720      0.472    -726.300    1564.067\n",
      "bs(centroid_x, df=5)[2]:bs(centroid_y, df=5)[0]   687.5099    270.791      2.539      0.012     154.344    1220.676\n",
      "bs(centroid_x, df=5)[3]:bs(centroid_y, df=5)[0]   637.5762    669.880      0.952      0.342    -681.365    1956.518\n",
      "bs(centroid_x, df=5)[4]:bs(centroid_y, df=5)[0]   561.8175   1844.534      0.305      0.761   -3069.927    4193.562\n",
      "bs(centroid_x, df=5)[0]:bs(centroid_y, df=5)[1] -2116.5858    905.953     -2.336      0.020   -3900.336    -332.835\n",
      "bs(centroid_x, df=5)[1]:bs(centroid_y, df=5)[1] -1671.2915    580.588     -2.879      0.004   -2814.424    -528.159\n",
      "bs(centroid_x, df=5)[2]:bs(centroid_y, df=5)[1] -1479.9618    748.606     -1.977      0.049   -2953.908      -6.015\n",
      "bs(centroid_x, df=5)[3]:bs(centroid_y, df=5)[1] -1501.4401    724.003     -2.074      0.039   -2926.945     -75.935\n",
      "bs(centroid_x, df=5)[4]:bs(centroid_y, df=5)[1] -1657.6386   1763.444     -0.940      0.348   -5129.724    1814.446\n",
      "bs(centroid_x, df=5)[0]:bs(centroid_y, df=5)[2]  2310.0081   2452.845      0.942      0.347   -2519.453    7139.469\n",
      "bs(centroid_x, df=5)[1]:bs(centroid_y, df=5)[2]  2173.9804   2337.333      0.930      0.353   -2428.047    6776.008\n",
      "bs(centroid_x, df=5)[2]:bs(centroid_y, df=5)[2]  2482.9940   2316.020      1.072      0.285   -2077.070    7043.058\n",
      "bs(centroid_x, df=5)[3]:bs(centroid_y, df=5)[2]  2584.3538   2366.242      1.092      0.276   -2074.592    7243.300\n",
      "bs(centroid_x, df=5)[4]:bs(centroid_y, df=5)[2]  2357.5105   2879.324      0.819      0.414   -3311.655    8026.676\n",
      "bs(centroid_x, df=5)[0]:bs(centroid_y, df=5)[3] -2047.7959   3324.349     -0.616      0.538   -8593.181    4497.589\n",
      "bs(centroid_x, df=5)[1]:bs(centroid_y, df=5)[3] -2007.4781   2876.655     -0.698      0.486   -7671.388    3656.432\n",
      "bs(centroid_x, df=5)[2]:bs(centroid_y, df=5)[3] -1612.2966   3036.892     -0.531      0.596   -7591.700    4367.107\n",
      "bs(centroid_x, df=5)[3]:bs(centroid_y, df=5)[3] -2270.3791   2930.901     -0.775      0.439   -8041.096    3500.337\n",
      "bs(centroid_x, df=5)[4]:bs(centroid_y, df=5)[3] -1869.3634   3403.779     -0.549      0.583   -8571.140    4832.413\n",
      "bs(centroid_x, df=5)[0]:bs(centroid_y, df=5)[4]  -225.9249   4638.001     -0.049      0.961   -9357.789    8905.939\n",
      "bs(centroid_x, df=5)[1]:bs(centroid_y, df=5)[4]   233.7108   4025.550      0.058      0.954   -7692.284    8159.706\n",
      "bs(centroid_x, df=5)[2]:bs(centroid_y, df=5)[4]   419.6153   4256.568      0.099      0.922   -7961.236    8800.467\n",
      "bs(centroid_x, df=5)[3]:bs(centroid_y, df=5)[4] -1247.2683   3912.640     -0.319      0.750   -8950.952    6456.416\n",
      "bs(centroid_x, df=5)[4]:bs(centroid_y, df=5)[4]  6.399e+05   2.83e+05      2.263      0.024    8.31e+04     1.2e+06\n",
      "==============================================================================\n",
      "Omnibus:                        9.844   Durbin-Watson:                   2.111\n",
      "Prob(Omnibus):                  0.007   Jarque-Bera (JB):               11.310\n",
      "Skew:                          -0.320   Prob(JB):                      0.00350\n",
      "Kurtosis:                       3.686   Cond. No.                     4.11e+14\n",
      "==============================================================================\n",
      "\n",
      "Notes:\n",
      "[1] Standard Errors assume that the covariance matrix of the errors is correctly specified.\n",
      "[2] The condition number is large, 4.11e+14. This might indicate that there are\n",
      "strong multicollinearity or other numerical problems.\n",
      "\n",
      "======================================\n",
      "Fitting GAM for outcome: o_opioids_quantity_per_capita\n",
      "Using predictors: ['c_net_annual_income', 'c_percent_2._professional_occupations', 'e_surface_thermal_radiation_downwards_sum', 'c_percent_mixed', 'c_percent_commute_metro_rail', 'e_no2', 'e_lake_mix_layer_depth', 'e_total_aerosol_optical_depth_at_550nm_surface', 'e_evaporation_from_the_top_of_canopy_sum']\n",
      "Formula: o_opioids_quantity_per_capita ~ c_net_annual_income + Q(\"c_percent_2._professional_occupations\") + e_surface_thermal_radiation_downwards_sum + c_percent_mixed + c_percent_commute_metro_rail + e_no2 + e_lake_mix_layer_depth + e_total_aerosol_optical_depth_at_550nm_surface + e_evaporation_from_the_top_of_canopy_sum + bs(centroid_x, df=5) * bs(centroid_y, df=5)\n",
      "======================================\n",
      "\n",
      "                                  OLS Regression Results                                 \n",
      "=========================================================================================\n",
      "Dep. Variable:     o_opioids_quantity_per_capita   R-squared:                       0.781\n",
      "Model:                                       OLS   Adj. R-squared:                  0.747\n",
      "Method:                            Least Squares   F-statistic:                     22.64\n",
      "Date:                           Sat, 10 May 2025   Prob (F-statistic):           6.10e-66\n",
      "Time:                                   21:18:51   Log-Likelihood:                -1059.5\n",
      "No. Observations:                            309   AIC:                             2205.\n",
      "Df Residuals:                                266   BIC:                             2366.\n",
      "Df Model:                                     42                                         \n",
      "Covariance Type:                       nonrobust                                         \n",
      "===================================================================================================================\n",
      "                                                      coef    std err          t      P>|t|      [0.025      0.975]\n",
      "-------------------------------------------------------------------------------------------------------------------\n",
      "Intercept                                        -625.6026    514.065     -1.217      0.225   -1637.757     386.551\n",
      "c_net_annual_income                                -0.0004      0.000     -1.263      0.208      -0.001       0.000\n",
      "Q(\"c_percent_2._professional_occupations\")        -57.9201     18.810     -3.079      0.002     -94.955     -20.885\n",
      "e_surface_thermal_radiation_downwards_sum        1.087e-06   6.43e-07      1.690      0.092   -1.79e-07    2.35e-06\n",
      "c_percent_mixed                                  -359.0105     68.534     -5.238      0.000    -493.948    -224.073\n",
      "c_percent_commute_metro_rail                      -13.7535     25.402     -0.541      0.589     -63.768      36.261\n",
      "e_no2                                            4758.3268   9.87e+04      0.048      0.962    -1.9e+05    1.99e+05\n",
      "e_lake_mix_layer_depth                              0.2324      0.156      1.491      0.137      -0.075       0.539\n",
      "e_total_aerosol_optical_depth_at_550nm_surface  -1565.5894    638.255     -2.453      0.015   -2822.263    -308.916\n",
      "e_evaporation_from_the_top_of_canopy_sum          299.6238    519.342      0.577      0.564    -722.919    1322.167\n",
      "bs(centroid_x, df=5)[0]                           -13.6668    205.969     -0.066      0.947    -419.203     391.870\n",
      "bs(centroid_x, df=5)[1]                           114.2939    216.613      0.528      0.598    -312.200     540.788\n",
      "bs(centroid_x, df=5)[2]                           -55.0375    166.899     -0.330      0.742    -383.648     273.573\n",
      "bs(centroid_x, df=5)[3]                            -4.6088    339.868     -0.014      0.989    -673.782     664.564\n",
      "bs(centroid_x, df=5)[4]                         -1944.9463   1409.246     -1.380      0.169   -4719.643     829.750\n",
      "bs(centroid_y, df=5)[0]                          -124.5768    263.022     -0.474      0.636    -642.448     393.294\n",
      "bs(centroid_y, df=5)[1]                           978.7980    553.815      1.767      0.078    -111.621    2069.217\n",
      "bs(centroid_y, df=5)[2]                         -1650.6474   1812.391     -0.911      0.363   -5219.105    1917.811\n",
      "bs(centroid_y, df=5)[3]                          2001.9874   2444.236      0.819      0.413   -2810.524    6814.499\n",
      "bs(centroid_y, df=5)[4]                         -1029.3713   3253.348     -0.316      0.752   -7434.962    5376.219\n",
      "bs(centroid_x, df=5)[0]:bs(centroid_y, df=5)[0]    39.9791    216.277      0.185      0.853    -385.854     465.812\n",
      "bs(centroid_x, df=5)[1]:bs(centroid_y, df=5)[0]    34.2428    479.318      0.071      0.943    -909.497     977.982\n",
      "bs(centroid_x, df=5)[2]:bs(centroid_y, df=5)[0]   151.3460    220.411      0.687      0.493    -282.627     585.319\n",
      "bs(centroid_x, df=5)[3]:bs(centroid_y, df=5)[0]   229.6597    547.889      0.419      0.675    -849.091    1308.410\n",
      "bs(centroid_x, df=5)[4]:bs(centroid_y, df=5)[0]  2268.2159   1505.835      1.506      0.133    -696.656    5233.087\n",
      "bs(centroid_x, df=5)[0]:bs(centroid_y, df=5)[1] -1031.3756    758.256     -1.360      0.175   -2524.323     461.571\n",
      "bs(centroid_x, df=5)[1]:bs(centroid_y, df=5)[1] -1155.0960    475.098     -2.431      0.016   -2090.527    -219.665\n",
      "bs(centroid_x, df=5)[2]:bs(centroid_y, df=5)[1]  -955.0649    625.310     -1.527      0.128   -2186.252     276.122\n",
      "bs(centroid_x, df=5)[3]:bs(centroid_y, df=5)[1] -1080.6375    595.307     -1.815      0.071   -2252.750      91.475\n",
      "bs(centroid_x, df=5)[4]:bs(centroid_y, df=5)[1]   841.1413   1443.471      0.583      0.561   -2000.941    3683.224\n",
      "bs(centroid_x, df=5)[0]:bs(centroid_y, df=5)[2]  1630.8253   1931.328      0.844      0.399   -2171.810    5433.461\n",
      "bs(centroid_x, df=5)[1]:bs(centroid_y, df=5)[2]  1526.9406   1837.303      0.831      0.407   -2090.567    5144.448\n",
      "bs(centroid_x, df=5)[2]:bs(centroid_y, df=5)[2]  1681.1610   1820.364      0.924      0.357   -1902.995    5265.317\n",
      "bs(centroid_x, df=5)[3]:bs(centroid_y, df=5)[2]  1750.7088   1868.430      0.937      0.350   -1928.084    5429.502\n",
      "bs(centroid_x, df=5)[4]:bs(centroid_y, df=5)[2]  3773.0423   2308.528      1.634      0.103    -772.271    8318.355\n",
      "bs(centroid_x, df=5)[0]:bs(centroid_y, df=5)[3] -1703.0405   2747.145     -0.620      0.536   -7111.955    3705.874\n",
      "bs(centroid_x, df=5)[1]:bs(centroid_y, df=5)[3] -2278.6194   2353.540     -0.968      0.334   -6912.557    2355.318\n",
      "bs(centroid_x, df=5)[2]:bs(centroid_y, df=5)[3] -1899.3828   2492.560     -0.762      0.447   -6807.040    3008.274\n",
      "bs(centroid_x, df=5)[3]:bs(centroid_y, df=5)[3] -2431.6442   2407.053     -1.010      0.313   -7170.944    2307.656\n",
      "bs(centroid_x, df=5)[4]:bs(centroid_y, df=5)[3]  -745.7157   2820.180     -0.264      0.792   -6298.431    4807.000\n",
      "bs(centroid_x, df=5)[0]:bs(centroid_y, df=5)[4]   834.4655   3634.362      0.230      0.819   -6321.312    7990.243\n",
      "bs(centroid_x, df=5)[1]:bs(centroid_y, df=5)[4]   839.4048   3158.021      0.266      0.791   -5378.493    7057.303\n",
      "bs(centroid_x, df=5)[2]:bs(centroid_y, df=5)[4]  1232.7164   3336.086      0.370      0.712   -5335.777    7801.210\n",
      "bs(centroid_x, df=5)[3]:bs(centroid_y, df=5)[4]  -864.4505   3098.015     -0.279      0.780   -6964.201    5235.300\n",
      "bs(centroid_x, df=5)[4]:bs(centroid_y, df=5)[4]  7.737e+05   2.25e+05      3.434      0.001     3.3e+05    1.22e+06\n",
      "==============================================================================\n",
      "Omnibus:                       24.203   Durbin-Watson:                   1.982\n",
      "Prob(Omnibus):                  0.000   Jarque-Bera (JB):               47.053\n",
      "Skew:                           0.434   Prob(JB):                     6.06e-11\n",
      "Kurtosis:                       4.704   Cond. No.                     4.10e+14\n",
      "==============================================================================\n",
      "\n",
      "Notes:\n",
      "[1] Standard Errors assume that the covariance matrix of the errors is correctly specified.\n",
      "[2] The condition number is large, 4.1e+14. This might indicate that there are\n",
      "strong multicollinearity or other numerical problems.\n",
      "\n",
      "======================================\n",
      "Fitting GAM for outcome: o_total_quantity_per_capita\n",
      "Using predictors: ['c_percent_10_years_or_more', 'c_percent_wfh', 'e_surface_thermal_radiation_downwards_sum', 'c_percent_commute_bicycle', 'c_percent_commute_bus', 'e_evaporation_from_the_top_of_canopy_sum', 'e_lake_mix_layer_temperature', 'e_surface_runoff_sum']\n",
      "Formula: o_total_quantity_per_capita ~ c_percent_10_years_or_more + c_percent_wfh + e_surface_thermal_radiation_downwards_sum + c_percent_commute_bicycle + c_percent_commute_bus + e_evaporation_from_the_top_of_canopy_sum + e_lake_mix_layer_temperature + e_surface_runoff_sum + bs(centroid_x, df=5) * bs(centroid_y, df=5)\n",
      "======================================\n",
      "\n",
      "                                 OLS Regression Results                                \n",
      "=======================================================================================\n",
      "Dep. Variable:     o_total_quantity_per_capita   R-squared:                       0.663\n",
      "Model:                                     OLS   Adj. R-squared:                  0.610\n",
      "Method:                          Least Squares   F-statistic:                     12.47\n",
      "Date:                         Sat, 10 May 2025   Prob (F-statistic):           2.30e-42\n",
      "Time:                                 21:18:51   Log-Likelihood:                -2073.1\n",
      "No. Observations:                          309   AIC:                             4232.\n",
      "Df Residuals:                              266   BIC:                             4393.\n",
      "Df Model:                                   42                                         \n",
      "Covariance Type:                     nonrobust                                         \n",
      "===================================================================================================================\n",
      "                                                      coef    std err          t      P>|t|      [0.025      0.975]\n",
      "-------------------------------------------------------------------------------------------------------------------\n",
      "Intercept                                        3.141e+04   2.31e+04      1.359      0.175   -1.41e+04    7.69e+04\n",
      "c_percent_10_years_or_more                       -767.5648    493.039     -1.557      0.121   -1738.320     203.191\n",
      "c_percent_wfh                                   -1544.8238    223.948     -6.898      0.000   -1985.759   -1103.889\n",
      "e_surface_thermal_radiation_downwards_sum        3.595e-05   1.62e-05      2.217      0.027    4.03e-06    6.79e-05\n",
      "c_percent_commute_bicycle                       -2606.9323   1060.668     -2.458      0.015   -4695.306    -518.559\n",
      "c_percent_commute_bus                           -2730.7716    820.823     -3.327      0.001   -4346.908   -1114.636\n",
      "e_evaporation_from_the_top_of_canopy_sum        -9498.8082   1.41e+04     -0.671      0.503   -3.74e+04    1.84e+04\n",
      "e_lake_mix_layer_temperature                     -210.4526     88.717     -2.372      0.018    -385.129     -35.776\n",
      "e_surface_runoff_sum                            -3.402e+04   1.36e+04     -2.510      0.013   -6.07e+04   -7336.103\n",
      "bs(centroid_x, df=5)[0]                          8871.8187   5494.323      1.615      0.108   -1946.077    1.97e+04\n",
      "bs(centroid_x, df=5)[1]                         -2283.9884   5864.582     -0.389      0.697   -1.38e+04    9262.918\n",
      "bs(centroid_x, df=5)[2]                         -2935.8429   4529.544     -0.648      0.517   -1.19e+04    5982.478\n",
      "bs(centroid_x, df=5)[3]                         -6154.3675   8948.541     -0.688      0.492   -2.38e+04    1.15e+04\n",
      "bs(centroid_x, df=5)[4]                         -2.505e+04   3.67e+04     -0.683      0.495   -9.72e+04    4.71e+04\n",
      "bs(centroid_y, df=5)[0]                         -1.523e+04   7004.813     -2.175      0.031    -2.9e+04   -1440.926\n",
      "bs(centroid_y, df=5)[1]                          4.167e+04   1.47e+04      2.828      0.005    1.27e+04    7.07e+04\n",
      "bs(centroid_y, df=5)[2]                         -4.907e+04   4.84e+04     -1.014      0.311   -1.44e+05    4.62e+04\n",
      "bs(centroid_y, df=5)[3]                          3.553e+04   6.25e+04      0.569      0.570   -8.75e+04    1.59e+05\n",
      "bs(centroid_y, df=5)[4]                          5.163e+04   8.65e+04      0.597      0.551   -1.19e+05    2.22e+05\n",
      "bs(centroid_x, df=5)[0]:bs(centroid_y, df=5)[0]  4258.8664   5437.219      0.783      0.434   -6446.596     1.5e+04\n",
      "bs(centroid_x, df=5)[1]:bs(centroid_y, df=5)[0]  2.012e+04   1.28e+04      1.567      0.118   -5163.050    4.54e+04\n",
      "bs(centroid_x, df=5)[2]:bs(centroid_y, df=5)[0]  1.883e+04   5710.457      3.298      0.001    7587.234    3.01e+04\n",
      "bs(centroid_x, df=5)[3]:bs(centroid_y, df=5)[0]  2.484e+04   1.44e+04      1.728      0.085   -3469.689    5.31e+04\n",
      "bs(centroid_x, df=5)[4]:bs(centroid_y, df=5)[0]  4.361e+04   3.92e+04      1.111      0.267   -3.37e+04    1.21e+05\n",
      "bs(centroid_x, df=5)[0]:bs(centroid_y, df=5)[1]  -5.57e+04   2.02e+04     -2.757      0.006   -9.55e+04   -1.59e+04\n",
      "bs(centroid_x, df=5)[1]:bs(centroid_y, df=5)[1] -4.031e+04   1.26e+04     -3.197      0.002   -6.51e+04   -1.55e+04\n",
      "bs(centroid_x, df=5)[2]:bs(centroid_y, df=5)[1] -3.863e+04   1.68e+04     -2.298      0.022   -7.17e+04   -5531.084\n",
      "bs(centroid_x, df=5)[3]:bs(centroid_y, df=5)[1] -3.736e+04   1.58e+04     -2.358      0.019   -6.85e+04   -6161.726\n",
      "bs(centroid_x, df=5)[4]:bs(centroid_y, df=5)[1]  -1.77e+04   3.78e+04     -0.468      0.640   -9.22e+04    5.68e+04\n",
      "bs(centroid_x, df=5)[0]:bs(centroid_y, df=5)[2]  4.516e+04   5.11e+04      0.884      0.378   -5.54e+04    1.46e+05\n",
      "bs(centroid_x, df=5)[1]:bs(centroid_y, df=5)[2]  5.269e+04   4.93e+04      1.069      0.286   -4.44e+04     1.5e+05\n",
      "bs(centroid_x, df=5)[2]:bs(centroid_y, df=5)[2]  5.174e+04   4.83e+04      1.071      0.285   -4.34e+04    1.47e+05\n",
      "bs(centroid_x, df=5)[3]:bs(centroid_y, df=5)[2]  5.897e+04   4.96e+04      1.188      0.236   -3.88e+04    1.57e+05\n",
      "bs(centroid_x, df=5)[4]:bs(centroid_y, df=5)[2]  7.651e+04   6.04e+04      1.266      0.207   -4.24e+04    1.95e+05\n",
      "bs(centroid_x, df=5)[0]:bs(centroid_y, df=5)[3] -4.226e+04   6.98e+04     -0.605      0.546    -1.8e+05    9.52e+04\n",
      "bs(centroid_x, df=5)[1]:bs(centroid_y, df=5)[3] -3.592e+04   6.05e+04     -0.594      0.553   -1.55e+05    8.31e+04\n",
      "bs(centroid_x, df=5)[2]:bs(centroid_y, df=5)[3] -3.025e+04   6.38e+04     -0.474      0.636   -1.56e+05    9.54e+04\n",
      "bs(centroid_x, df=5)[3]:bs(centroid_y, df=5)[3] -3.923e+04   6.15e+04     -0.638      0.524    -1.6e+05    8.18e+04\n",
      "bs(centroid_x, df=5)[4]:bs(centroid_y, df=5)[3] -1.279e+04   7.23e+04     -0.177      0.860   -1.55e+05     1.3e+05\n",
      "bs(centroid_x, df=5)[0]:bs(centroid_y, df=5)[4] -7.371e+04   9.65e+04     -0.764      0.446   -2.64e+05    1.16e+05\n",
      "bs(centroid_x, df=5)[1]:bs(centroid_y, df=5)[4] -4.507e+04    8.4e+04     -0.537      0.592    -2.1e+05     1.2e+05\n",
      "bs(centroid_x, df=5)[2]:bs(centroid_y, df=5)[4] -4.931e+04   8.86e+04     -0.557      0.578   -2.24e+05    1.25e+05\n",
      "bs(centroid_x, df=5)[3]:bs(centroid_y, df=5)[4] -6.527e+04   8.13e+04     -0.803      0.423   -2.25e+05    9.49e+04\n",
      "bs(centroid_x, df=5)[4]:bs(centroid_y, df=5)[4]  1.504e+07   5.96e+06      2.522      0.012     3.3e+06    2.68e+07\n",
      "==============================================================================\n",
      "Omnibus:                        8.588   Durbin-Watson:                   2.077\n",
      "Prob(Omnibus):                  0.014   Jarque-Bera (JB):               15.226\n",
      "Skew:                          -0.026   Prob(JB):                     0.000494\n",
      "Kurtosis:                       4.086   Cond. No.                     4.07e+14\n",
      "==============================================================================\n",
      "\n",
      "Notes:\n",
      "[1] Standard Errors assume that the covariance matrix of the errors is correctly specified.\n",
      "[2] The condition number is large, 4.07e+14. This might indicate that there are\n",
      "strong multicollinearity or other numerical problems.\n"
     ]
    }
   ],
   "source": [
    "gam_models = {}  # to store fitted models\n",
    "selected_predictors_dict = {}  # to store selected predictors per outcome\n",
    "for outcome in medical_outcomes:\n",
    "    all_predictors = top_predictors.get(outcome, [])\n",
    "    predictors_in_data = [var for var in all_predictors if var in df_lad.columns]\n",
    "    selected_predictors = filter_predictors(predictors_in_data, df_lad, corr_threshold=0.8)\n",
    "    selected_predictors_dict[outcome] = selected_predictors\n",
    "\n",
    "    # Quote predictors and outcome where needed\n",
    "    quoted_outcome = quote_if_needed(outcome)\n",
    "    quoted_predictors = [quote_if_needed(pred) for pred in selected_predictors]\n",
    "\n",
    "    # Construct the formula\n",
    "    formula = (\n",
    "        f\"{quoted_outcome} ~ \"\n",
    "        + \" + \".join(quoted_predictors)\n",
    "        + \" + bs(centroid_x, df=5) * bs(centroid_y, df=5)\"\n",
    "    )\n",
    "\n",
    "    print(\"\\n======================================\")\n",
    "    print(f\"Fitting GAM for outcome: {outcome}\")\n",
    "    print(\"Using predictors:\", selected_predictors)\n",
    "    print(\"Formula:\", formula)\n",
    "    print(\"======================================\\n\")\n",
    "\n",
    "    # Fit the model\n",
    "    gam_model = smf.ols(formula=formula, data=df_lad, eval_env=EvalEnvironment.capture(1)).fit()\n",
    "    gam_models[outcome] = gam_model\n",
    "\n",
    "    print(gam_model.summary())\n",
    "    df_lad[f\"{outcome}_pred\"] = gam_model.predict(df_lad)"
   ]
  },
  {
   "cell_type": "code",
   "execution_count": 70,
   "metadata": {
    "execution": {
     "iopub.execute_input": "2025-05-10T21:19:17.615132Z",
     "iopub.status.busy": "2025-05-10T21:19:17.614579Z",
     "iopub.status.idle": "2025-05-10T21:19:17.659502Z",
     "shell.execute_reply": "2025-05-10T21:19:17.659022Z",
     "shell.execute_reply.started": "2025-05-10T21:19:17.615101Z"
    },
    "trusted": true
   },
   "outputs": [],
   "source": [
    "df_lad[f\"{outcome}_pred\"] = gam_model.predict(df_lad)\n",
    "output_path = f'/kaggle/working/df_lad_with_gam_predictions.csv'\n",
    "df_lad.to_csv(output_path)"
   ]
  },
  {
   "cell_type": "code",
   "execution_count": 71,
   "metadata": {
    "execution": {
     "iopub.execute_input": "2025-05-10T21:19:50.480190Z",
     "iopub.status.busy": "2025-05-10T21:19:50.479939Z",
     "iopub.status.idle": "2025-05-10T21:19:53.800142Z",
     "shell.execute_reply": "2025-05-10T21:19:53.799314Z",
     "shell.execute_reply.started": "2025-05-10T21:19:50.480170Z"
    },
    "trusted": true
   },
   "outputs": [
    {
     "name": "stdout",
     "output_type": "stream",
     "text": [
      "Requirement already satisfied: mgwr in /usr/local/lib/python3.11/dist-packages (2.2.1)\n",
      "Requirement already satisfied: scipy>=0.11 in /usr/local/lib/python3.11/dist-packages (from mgwr) (1.15.2)\n",
      "Requirement already satisfied: numpy>=1.3 in /usr/local/lib/python3.11/dist-packages (from mgwr) (1.26.4)\n",
      "Requirement already satisfied: libpysal>=4.0.0 in /usr/local/lib/python3.11/dist-packages (from mgwr) (4.9.2)\n",
      "Requirement already satisfied: spglm>=1.0.6 in /usr/local/lib/python3.11/dist-packages (from mgwr) (1.1.0)\n",
      "Requirement already satisfied: spreg in /usr/local/lib/python3.11/dist-packages (from mgwr) (1.8.2)\n",
      "Requirement already satisfied: beautifulsoup4>=4.10 in /usr/local/lib/python3.11/dist-packages (from libpysal>=4.0.0->mgwr) (4.13.3)\n",
      "Requirement already satisfied: geopandas>=0.10.0 in /usr/local/lib/python3.11/dist-packages (from libpysal>=4.0.0->mgwr) (0.14.4)\n",
      "Requirement already satisfied: packaging>=22 in /usr/local/lib/python3.11/dist-packages (from libpysal>=4.0.0->mgwr) (24.2)\n",
      "Requirement already satisfied: pandas>=1.4 in /usr/local/lib/python3.11/dist-packages (from libpysal>=4.0.0->mgwr) (2.2.3)\n",
      "Requirement already satisfied: platformdirs>=2.0.2 in /usr/local/lib/python3.11/dist-packages (from libpysal>=4.0.0->mgwr) (4.3.7)\n",
      "Requirement already satisfied: requests>=2.27 in /usr/local/lib/python3.11/dist-packages (from libpysal>=4.0.0->mgwr) (2.32.3)\n",
      "Requirement already satisfied: shapely>=2.0.1 in /usr/local/lib/python3.11/dist-packages (from libpysal>=4.0.0->mgwr) (2.1.0)\n",
      "Requirement already satisfied: mkl_fft in /usr/local/lib/python3.11/dist-packages (from numpy>=1.3->mgwr) (1.3.8)\n",
      "Requirement already satisfied: mkl_random in /usr/local/lib/python3.11/dist-packages (from numpy>=1.3->mgwr) (1.2.4)\n",
      "Requirement already satisfied: mkl_umath in /usr/local/lib/python3.11/dist-packages (from numpy>=1.3->mgwr) (0.1.1)\n",
      "Requirement already satisfied: mkl in /usr/local/lib/python3.11/dist-packages (from numpy>=1.3->mgwr) (2025.1.0)\n",
      "Requirement already satisfied: tbb4py in /usr/local/lib/python3.11/dist-packages (from numpy>=1.3->mgwr) (2022.1.0)\n",
      "Requirement already satisfied: mkl-service in /usr/local/lib/python3.11/dist-packages (from numpy>=1.3->mgwr) (2.4.1)\n",
      "Requirement already satisfied: scikit-learn>=0.22 in /usr/local/lib/python3.11/dist-packages (from spreg->mgwr) (1.2.2)\n",
      "Requirement already satisfied: soupsieve>1.2 in /usr/local/lib/python3.11/dist-packages (from beautifulsoup4>=4.10->libpysal>=4.0.0->mgwr) (2.6)\n",
      "Requirement already satisfied: typing-extensions>=4.0.0 in /usr/local/lib/python3.11/dist-packages (from beautifulsoup4>=4.10->libpysal>=4.0.0->mgwr) (4.13.1)\n",
      "Requirement already satisfied: fiona>=1.8.21 in /usr/local/lib/python3.11/dist-packages (from geopandas>=0.10.0->libpysal>=4.0.0->mgwr) (1.10.1)\n",
      "Requirement already satisfied: pyproj>=3.3.0 in /usr/local/lib/python3.11/dist-packages (from geopandas>=0.10.0->libpysal>=4.0.0->mgwr) (3.7.0)\n",
      "Requirement already satisfied: python-dateutil>=2.8.2 in /usr/local/lib/python3.11/dist-packages (from pandas>=1.4->libpysal>=4.0.0->mgwr) (2.9.0.post0)\n",
      "Requirement already satisfied: pytz>=2020.1 in /usr/local/lib/python3.11/dist-packages (from pandas>=1.4->libpysal>=4.0.0->mgwr) (2025.2)\n",
      "Requirement already satisfied: tzdata>=2022.7 in /usr/local/lib/python3.11/dist-packages (from pandas>=1.4->libpysal>=4.0.0->mgwr) (2025.2)\n",
      "Requirement already satisfied: charset-normalizer<4,>=2 in /usr/local/lib/python3.11/dist-packages (from requests>=2.27->libpysal>=4.0.0->mgwr) (3.4.1)\n",
      "Requirement already satisfied: idna<4,>=2.5 in /usr/local/lib/python3.11/dist-packages (from requests>=2.27->libpysal>=4.0.0->mgwr) (3.10)\n",
      "Requirement already satisfied: urllib3<3,>=1.21.1 in /usr/local/lib/python3.11/dist-packages (from requests>=2.27->libpysal>=4.0.0->mgwr) (2.3.0)\n",
      "Requirement already satisfied: certifi>=2017.4.17 in /usr/local/lib/python3.11/dist-packages (from requests>=2.27->libpysal>=4.0.0->mgwr) (2025.1.31)\n",
      "Requirement already satisfied: joblib>=1.1.1 in /usr/local/lib/python3.11/dist-packages (from scikit-learn>=0.22->spreg->mgwr) (1.4.2)\n",
      "Requirement already satisfied: threadpoolctl>=2.0.0 in /usr/local/lib/python3.11/dist-packages (from scikit-learn>=0.22->spreg->mgwr) (3.6.0)\n",
      "Requirement already satisfied: intel-openmp<2026,>=2024 in /usr/local/lib/python3.11/dist-packages (from mkl->numpy>=1.3->mgwr) (2024.2.0)\n",
      "Requirement already satisfied: tbb==2022.* in /usr/local/lib/python3.11/dist-packages (from mkl->numpy>=1.3->mgwr) (2022.1.0)\n",
      "Requirement already satisfied: tcmlib==1.* in /usr/local/lib/python3.11/dist-packages (from tbb==2022.*->mkl->numpy>=1.3->mgwr) (1.2.0)\n",
      "Requirement already satisfied: intel-cmplr-lib-rt in /usr/local/lib/python3.11/dist-packages (from mkl_umath->numpy>=1.3->mgwr) (2024.2.0)\n",
      "Requirement already satisfied: attrs>=19.2.0 in /usr/local/lib/python3.11/dist-packages (from fiona>=1.8.21->geopandas>=0.10.0->libpysal>=4.0.0->mgwr) (25.3.0)\n",
      "Requirement already satisfied: click~=8.0 in /usr/local/lib/python3.11/dist-packages (from fiona>=1.8.21->geopandas>=0.10.0->libpysal>=4.0.0->mgwr) (8.1.8)\n",
      "Requirement already satisfied: click-plugins>=1.0 in /usr/local/lib/python3.11/dist-packages (from fiona>=1.8.21->geopandas>=0.10.0->libpysal>=4.0.0->mgwr) (1.1.1)\n",
      "Requirement already satisfied: cligj>=0.5 in /usr/local/lib/python3.11/dist-packages (from fiona>=1.8.21->geopandas>=0.10.0->libpysal>=4.0.0->mgwr) (0.7.2)\n",
      "Requirement already satisfied: intel-cmplr-lib-ur==2024.2.0 in /usr/local/lib/python3.11/dist-packages (from intel-openmp<2026,>=2024->mkl->numpy>=1.3->mgwr) (2024.2.0)\n",
      "Requirement already satisfied: six>=1.5 in /usr/local/lib/python3.11/dist-packages (from python-dateutil>=2.8.2->pandas>=1.4->libpysal>=4.0.0->mgwr) (1.17.0)\n"
     ]
    }
   ],
   "source": [
    "#step_5\n",
    "\n",
    "!pip install mgwr\n"
   ]
  },
  {
   "cell_type": "code",
   "execution_count": null,
   "metadata": {
    "execution": {
     "iopub.execute_input": "2025-05-10T21:20:20.395850Z",
     "iopub.status.busy": "2025-05-10T21:20:20.395531Z",
     "iopub.status.idle": "2025-05-10T21:20:20.401051Z",
     "shell.execute_reply": "2025-05-10T21:20:20.400252Z",
     "shell.execute_reply.started": "2025-05-10T21:20:20.395824Z"
    },
    "trusted": true
   },
   "outputs": [],
   "source": [
    "#MGWR execution\n",
    "from mgwr.gwr import MGWR\n",
    "from mgwr.sel_bw import Sel_BW\n",
    "from sklearn.preprocessing import StandardScaler\n",
    "import numpy as np\n",
    "\n",
    "\n",
    "medical_outcomes = [\n",
    "    'o_diabetes_quantity_per_capita',\n",
    "    'o_hypertension_quantity_per_capita',\n",
    "    'o_asthma_quantity_per_capita',\n",
    "    'o_depression_quantity_per_capita',\n",
    "    'o_anxiety_quantity_per_capita',\n",
    "    'o_opioids_quantity_per_capita',\n",
    "    'o_total_quantity_per_capita'\n",
    "]\n",
    "\n",
    "# Dictionary to store MGWR models\n",
    "mgwr_models = {}\n"
   ]
  },
  {
   "cell_type": "code",
   "execution_count": 73,
   "metadata": {
    "execution": {
     "iopub.execute_input": "2025-05-10T21:20:32.848330Z",
     "iopub.status.busy": "2025-05-10T21:20:32.848066Z",
     "iopub.status.idle": "2025-05-10T21:46:04.797055Z",
     "shell.execute_reply": "2025-05-10T21:46:04.796160Z",
     "shell.execute_reply.started": "2025-05-10T21:20:32.848311Z"
    },
    "trusted": true
   },
   "outputs": [
    {
     "name": "stdout",
     "output_type": "stream",
     "text": [
      "\n",
      "Processing MGWR for: o_diabetes_quantity_per_capita\n"
     ]
    },
    {
     "data": {
      "application/vnd.jupyter.widget-view+json": {
       "model_id": "bc1345c8ab8f41bb940736fdcc61319a",
       "version_major": 2,
       "version_minor": 0
      },
      "text/plain": [
       "Backfitting:   0%|          | 0/200 [00:00<?, ?it/s]"
      ]
     },
     "metadata": {},
     "output_type": "display_data"
    },
    {
     "name": "stdout",
     "output_type": "stream",
     "text": [
      "Bandwidths selected for o_diabetes_quantity_per_capita: [ 82. 246.  73. 138. 123.  82. 231. 308. 275. 228. 184.]\n"
     ]
    },
    {
     "data": {
      "application/vnd.jupyter.widget-view+json": {
       "model_id": "1d29886b44a24d4abf51707b0e1bd261",
       "version_major": 2,
       "version_minor": 0
      },
      "text/plain": [
       "Inference:   0%|          | 0/1 [00:00<?, ?it/s]"
      ]
     },
     "metadata": {},
     "output_type": "display_data"
    },
    {
     "name": "stdout",
     "output_type": "stream",
     "text": [
      "Coefficient variability (std dev):\n",
      "  Intercept: 3.5658\n",
      "  e_leaf_area_index_low_vegetation: 0.5422\n",
      "  c_net_annual_income: 4.1072\n",
      "  c_percent_8._process_plant_and_machine_operatives: 1.3456\n",
      "  c_percent_commute_bus: 2.3627\n",
      "  c_percent_commute_bicycle: 1.6578\n",
      "  c_percent_student_moved_to_address: 0.7771\n",
      "  e_lake_mix_layer_depth: 0.1525\n",
      "  c_percent_tfw_2km_to_5km: 0.3421\n",
      "  c_percent_5._skilled_trades_occupations: 1.7264\n",
      "  c_percent_asian: 1.5070\n",
      "\n",
      "Processing MGWR for: o_hypertension_quantity_per_capita\n"
     ]
    },
    {
     "data": {
      "application/vnd.jupyter.widget-view+json": {
       "model_id": "16802346c7be4f7c99b263716340000d",
       "version_major": 2,
       "version_minor": 0
      },
      "text/plain": [
       "Backfitting:   0%|          | 0/200 [00:00<?, ?it/s]"
      ]
     },
     "metadata": {},
     "output_type": "display_data"
    },
    {
     "name": "stdout",
     "output_type": "stream",
     "text": [
      "Bandwidths selected for o_hypertension_quantity_per_capita: [308. 246. 246. 120.  43. 234. 308. 121. 144.]\n"
     ]
    },
    {
     "data": {
      "application/vnd.jupyter.widget-view+json": {
       "model_id": "b7e947f65609447c9d230c3984d676ce",
       "version_major": 2,
       "version_minor": 0
      },
      "text/plain": [
       "Inference:   0%|          | 0/1 [00:00<?, ?it/s]"
      ]
     },
     "metadata": {},
     "output_type": "display_data"
    },
    {
     "name": "stdout",
     "output_type": "stream",
     "text": [
      "Coefficient variability (std dev):\n",
      "  Intercept: 0.2888\n",
      "  c_percent_white: 2.3887\n",
      "  e_surface_solar_radiation_downwards_sum: 1.8919\n",
      "  c_percent_commute_bus: 7.4104\n",
      "  e_surface_thermal_radiation_downwards_sum: 14.8333\n",
      "  e_snow_density: 5.8224\n",
      "  e_evaporation_from_the_top_of_canopy_sum: 0.2201\n",
      "  e_evaporation_from_open_water_surfaces_excluding_oceans_sum: 2.4867\n",
      "  c_percent_married_or_in_a_registered_civil_partnership: 6.6074\n",
      "\n",
      "Processing MGWR for: o_asthma_quantity_per_capita\n"
     ]
    },
    {
     "data": {
      "application/vnd.jupyter.widget-view+json": {
       "model_id": "97dd8430f0bc41b29c817b68deaa7be6",
       "version_major": 2,
       "version_minor": 0
      },
      "text/plain": [
       "Backfitting:   0%|          | 0/200 [00:00<?, ?it/s]"
      ]
     },
     "metadata": {},
     "output_type": "display_data"
    },
    {
     "name": "stdout",
     "output_type": "stream",
     "text": [
      "Bandwidths selected for o_asthma_quantity_per_capita: [207.  65. 271. 185. 308. 138. 234. 308.  43.]\n"
     ]
    },
    {
     "data": {
      "application/vnd.jupyter.widget-view+json": {
       "model_id": "85d885abf0b741a4a8d71e6168d66e24",
       "version_major": 2,
       "version_minor": 0
      },
      "text/plain": [
       "Inference:   0%|          | 0/1 [00:00<?, ?it/s]"
      ]
     },
     "metadata": {},
     "output_type": "display_data"
    },
    {
     "name": "stdout",
     "output_type": "stream",
     "text": [
      "Coefficient variability (std dev):\n",
      "  Intercept: 0.4446\n",
      "  c_net_annual_income: 1.4095\n",
      "  c_percent_commute_car: 0.1354\n",
      "  c_percent_commute_bus: 0.4073\n",
      "  e_leaf_area_index_high_vegetation: 0.0300\n",
      "  c_percent_tfw_2km_to_5km: 0.2130\n",
      "  e_lake_mix_layer_depth: 0.2618\n",
      "  e_no2: 0.0368\n",
      "  c_percent_commute_metro_rail: 2.6298\n",
      "\n",
      "Processing MGWR for: o_depression_quantity_per_capita\n"
     ]
    },
    {
     "data": {
      "application/vnd.jupyter.widget-view+json": {
       "model_id": "7ee9698d4c7e486291867abb0093b4c2",
       "version_major": 2,
       "version_minor": 0
      },
      "text/plain": [
       "Backfitting:   0%|          | 0/200 [00:00<?, ?it/s]"
      ]
     },
     "metadata": {},
     "output_type": "display_data"
    },
    {
     "name": "stdout",
     "output_type": "stream",
     "text": [
      "Bandwidths selected for o_depression_quantity_per_capita: [157. 139.  66. 308. 123. 308. 247.  69. 103. 308. 207.]\n"
     ]
    },
    {
     "data": {
      "application/vnd.jupyter.widget-view+json": {
       "model_id": "3bd6cde26ad64bf9a0d203b86b3dbd08",
       "version_major": 2,
       "version_minor": 0
      },
      "text/plain": [
       "Inference:   0%|          | 0/1 [00:00<?, ?it/s]"
      ]
     },
     "metadata": {},
     "output_type": "display_data"
    },
    {
     "name": "stdout",
     "output_type": "stream",
     "text": [
      "Coefficient variability (std dev):\n",
      "  Intercept: 2.7258\n",
      "  c_net_annual_income: 2.8689\n",
      "  c_percent_no_religion: 3.2357\n",
      "  c_percent_asian: 0.0505\n",
      "  c_percent_commute_bus: 1.5739\n",
      "  c_percent_mixed: 0.0366\n",
      "  e_leaf_area_index_low_vegetation: 0.6894\n",
      "  e_surface_thermal_radiation_downwards_sum: 1.7587\n",
      "  c_percent_commute_bicycle: 1.9486\n",
      "  e_lake_mix_layer_depth: 0.0907\n",
      "  e_no2: 1.3805\n",
      "\n",
      "Processing MGWR for: o_anxiety_quantity_per_capita\n"
     ]
    },
    {
     "data": {
      "application/vnd.jupyter.widget-view+json": {
       "model_id": "d399811f6bb242eaae4cd7b9576e9599",
       "version_major": 2,
       "version_minor": 0
      },
      "text/plain": [
       "Backfitting:   0%|          | 0/200 [00:00<?, ?it/s]"
      ]
     },
     "metadata": {},
     "output_type": "display_data"
    },
    {
     "name": "stdout",
     "output_type": "stream",
     "text": [
      "Bandwidths selected for o_anxiety_quantity_per_capita: [ 72. 183. 247. 183.  81.  69. 145. 302. 120.]\n"
     ]
    },
    {
     "data": {
      "application/vnd.jupyter.widget-view+json": {
       "model_id": "8cc32fef4f6245baa973e096f054cd24",
       "version_major": 2,
       "version_minor": 0
      },
      "text/plain": [
       "Inference:   0%|          | 0/1 [00:00<?, ?it/s]"
      ]
     },
     "metadata": {},
     "output_type": "display_data"
    },
    {
     "name": "stdout",
     "output_type": "stream",
     "text": [
      "Coefficient variability (std dev):\n",
      "  Intercept: 5.0703\n",
      "  c_net_annual_income: 3.4304\n",
      "  c_percent_10_years_or_more: 1.0343\n",
      "  e_leaf_area_index_low_vegetation: 1.8696\n",
      "  c_percent_commute_bicycle: 2.5200\n",
      "  e_surface_thermal_radiation_downwards_sum: 2.8200\n",
      "  c_percent_tfw_less_than_2km: 1.0457\n",
      "  e_lake_mix_layer_depth: 0.2768\n",
      "  c_percent_commute_bus: 3.3065\n",
      "\n",
      "Processing MGWR for: o_opioids_quantity_per_capita\n"
     ]
    },
    {
     "data": {
      "application/vnd.jupyter.widget-view+json": {
       "model_id": "321ba82b3ec542a78545588dcca383dd",
       "version_major": 2,
       "version_minor": 0
      },
      "text/plain": [
       "Backfitting:   0%|          | 0/200 [00:00<?, ?it/s]"
      ]
     },
     "metadata": {},
     "output_type": "display_data"
    },
    {
     "name": "stdout",
     "output_type": "stream",
     "text": [
      "Bandwidths selected for o_opioids_quantity_per_capita: [308.  45. 132.  69.  44. 307.  44. 308.  74. 308.]\n"
     ]
    },
    {
     "data": {
      "application/vnd.jupyter.widget-view+json": {
       "model_id": "caa3817d924c470996256362759b7808",
       "version_major": 2,
       "version_minor": 0
      },
      "text/plain": [
       "Inference:   0%|          | 0/1 [00:00<?, ?it/s]"
      ]
     },
     "metadata": {},
     "output_type": "display_data"
    },
    {
     "name": "stdout",
     "output_type": "stream",
     "text": [
      "Coefficient variability (std dev):\n",
      "  Intercept: 0.1346\n",
      "  c_net_annual_income: 3.3737\n",
      "  c_percent_2._professional_occupations: 1.2569\n",
      "  e_surface_thermal_radiation_downwards_sum: 3.4529\n",
      "  c_percent_mixed: 4.6721\n",
      "  c_percent_commute_metro_rail: 0.0645\n",
      "  e_no2: 4.6101\n",
      "  e_lake_mix_layer_depth: 0.0828\n",
      "  e_total_aerosol_optical_depth_at_550nm_surface: 1.5290\n",
      "  e_evaporation_from_the_top_of_canopy_sum: 0.0847\n",
      "\n",
      "Processing MGWR for: o_total_quantity_per_capita\n"
     ]
    },
    {
     "data": {
      "application/vnd.jupyter.widget-view+json": {
       "model_id": "5c08500423f94185b1b4c9a877e38d7b",
       "version_major": 2,
       "version_minor": 0
      },
      "text/plain": [
       "Backfitting:   0%|          | 0/200 [00:00<?, ?it/s]"
      ]
     },
     "metadata": {},
     "output_type": "display_data"
    },
    {
     "name": "stdout",
     "output_type": "stream",
     "text": [
      "Bandwidths selected for o_total_quantity_per_capita: [160. 308.  54.  65. 137. 121. 308. 144. 308.]\n"
     ]
    },
    {
     "data": {
      "application/vnd.jupyter.widget-view+json": {
       "model_id": "996c8ab454f5444596c41ed65e60133f",
       "version_major": 2,
       "version_minor": 0
      },
      "text/plain": [
       "Inference:   0%|          | 0/1 [00:00<?, ?it/s]"
      ]
     },
     "metadata": {},
     "output_type": "display_data"
    },
    {
     "name": "stdout",
     "output_type": "stream",
     "text": [
      "Coefficient variability (std dev):\n",
      "  Intercept: 33.3738\n",
      "  c_percent_10_years_or_more: 2.0760\n",
      "  c_percent_wfh: 82.5251\n",
      "  e_surface_thermal_radiation_downwards_sum: 149.1831\n",
      "  c_percent_commute_bicycle: 46.4726\n",
      "  c_percent_commute_bus: 38.2861\n",
      "  e_evaporation_from_the_top_of_canopy_sum: 7.1022\n",
      "  e_lake_mix_layer_temperature: 34.5271\n",
      "  e_surface_runoff_sum: 0.7579\n"
     ]
    }
   ],
   "source": [
    "for outcome in medical_outcomes:\n",
    "    print(f\"\\nProcessing MGWR for: {outcome}\")\n",
    "\n",
    "    # Get selected predictors (already filtered for multicollinearity)\n",
    "    predictors = selected_predictors_dict.get(outcome, [])\n",
    "    \n",
    "    if not predictors:\n",
    "        print(f\"No predictors found for {outcome}, skipping.\")\n",
    "        continue\n",
    "\n",
    "    # Extract and scale predictors\n",
    "    X_mgwr = df_lad[predictors].copy()\n",
    "    scaler = StandardScaler()\n",
    "    X_scaled = scaler.fit_transform(X_mgwr)\n",
    "\n",
    "    # Target variable\n",
    "    y = df_lad[outcome].values.reshape(-1, 1)\n",
    "\n",
    "    # Coordinates\n",
    "    coords = df_lad[['centroid_x', 'centroid_y']].values\n",
    "\n",
    "    # Bandwidth selection\n",
    "    mgwr_selector = Sel_BW(coords, y, X_scaled, multi=True)\n",
    "    bw = mgwr_selector.search()\n",
    "    print(f\"Bandwidths selected for {outcome}: {bw}\")\n",
    "\n",
    "    # Fit MGWR model\n",
    "    mgwr_model = MGWR(coords, y, X_scaled, selector=mgwr_selector)\n",
    "    mgwr_results = mgwr_model.fit()\n",
    "    mgwr_models[outcome] = mgwr_model\n",
    "\n",
    "    # Store coefficients\n",
    "    mgwr_betas = mgwr_results.params\n",
    "    df_lad[f'{outcome}_mgwr_intercept'] = mgwr_betas[:, 0]\n",
    "    for i, col in enumerate(predictors):\n",
    "        df_lad[f'{outcome}_mgwr_{col}'] = mgwr_betas[:, i + 1]\n",
    "\n",
    "    # Print coefficient variability\n",
    "    coef_stds = np.std(mgwr_betas, axis=0)\n",
    "    print(\"Coefficient variability (std dev):\")\n",
    "    print(f\"  Intercept: {coef_stds[0]:.4f}\")\n",
    "    for i, col in enumerate(predictors):\n",
    "        print(f\"  {col}: {coef_stds[i + 1]:.4f}\")\n"
   ]
  },
  {
   "cell_type": "code",
   "execution_count": null,
   "metadata": {
    "execution": {
     "iopub.execute_input": "2025-05-10T21:47:34.202776Z",
     "iopub.status.busy": "2025-05-10T21:47:34.202099Z",
     "iopub.status.idle": "2025-05-10T21:47:34.428217Z",
     "shell.execute_reply": "2025-05-10T21:47:34.427577Z",
     "shell.execute_reply.started": "2025-05-10T21:47:34.202751Z"
    },
    "trusted": true
   },
   "outputs": [],
   "source": [
    "# Clusters LADs based on MGWR values and saves the results to a CSV file.\n",
    "from sklearn.preprocessing import StandardScaler\n",
    "from sklearn.cluster import KMeans\n",
    "\n",
    "mgwr_cols = [col for col in df_lad.columns if '_mgwr_' in col]\n",
    "mgwr_data = df_lad[mgwr_cols].dropna().copy()\n",
    "lad_names = df_lad.loc[mgwr_data.index, 'lad_name'].values\n",
    "\n",
    "scaler = StandardScaler()\n",
    "mgwr_scaled = scaler.fit_transform(mgwr_data)\n",
    "\n",
    "k = 4\n",
    "kmeans = KMeans(n_clusters=k, random_state=42)\n",
    "cluster_labels = kmeans.fit_predict(mgwr_scaled)\n",
    "\n",
    "df_lad.loc[mgwr_data.index, 'mgwr_region'] = cluster_labels"
   ]
  },
  {
   "cell_type": "code",
   "execution_count": 76,
   "metadata": {
    "execution": {
     "iopub.execute_input": "2025-05-10T21:50:32.186990Z",
     "iopub.status.busy": "2025-05-10T21:50:32.186267Z",
     "iopub.status.idle": "2025-05-10T21:50:32.242669Z",
     "shell.execute_reply": "2025-05-10T21:50:32.241983Z",
     "shell.execute_reply.started": "2025-05-10T21:50:32.186964Z"
    },
    "trusted": true
   },
   "outputs": [
    {
     "name": "stdout",
     "output_type": "stream",
     "text": [
      "       lad_name  mgwr_region  o_diabetes_quantity_per_capita_mgwr_intercept  \\\n",
      "0          Adur          0.0                                      41.669023   \n",
      "1     Allerdale          3.0                                      32.564670   \n",
      "2  Amber Valley          2.0                                      35.336556   \n",
      "3          Arun          0.0                                      42.275840   \n",
      "4      Ashfield          2.0                                      35.555053   \n",
      "\n",
      "   o_diabetes_quantity_per_capita_mgwr_e_leaf_area_index_low_vegetation  \\\n",
      "0                                           0.634895                      \n",
      "1                                          -0.732608                      \n",
      "2                                          -0.627625                      \n",
      "3                                           0.616611                      \n",
      "4                                          -0.642266                      \n",
      "\n",
      "   o_diabetes_quantity_per_capita_mgwr_c_net_annual_income  \\\n",
      "0                                           2.031851         \n",
      "1                                          -7.046260         \n",
      "2                                          -9.045930         \n",
      "3                                           2.183664         \n",
      "4                                          -9.132914         \n",
      "\n",
      "   o_diabetes_quantity_per_capita_mgwr_c_percent_8._process_plant_and_machine_operatives  \\\n",
      "0                                           3.172632                                       \n",
      "1                                           0.664092                                       \n",
      "2                                           1.306974                                       \n",
      "3                                           3.233891                                       \n",
      "4                                           0.849901                                       \n",
      "\n",
      "   o_diabetes_quantity_per_capita_mgwr_c_percent_commute_bus  \\\n",
      "0                                           0.459842           \n",
      "1                                          -3.331531           \n",
      "2                                          -4.780502           \n",
      "3                                           0.434266           \n",
      "4                                          -4.838535           \n",
      "\n",
      "   o_diabetes_quantity_per_capita_mgwr_c_percent_commute_bicycle  \\\n",
      "0                                          -1.251389               \n",
      "1                                          -2.650402               \n",
      "2                                          -5.135158               \n",
      "3                                          -0.497740               \n",
      "4                                          -5.119792               \n",
      "\n",
      "   o_diabetes_quantity_per_capita_mgwr_c_percent_student_moved_to_address  \\\n",
      "0                                          -1.894681                        \n",
      "1                                          -0.155731                        \n",
      "2                                          -0.032423                        \n",
      "3                                          -1.939547                        \n",
      "4                                           0.074728                        \n",
      "\n",
      "   o_diabetes_quantity_per_capita_mgwr_e_lake_mix_layer_depth  ...  \\\n",
      "0                                          -0.237645           ...   \n",
      "1                                           0.199259           ...   \n",
      "2                                           0.031364           ...   \n",
      "3                                          -0.248450           ...   \n",
      "4                                           0.043722           ...   \n",
      "\n",
      "   o_opioids_quantity_per_capita_mgwr_e_evaporation_from_the_top_of_canopy_sum  \\\n",
      "0                                          -0.625353                             \n",
      "1                                          -0.437701                             \n",
      "2                                          -0.474181                             \n",
      "3                                          -0.632760                             \n",
      "4                                          -0.468917                             \n",
      "\n",
      "   o_total_quantity_per_capita_mgwr_intercept  \\\n",
      "0                                 1196.863343   \n",
      "1                                 1110.932780   \n",
      "2                                 1118.798297   \n",
      "3                                 1195.492890   \n",
      "4                                 1120.232504   \n",
      "\n",
      "   o_total_quantity_per_capita_mgwr_c_percent_10_years_or_more  \\\n",
      "0                                         -96.586208             \n",
      "1                                        -103.886966             \n",
      "2                                         -98.557509             \n",
      "3                                         -96.473281             \n",
      "4                                         -98.784975             \n",
      "\n",
      "   o_total_quantity_per_capita_mgwr_c_percent_wfh  \\\n",
      "0                                      -96.133682   \n",
      "1                                       17.822863   \n",
      "2                                     -228.683558   \n",
      "3                                     -107.077827   \n",
      "4                                     -215.178522   \n",
      "\n",
      "   o_total_quantity_per_capita_mgwr_e_surface_thermal_radiation_downwards_sum  \\\n",
      "0                                         273.899930                            \n",
      "1                                        -108.306811                            \n",
      "2                                         -81.365011                            \n",
      "3                                         235.078444                            \n",
      "4                                         -74.748829                            \n",
      "\n",
      "   o_total_quantity_per_capita_mgwr_c_percent_commute_bicycle  \\\n",
      "0                                         -37.764023            \n",
      "1                                        -126.478435            \n",
      "2                                        -128.937319            \n",
      "3                                         -39.144847            \n",
      "4                                        -127.628184            \n",
      "\n",
      "   o_total_quantity_per_capita_mgwr_c_percent_commute_bus  \\\n",
      "0                                         -31.746094        \n",
      "1                                         -14.270405        \n",
      "2                                        -111.803634        \n",
      "3                                         -32.780575        \n",
      "4                                        -121.466330        \n",
      "\n",
      "   o_total_quantity_per_capita_mgwr_e_evaporation_from_the_top_of_canopy_sum  \\\n",
      "0                                        -103.833135                           \n",
      "1                                         -82.041728                           \n",
      "2                                         -90.260724                           \n",
      "3                                        -103.602577                           \n",
      "4                                         -90.167436                           \n",
      "\n",
      "   o_total_quantity_per_capita_mgwr_e_lake_mix_layer_temperature  \\\n",
      "0                                         -10.942854               \n",
      "1                                          35.706023               \n",
      "2                                          22.577872               \n",
      "3                                          -8.306809               \n",
      "4                                          23.308221               \n",
      "\n",
      "   o_total_quantity_per_capita_mgwr_e_surface_runoff_sum  \n",
      "0                                         -61.373754      \n",
      "1                                         -61.271259      \n",
      "2                                         -59.580060      \n",
      "3                                         -61.348339      \n",
      "4                                         -59.715565      \n",
      "\n",
      "[5 rows x 70 columns]\n",
      "MGWR local coefficients saved to 'mgwr_local_coefficients.csv'\n"
     ]
    }
   ],
   "source": [
    "df_lad['mgwr_region'].value_counts()\n",
    "df_lad[['lad_name', 'mgwr_region'] + mgwr_cols].head()\n",
    "\n",
    "export_df = df_lad[['lad_name', 'mgwr_region'] + mgwr_cols]\n",
    "print(export_df.head())\n",
    "\n",
    "export_df.to_csv(\"mgwr_local_coefficients.csv\", index=False)\n",
    "print(\"MGWR local coefficients saved to 'mgwr_local_coefficients.csv'\")\n",
    "\n"
   ]
  },
  {
   "cell_type": "code",
   "execution_count": null,
   "metadata": {
    "trusted": true
   },
   "outputs": [],
   "source": []
  },
  {
   "cell_type": "code",
   "execution_count": null,
   "metadata": {
    "trusted": true
   },
   "outputs": [],
   "source": []
  }
 ],
 "metadata": {
  "kaggle": {
   "accelerator": "nvidiaTeslaT4",
   "dataSources": [
    {
     "datasetId": 7086169,
     "sourceId": 11328205,
     "sourceType": "datasetVersion"
    },
    {
     "datasetId": 7165545,
     "sourceId": 11439075,
     "sourceType": "datasetVersion"
    },
    {
     "datasetId": 7165839,
     "sourceId": 11439445,
     "sourceType": "datasetVersion"
    }
   ],
   "dockerImageVersionId": 31011,
   "isGpuEnabled": true,
   "isInternetEnabled": true,
   "language": "python",
   "sourceType": "notebook"
  },
  "kernelspec": {
   "display_name": "Python 3",
   "language": "python",
   "name": "python3"
  },
  "language_info": {
   "codemirror_mode": {
    "name": "ipython",
    "version": 3
   },
   "file_extension": ".py",
   "mimetype": "text/x-python",
   "name": "python",
   "nbconvert_exporter": "python",
   "pygments_lexer": "ipython3",
   "version": "3.11.11"
  }
 },
 "nbformat": 4,
 "nbformat_minor": 4
}
